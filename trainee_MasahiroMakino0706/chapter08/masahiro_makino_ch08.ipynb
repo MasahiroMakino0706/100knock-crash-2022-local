{
 "cells": [
  {
   "cell_type": "markdown",
   "metadata": {
    "id": "_feZb3i1I5qz"
   },
   "source": [
    "# 8章：ニューラルネット\n",
    "第6章で取り組んだニュース記事のカテゴリ分類を題材として，ニューラルネットワークでカテゴリ分類モデルを実装する．なお，この章ではPyTorch, TensorFlow, Chainerなどの機械学習プラットフォームを活用せよ。  "
   ]
  },
  {
   "cell_type": "markdown",
   "metadata": {
    "id": "zbLnQEMeK-eC"
   },
   "source": [
    "## 70. 単語ベクトルの和による特徴量\n",
    "\n",
    "問題50で構築した学習データ，検証データ，評価データを行列・ベクトルに変換したい．例えば，学習データについて，すべての事例$x_i$の特徴ベクトル$\\boldsymbol{x}_i$を並べた行列$X$と正解ラベルを並べた行列（ベクトル）$Y$を作成したい．\n",
    "\n",
    "$$\n",
    "X = \\begin{pmatrix} \n",
    "  \\boldsymbol{x}_1 \\\\ \n",
    "  \\boldsymbol{x}_2 \\\\ \n",
    "  \\dots \\\\ \n",
    "  \\boldsymbol{x}_n \\\\ \n",
    "\\end{pmatrix} \\in \\mathbb{R}^{n \\times d},\n",
    "Y = \\begin{pmatrix} \n",
    "  y_1 \\\\ \n",
    "  y_2 \\\\ \n",
    "  \\dots \\\\ \n",
    "  y_n \\\\ \n",
    "\\end{pmatrix} \\in \\mathbb{N}^{n}\n",
    "$$\n",
    "\n",
    "\n",
    " ここで，$n$は学習データの事例数であり，$\\boldsymbol x_i \\in \\mathbb{R}^d$と$y_i \\in \\mathbb N$はそれぞれ，$i \\in \\{1, \\dots, n\\}$番目の事例の特徴量ベクトルと正解ラベルを表す．\n",
    " なお，今回は「ビジネス」「科学技術」「エンターテイメント」「健康」の4カテゴリ分類である．$\\mathbb N_{<4}$で$4$未満の自然数（$0$を含む）を表すことにすれば，任意の事例の正解ラベル$y_i$は$y_i \\in \\mathbb N_{<4}$で表現できる．\n",
    " 以降では，ラベルの種類数を$L$で表す（今回の分類タスクでは$L=4$である）．\n",
    "\n",
    " $i$番目の事例の特徴ベクトル$\\boldsymbol x_i$は，次式で求める．\n",
    "\n",
    " $$\\boldsymbol x_i = \\frac{1}{T_i} \\sum_{t=1}^{T_i} \\mathrm{emb}(w_{i,t})$$\n",
    "\n",
    " ここで，$i$番目の事例は$T_i$個の（記事見出しの）単語列$(w_{i,1}, w_{i,2}, \\dots, w_{i,T_i})$から構成され，$\\mathrm{emb}(w) \\in \\mathbb{R}^d$は単語$w$に対応する単語ベクトル（次元数は$d$）である．  \n",
    " すなわち，$i$番目の事例の記事見出しを，その見出しに含まれる単語のベクトルの平均で表現したものが$\\boldsymbol x_i$である．今回は単語ベクトルとして，問題60でダウンロードしたものを用いればよい．$300$次元の単語ベクトルを用いたので，$d=300$である．  \n",
    " $i$番目の事例のラベル$y_i$は，次のように定義する．\n",
    "\n",
    "$$\n",
    "y_i = \\begin{cases}\n",
    "0 & (\\mbox{記事}\\boldsymbol x_i\\mbox{が「ビジネス」カテゴリの場合}) \\\\\n",
    "1 & (\\mbox{記事}\\boldsymbol x_i\\mbox{が「科学技術」カテゴリの場合}) \\\\\n",
    "2 & (\\mbox{記事}\\boldsymbol x_i\\mbox{が「エンターテイメント」カテゴリの場合}) \\\\\n",
    "3 & (\\mbox{記事}\\boldsymbol x_i\\mbox{が「健康」カテゴリの場合}) \\\\\n",
    "\\end{cases}\n",
    "$$\n",
    "\n",
    "なお，カテゴリ名とラベルの番号が一対一で対応付いていれば，上式の通りの対応付けでなくてもよい．\n",
    "\n",
    "以上の仕様に基づき，以下の行列・ベクトルを作成し，ファイルに保存せよ．\n",
    "\n",
    " + 学習データの特徴量行列: $X_{\\rm train} \\in \\mathbb{R}^{N_t \\times d}$\n",
    " + 学習データのラベルベクトル: $Y_{\\rm train} \\in \\mathbb{N}^{N_t}$\n",
    " + 検証データの特徴量行列: $X_{\\rm valid} \\in \\mathbb{R}^{N_v \\times d}$\n",
    " + 検証データのラベルベクトル: $Y_{\\rm valid} \\in \\mathbb{N}^{N_v}$\n",
    " + 評価データの特徴量行列: $X_{\\rm test} \\in \\mathbb{R}^{N_e \\times d}$\n",
    " + 評価データのラベルベクトル: $Y_{\\rm test} \\in \\mathbb{N}^{N_e}$\n",
    "\n",
    "なお，$N_t, N_v, N_e$はそれぞれ，学習データの事例数，検証データの事例数，評価データの事例数である．"
   ]
  },
  {
   "cell_type": "code",
   "execution_count": 1,
   "metadata": {},
   "outputs": [
    {
     "name": "stdout",
     "output_type": "stream",
     "text": [
      "\n",
      "     active environment : None\n",
      "       user config file : /Users/makino/.condarc\n",
      " populated config files : \n",
      "          conda version : 4.13.0\n",
      "    conda-build version : 3.21.9\n",
      "         python version : 3.8.8.final.0\n",
      "       virtual packages : __osx=10.16=0\n",
      "                          __unix=0=0\n",
      "                          __archspec=1=x86_64\n",
      "       base environment : /Users/makino/.pyenv/versions/anaconda3-2021.05  (writable)\n",
      "      conda av data dir : /Users/makino/.pyenv/versions/anaconda3-2021.05/etc/conda\n",
      "  conda av metadata url : None\n",
      "           channel URLs : https://repo.anaconda.com/pkgs/main/osx-64\n",
      "                          https://repo.anaconda.com/pkgs/main/noarch\n",
      "                          https://repo.anaconda.com/pkgs/r/osx-64\n",
      "                          https://repo.anaconda.com/pkgs/r/noarch\n",
      "          package cache : /Users/makino/.pyenv/versions/anaconda3-2021.05/pkgs\n",
      "                          /Users/makino/.conda/pkgs\n",
      "       envs directories : /Users/makino/.pyenv/versions/anaconda3-2021.05/envs\n",
      "                          /Users/makino/.conda/envs\n",
      "               platform : osx-64\n",
      "             user-agent : conda/4.13.0 requests/2.25.1 CPython/3.8.8 Darwin/21.4.0 OSX/10.16\n",
      "                UID:GID : 501:20\n",
      "             netrc file : None\n",
      "           offline mode : False\n",
      "\n"
     ]
    }
   ],
   "source": [
    "!conda info"
   ]
  },
  {
   "cell_type": "code",
   "execution_count": 2,
   "metadata": {},
   "outputs": [],
   "source": [
    "import pandas as pd\n",
    "import numpy as np\n",
    "import torch\n",
    "import torch.nn as nn\n",
    "import gensim\n",
    "from gensim.models import word2vec\n",
    "from gensim.models import KeyedVectors\n",
    "import sys"
   ]
  },
  {
   "cell_type": "code",
   "execution_count": 3,
   "metadata": {},
   "outputs": [],
   "source": [
    "#データの取り出し\n",
    "train = pd.read_table('data/train.txt')\n",
    "valid = pd.read_table('data/valid.txt')\n",
    "test = pd.read_table('data/test.txt')"
   ]
  },
  {
   "cell_type": "code",
   "execution_count": 4,
   "metadata": {},
   "outputs": [],
   "source": [
    "#タイトル列のみの抽出→特徴量の生成\n",
    "X_train = train['TITLE']\n",
    "X_valid = valid['TITLE']\n",
    "X_test = test['TITLE']"
   ]
  },
  {
   "cell_type": "code",
   "execution_count": 5,
   "metadata": {},
   "outputs": [],
   "source": [
    "#カテゴリ列のみの抽出→ラベルの生成\n",
    "Y_train = train['CATEGORY']\n",
    "Y_valid = valid['CATEGORY']\n",
    "Y_test = test['CATEGORY']"
   ]
  },
  {
   "cell_type": "code",
   "execution_count": 6,
   "metadata": {},
   "outputs": [],
   "source": [
    "#word2vecをダウンロード\n",
    "EMBEDDING_FILE = 'data/GoogleNews-vectors-negative300.bin.gz'\n",
    "word_vectors = KeyedVectors.load_word2vec_format(EMBEDDING_FILE, binary=True)"
   ]
  },
  {
   "cell_type": "code",
   "execution_count": 7,
   "metadata": {},
   "outputs": [],
   "source": [
    "#ベクトル表現の生成関数を定義\n",
    "def create_vector(data):\n",
    "    result = []\n",
    "    for i in range(len(data)):\n",
    "        listdata = data[i].split(' ')\n",
    "        subresult = np.zeros(300)\n",
    "        number = 0\n",
    "        for j in range(len(listdata)):\n",
    "            try:\n",
    "                subresult += word_vectors[listdata[j]]\n",
    "                number += 1\n",
    "            except Exception as e: #単語埋め込み範囲外の語彙を見つけた時に例外処理\n",
    "                pass\n",
    "        if number == 0:\n",
    "            result.append(subresult)\n",
    "        else:\n",
    "            result.append(subresult/number)\n",
    "    return result"
   ]
  },
  {
   "cell_type": "code",
   "execution_count": 8,
   "metadata": {},
   "outputs": [],
   "source": [
    "#特徴量においてベクトル表現を生成\n",
    "X_train = create_vector(X_train)\n",
    "X_valid = create_vector(X_valid)\n",
    "X_test = create_vector(X_test)"
   ]
  },
  {
   "cell_type": "code",
   "execution_count": 9,
   "metadata": {},
   "outputs": [],
   "source": [
    "#ラベルにおいて特徴量を生成\n",
    "dct_int = {'b': 0, 't': 1, 'e': 2,'m': 3}\n",
    "Y_train = Y_train.replace(dct_int)\n",
    "Y_valid = Y_valid.replace(dct_int)\n",
    "Y_test = Y_test.replace(dct_int)"
   ]
  },
  {
   "cell_type": "code",
   "execution_count": 10,
   "metadata": {},
   "outputs": [],
   "source": [
    "#型を合わせる\n",
    "X_train = torch.tensor(np.array(X_train)).float()\n",
    "X_valid = torch.tensor(np.array(X_valid)).float()\n",
    "X_test = torch.tensor(np.array(X_test)).float()\n",
    "\n",
    "Y_train = torch.tensor(Y_train.values)\n",
    "Y_valid = torch.tensor(Y_valid.values)\n",
    "Y_test = torch.tensor(Y_test.values)"
   ]
  },
  {
   "cell_type": "code",
   "execution_count": 11,
   "metadata": {
    "tags": []
   },
   "outputs": [],
   "source": [
    "torch.save(X_train, 'data/X_train.pt')\n",
    "torch.save(X_valid, 'data/X_valid.pt')\n",
    "torch.save(X_test, 'data/X_test.pt')\n",
    "\n",
    "torch.save(Y_train, 'data/Y_train.pt')\n",
    "torch.save(Y_valid, 'data/Y_valid.pt')\n",
    "torch.save(Y_test, 'data/Y_test.pt')"
   ]
  },
  {
   "cell_type": "code",
   "execution_count": 12,
   "metadata": {},
   "outputs": [
    {
     "data": {
      "text/plain": [
       "72"
      ]
     },
     "execution_count": 12,
     "metadata": {},
     "output_type": "execute_result"
    }
   ],
   "source": [
    "sys.getsizeof(X_train)"
   ]
  },
  {
   "cell_type": "code",
   "execution_count": 13,
   "metadata": {},
   "outputs": [
    {
     "data": {
      "text/plain": [
       "72"
      ]
     },
     "execution_count": 13,
     "metadata": {},
     "output_type": "execute_result"
    }
   ],
   "source": [
    "sys.getsizeof(Y_train)"
   ]
  },
  {
   "cell_type": "code",
   "execution_count": 14,
   "metadata": {},
   "outputs": [
    {
     "name": "stdout",
     "output_type": "stream",
     "text": [
      "tensor([ 0.0592,  0.0824, -0.0097,  0.0270,  0.0154,  0.0245,  0.0567, -0.1834,\n",
      "         0.0445,  0.1768, -0.0316, -0.0606, -0.0335, -0.0288, -0.1393,  0.0919,\n",
      "         0.0998,  0.1269,  0.0377, -0.0957,  0.0409,  0.0197,  0.0662, -0.0424,\n",
      "         0.1469,  0.0632, -0.0727,  0.0196,  0.0128,  0.0708, -0.0298, -0.0847,\n",
      "         0.0216,  0.0292, -0.0354,  0.0513, -0.0003,  0.0316,  0.0469,  0.0959,\n",
      "         0.0652, -0.0178,  0.0903,  0.0345, -0.0337, -0.0521, -0.0040,  0.0009,\n",
      "        -0.0024,  0.0496, -0.0199,  0.0328,  0.0528,  0.0122, -0.0247,  0.0053,\n",
      "        -0.0511, -0.0136,  0.0618, -0.0557, -0.0510,  0.0078, -0.1112, -0.0732,\n",
      "        -0.0790,  0.0720, -0.0147,  0.0128,  0.0134,  0.0908,  0.1413, -0.0166,\n",
      "         0.0152, -0.0697, -0.1124, -0.0726,  0.0217,  0.0623,  0.0425, -0.0262,\n",
      "        -0.0206, -0.0588,  0.0466,  0.0362,  0.0951, -0.0777, -0.1627,  0.0812,\n",
      "        -0.0048,  0.0666,  0.0220,  0.0350, -0.0831, -0.0594,  0.0467, -0.0891,\n",
      "         0.0581, -0.0577,  0.1133, -0.0082, -0.0027, -0.0398,  0.0436,  0.0074,\n",
      "        -0.0177, -0.1230, -0.0618,  0.0091,  0.0778,  0.0191,  0.0244, -0.0434,\n",
      "        -0.1262, -0.0318,  0.1236,  0.0325,  0.0131,  0.0514,  0.1067,  0.1049,\n",
      "         0.0068,  0.0680,  0.0137,  0.0785, -0.0339, -0.0163, -0.0865, -0.0950,\n",
      "         0.0261, -0.0178, -0.0529, -0.0779, -0.0476, -0.0110, -0.0593, -0.0365,\n",
      "        -0.0684,  0.0673, -0.0551,  0.0943,  0.1024, -0.0017,  0.0281, -0.0521,\n",
      "         0.0299, -0.0049,  0.0525, -0.0175, -0.0828, -0.0011,  0.2150, -0.0472,\n",
      "        -0.0649, -0.0217, -0.0227,  0.0402, -0.1189, -0.1124, -0.0665, -0.0492,\n",
      "        -0.0654,  0.0970,  0.1266, -0.0241, -0.0500, -0.0498,  0.0538, -0.0694,\n",
      "        -0.0152, -0.0012, -0.0877,  0.0350,  0.0743, -0.0440, -0.0302, -0.0472,\n",
      "         0.1053, -0.1361, -0.0043, -0.0036, -0.1297, -0.0602,  0.0465, -0.0241,\n",
      "         0.0538, -0.0514,  0.0594,  0.0331,  0.0336,  0.0398, -0.0322, -0.0434,\n",
      "        -0.0227,  0.0563,  0.0255,  0.0315,  0.0232, -0.0675, -0.0352, -0.1173,\n",
      "        -0.0778,  0.0034,  0.0379,  0.0135, -0.0153, -0.0123, -0.0356, -0.0514,\n",
      "         0.0635, -0.0370,  0.0155,  0.0377, -0.0904,  0.0646, -0.1574,  0.0187,\n",
      "         0.0207, -0.0244, -0.0326, -0.0574, -0.0333,  0.0802, -0.0419,  0.0346,\n",
      "         0.0264, -0.1510, -0.0459,  0.0923,  0.0169,  0.0319,  0.0503,  0.0964,\n",
      "        -0.1053, -0.0005, -0.0488, -0.0688, -0.0363, -0.0856,  0.0841,  0.0111,\n",
      "        -0.0366,  0.1088,  0.0183, -0.0920, -0.1027,  0.0744,  0.0235, -0.0304,\n",
      "         0.0440, -0.1446,  0.0262,  0.1751, -0.0071, -0.0392, -0.1299,  0.0032,\n",
      "         0.0750, -0.0204,  0.0033, -0.0354,  0.0747,  0.0225,  0.0346, -0.0362,\n",
      "         0.0458,  0.0530, -0.1050, -0.0339, -0.1061, -0.0678,  0.0477,  0.0488,\n",
      "         0.0834, -0.0153,  0.1116,  0.0109, -0.0413, -0.1121, -0.0279,  0.0144,\n",
      "        -0.0071,  0.0558,  0.0930,  0.0223,  0.0128,  0.0169, -0.1107,  0.0286,\n",
      "         0.0680, -0.0153,  0.0225, -0.0388, -0.0351,  0.0274, -0.0023,  0.0158,\n",
      "         0.0312, -0.0199, -0.0048, -0.0473])\n"
     ]
    }
   ],
   "source": [
    "print(X_train[0])"
   ]
  },
  {
   "cell_type": "code",
   "execution_count": 15,
   "metadata": {},
   "outputs": [
    {
     "name": "stdout",
     "output_type": "stream",
     "text": [
      "300\n"
     ]
    }
   ],
   "source": [
    "print(len(X_train[0]))"
   ]
  },
  {
   "cell_type": "markdown",
   "metadata": {
    "id": "2GCShFBPtZB0"
   },
   "source": [
    "## 71. 単層ニューラルネットワークによる予測\n",
    "問題70で保存した行列を読み込み，学習データについて以下の計算を実行せよ．\n",
    "\n",
    "$$ \n",
    "\\hat{y}_1=softmax(x_1W),\\\\\\hat{Y}=softmax(X_{[1:4]}W)\n",
    "$$\n",
    "\n",
    "\n",
    "ただし，$softmax$はソフトマックス関数，$X_{[1:4]}∈\\mathbb{R}^{4×d}$は特徴ベクトル$x_1$,$x_2$,$x_3$,$x_4$を縦に並べた行列である．\n",
    "\n",
    "$$\n",
    "X_{[1:4]}=\\begin{pmatrix}x_1\\\\x_2\\\\x_3\\\\x_4\\end{pmatrix}\n",
    "$$\n",
    "\n",
    "行列$W \\in \\mathbb{R}^{d \\times L}$は単層ニューラルネットワークの重み行列で，ここではランダムな値で初期化すればよい（問題73以降で学習して求める）．  \n",
    "なお，$\\hat{\\boldsymbol y_1} \\in \\mathbb{R}^L$は未学習の行列$W$で事例$x_1$を分類したときに，各カテゴリに属する確率を表すベクトルである．\n",
    "同様に，$\\hat{Y} \\in \\mathbb{R}^{n \\times L}$は，学習データの事例$x_1, x_2, x_3, x_4$について，各カテゴリに属する確率を行列として表現している．\n"
   ]
  },
  {
   "cell_type": "code",
   "execution_count": 16,
   "metadata": {},
   "outputs": [],
   "source": [
    "X_train = torch.load('data/X_train.pt')\n",
    "X_valid = torch.load('data/X_valid.pt')\n",
    "X_test = torch.load('data/X_test.pt')\n",
    "Y_train = torch.load('data/Y_train.pt')\n",
    "Y_valid = torch.load('data/Y_valid.pt')\n",
    "Y_test = torch.load('data/Y_test.pt')"
   ]
  },
  {
   "cell_type": "code",
   "execution_count": 17,
   "metadata": {},
   "outputs": [
    {
     "name": "stdout",
     "output_type": "stream",
     "text": [
      "tensor([ 0.0592,  0.0824, -0.0097,  0.0270,  0.0154,  0.0245,  0.0567, -0.1834,\n",
      "         0.0445,  0.1768, -0.0316, -0.0606, -0.0335, -0.0288, -0.1393,  0.0919,\n",
      "         0.0998,  0.1269,  0.0377, -0.0957,  0.0409,  0.0197,  0.0662, -0.0424,\n",
      "         0.1469,  0.0632, -0.0727,  0.0196,  0.0128,  0.0708, -0.0298, -0.0847,\n",
      "         0.0216,  0.0292, -0.0354,  0.0513, -0.0003,  0.0316,  0.0469,  0.0959,\n",
      "         0.0652, -0.0178,  0.0903,  0.0345, -0.0337, -0.0521, -0.0040,  0.0009,\n",
      "        -0.0024,  0.0496, -0.0199,  0.0328,  0.0528,  0.0122, -0.0247,  0.0053,\n",
      "        -0.0511, -0.0136,  0.0618, -0.0557, -0.0510,  0.0078, -0.1112, -0.0732,\n",
      "        -0.0790,  0.0720, -0.0147,  0.0128,  0.0134,  0.0908,  0.1413, -0.0166,\n",
      "         0.0152, -0.0697, -0.1124, -0.0726,  0.0217,  0.0623,  0.0425, -0.0262,\n",
      "        -0.0206, -0.0588,  0.0466,  0.0362,  0.0951, -0.0777, -0.1627,  0.0812,\n",
      "        -0.0048,  0.0666,  0.0220,  0.0350, -0.0831, -0.0594,  0.0467, -0.0891,\n",
      "         0.0581, -0.0577,  0.1133, -0.0082, -0.0027, -0.0398,  0.0436,  0.0074,\n",
      "        -0.0177, -0.1230, -0.0618,  0.0091,  0.0778,  0.0191,  0.0244, -0.0434,\n",
      "        -0.1262, -0.0318,  0.1236,  0.0325,  0.0131,  0.0514,  0.1067,  0.1049,\n",
      "         0.0068,  0.0680,  0.0137,  0.0785, -0.0339, -0.0163, -0.0865, -0.0950,\n",
      "         0.0261, -0.0178, -0.0529, -0.0779, -0.0476, -0.0110, -0.0593, -0.0365,\n",
      "        -0.0684,  0.0673, -0.0551,  0.0943,  0.1024, -0.0017,  0.0281, -0.0521,\n",
      "         0.0299, -0.0049,  0.0525, -0.0175, -0.0828, -0.0011,  0.2150, -0.0472,\n",
      "        -0.0649, -0.0217, -0.0227,  0.0402, -0.1189, -0.1124, -0.0665, -0.0492,\n",
      "        -0.0654,  0.0970,  0.1266, -0.0241, -0.0500, -0.0498,  0.0538, -0.0694,\n",
      "        -0.0152, -0.0012, -0.0877,  0.0350,  0.0743, -0.0440, -0.0302, -0.0472,\n",
      "         0.1053, -0.1361, -0.0043, -0.0036, -0.1297, -0.0602,  0.0465, -0.0241,\n",
      "         0.0538, -0.0514,  0.0594,  0.0331,  0.0336,  0.0398, -0.0322, -0.0434,\n",
      "        -0.0227,  0.0563,  0.0255,  0.0315,  0.0232, -0.0675, -0.0352, -0.1173,\n",
      "        -0.0778,  0.0034,  0.0379,  0.0135, -0.0153, -0.0123, -0.0356, -0.0514,\n",
      "         0.0635, -0.0370,  0.0155,  0.0377, -0.0904,  0.0646, -0.1574,  0.0187,\n",
      "         0.0207, -0.0244, -0.0326, -0.0574, -0.0333,  0.0802, -0.0419,  0.0346,\n",
      "         0.0264, -0.1510, -0.0459,  0.0923,  0.0169,  0.0319,  0.0503,  0.0964,\n",
      "        -0.1053, -0.0005, -0.0488, -0.0688, -0.0363, -0.0856,  0.0841,  0.0111,\n",
      "        -0.0366,  0.1088,  0.0183, -0.0920, -0.1027,  0.0744,  0.0235, -0.0304,\n",
      "         0.0440, -0.1446,  0.0262,  0.1751, -0.0071, -0.0392, -0.1299,  0.0032,\n",
      "         0.0750, -0.0204,  0.0033, -0.0354,  0.0747,  0.0225,  0.0346, -0.0362,\n",
      "         0.0458,  0.0530, -0.1050, -0.0339, -0.1061, -0.0678,  0.0477,  0.0488,\n",
      "         0.0834, -0.0153,  0.1116,  0.0109, -0.0413, -0.1121, -0.0279,  0.0144,\n",
      "        -0.0071,  0.0558,  0.0930,  0.0223,  0.0128,  0.0169, -0.1107,  0.0286,\n",
      "         0.0680, -0.0153,  0.0225, -0.0388, -0.0351,  0.0274, -0.0023,  0.0158,\n",
      "         0.0312, -0.0199, -0.0048, -0.0473])\n",
      "tensor(0)\n"
     ]
    }
   ],
   "source": [
    "print(X_train[0])\n",
    "print(Y_train[0])"
   ]
  },
  {
   "cell_type": "code",
   "execution_count": 18,
   "metadata": {},
   "outputs": [],
   "source": [
    "#ニューラルネットワーク構築\n",
    "class NeuralNetwork(torch.nn.Module):\n",
    "    def __init__(self):\n",
    "        super().__init__()\n",
    "        self.layer1 = nn.Linear(300, 4, bias=False)\n",
    "        \n",
    "    def forward(self, input):\n",
    "        output = self.layer1(input)\n",
    "        return output\n",
    "    \n",
    "model = NeuralNetwork()"
   ]
  },
  {
   "cell_type": "code",
   "execution_count": 19,
   "metadata": {},
   "outputs": [
    {
     "name": "stdout",
     "output_type": "stream",
     "text": [
      "[tensor([-0.0388,  0.0192,  0.0382, -0.0127], grad_fn=<SqueezeBackward3>), tensor([-0.0369,  0.0025,  0.0092, -0.0384], grad_fn=<SqueezeBackward3>), tensor([-0.0232,  0.0051, -0.0154, -0.0167], grad_fn=<SqueezeBackward3>), tensor([-0.0690, -0.0330, -0.0011, -0.0573], grad_fn=<SqueezeBackward3>)]\n"
     ]
    },
    {
     "data": {
      "text/plain": [
       "'\\njupyter notebookでmodel(入力)を実行しようとすると\\n\\nKernel Restarting\\nThe kernel for masahiro_makino_chapter08.ipynb appears to have died. It will restart automatically.\\n\\nとエラーが出る。ちなみにサーバー上でPythonのスクリプトファイルを実行すればエラーが出ることなく実行できます。\\n'"
      ]
     },
     "execution_count": 19,
     "metadata": {},
     "output_type": "execute_result"
    }
   ],
   "source": [
    "#活性化関数の定義\n",
    "activation = nn.Softmax(dim=0)\n",
    "\n",
    "#Yの生成\n",
    "result = []\n",
    "for i in range(4):\n",
    "    result.append(model(X_train[i]))\n",
    "\n",
    "\n",
    "#Yのプリント\n",
    "print(result)\n",
    "\n",
    "'''\n",
    "jupyter notebookでmodel(入力)を実行しようとすると\n",
    "\n",
    "Kernel Restarting\n",
    "The kernel for masahiro_makino_chapter08.ipynb appears to have died. It will restart automatically.\n",
    "\n",
    "とエラーが出る。ちなみにサーバー上でPythonのスクリプトファイルを実行すればエラーが出ることなく実行できます。\n",
    "'''"
   ]
  },
  {
   "cell_type": "markdown",
   "metadata": {
    "id": "S2AZ3dWHJqo9"
   },
   "source": [
    "## 72. 損失と勾配の計算\n",
    "\n",
    "学習データの事例x1\n",
    "と事例集合x1,x2,x3,x4\n",
    "に対して，クロスエントロピー損失と，行列W\n",
    "に対する勾配を計算せよ．なお，ある事例xi\n",
    "に対して損失は次式で計算される．\n",
    "\n",
    "$$\n",
    "l_i=−log[事例x_iがy_iに分類される確率]\n",
    "$$\n",
    "\n",
    "ただし，事例集合に対するクロスエントロピー損失は，その集合に含まれる各事例の損失の平均とする．"
   ]
  },
  {
   "cell_type": "code",
   "execution_count": 20,
   "metadata": {},
   "outputs": [
    {
     "name": "stdout",
     "output_type": "stream",
     "text": [
      "x1の計算結果\n",
      "損失：1.4270175695419312\n",
      "勾配：tensor([[-0.0450, -0.0626,  0.0074,  ...,  0.0151,  0.0036,  0.0360],\n",
      "        [ 0.0150,  0.0209, -0.0025,  ..., -0.0051, -0.0012, -0.0120],\n",
      "        [ 0.0153,  0.0213, -0.0025,  ..., -0.0052, -0.0012, -0.0123],\n",
      "        [ 0.0146,  0.0203, -0.0024,  ..., -0.0049, -0.0012, -0.0117]])\n"
     ]
    }
   ],
   "source": [
    "loss = nn.CrossEntropyLoss()\n",
    "loss = loss(model(X_train[0]), Y_train[0])#long型にする必要あり\n",
    "model.zero_grad()\n",
    "loss.backward()\n",
    "print('x1の計算結果')\n",
    "print(f'損失：{loss}')\n",
    "print(f'勾配：{model.layer1.weight.grad}')"
   ]
  },
  {
   "cell_type": "code",
   "execution_count": 21,
   "metadata": {},
   "outputs": [
    {
     "name": "stdout",
     "output_type": "stream",
     "text": [
      "\n",
      "損失が正しく計算されているか確認\n",
      "tensor(1.4098, grad_fn=<DivBackward0>)\n"
     ]
    }
   ],
   "source": [
    "print('\\n損失が正しく計算されているか確認')\n",
    "loss1 = nn.CrossEntropyLoss()\n",
    "print((loss1(model(X_train[0]), Y_train[0])+ loss1(model(X_train[1]), Y_train[1]) + loss1(model(X_train[2]), Y_train[2]) + loss1(model(X_train[3]), Y_train[3]))/4)"
   ]
  },
  {
   "cell_type": "markdown",
   "metadata": {},
   "source": [
    "***\n",
    "### torch.nn.CrossEntropyLoss()\n",
    "損失関数内でsoftmax関数を適用する式になっているためニューラルネットワーク内で最後にsoftmax関数を適用する必要がない\n",
    "[公式レファレンス](https://pytorch.org/docs/stable/generated/torch.nn.CrossEntropyLoss.html)\n",
    "\n",
    "ニューラルネットワーク内でもsoftmax関数を適用していると損失関数内で再びsoftmax関数が適用されることで２重でsoftmax関数をかけることになり、想定している出力が得られない\n",
    "***"
   ]
  },
  {
   "cell_type": "markdown",
   "metadata": {
    "id": "uudzTu5mWLp1"
   },
   "source": [
    "## 73. 確率的勾配降下法による学習\n",
    "\n",
    "確率的勾配降下法（SGD: Stochastic Gradient Descent）を用いて，行列W\n",
    "を学習せよ．なお，学習は適当な基準で終了させればよい（例えば「100エポックで終了」など）．"
   ]
  },
  {
   "cell_type": "code",
   "execution_count": 22,
   "metadata": {},
   "outputs": [],
   "source": [
    "#損失関数の定義\n",
    "loss_entropy = nn.CrossEntropyLoss()\n",
    "\n",
    "#最適化手法の決定\n",
    "optimizer = torch.optim.SGD(model.parameters(), lr=0.1)\n",
    "\n",
    "EPOCHS = 2000  # 上と同じことを2000回繰り返す\n",
    "for epoch in range(EPOCHS):\n",
    "    optimizer.zero_grad()  # 重みとバイアスの更新で内部的に使用するデータをリセット\n",
    "    outputs = model(X_train)  # 手順1：ニューラルネットワークにデータを入力\n",
    "    loss = loss_entropy(outputs, Y_train)  # 手順2：正解ラベルとの比較\n",
    "    loss.backward()  # 手順3-1：誤差逆伝播\n",
    "    optimizer.step()  # 手順3-2：重みとバイアスの更新\n",
    "    \n",
    "    '''if epoch%100==99:\n",
    "        print(f'損失：{loss}')\n",
    "        print(f'重み：{model.layer1.weight}')'''\n",
    "\n",
    "#活性化関数の定義\n",
    "activation = nn.Softmax(dim=0)"
   ]
  },
  {
   "cell_type": "markdown",
   "metadata": {
    "id": "x6uSmaljF8H0"
   },
   "source": [
    "## 74. 正解率の計測\n",
    "\n",
    "問題73で求めた行列を用いて学習データおよび評価データの事例を分類したとき，その正解率をそれぞれ求めよ．"
   ]
  },
  {
   "cell_type": "code",
   "execution_count": 23,
   "metadata": {},
   "outputs": [
    {
     "name": "stdout",
     "output_type": "stream",
     "text": [
      "訓練データにおける正解率：0.8289917541229386\n"
     ]
    }
   ],
   "source": [
    "#訓練データでの正解率計算\n",
    "number = 0\n",
    "for i in range(len(X_train)):\n",
    "    if torch.argmax(activation(model(X_train[i]))) == Y_train[i]:\n",
    "        number += 1\n",
    "print(f'訓練データにおける正解率：{number/len(X_train)}')"
   ]
  },
  {
   "cell_type": "code",
   "execution_count": 24,
   "metadata": {},
   "outputs": [
    {
     "name": "stdout",
     "output_type": "stream",
     "text": [
      "評価データにおける正解率：0.8253373313343328\n"
     ]
    }
   ],
   "source": [
    "#評価データでの正解率計算\n",
    "number = 0\n",
    "for i in range(len(X_test)):\n",
    "    if torch.argmax(activation(model(X_test[i]))) == Y_test[i]:\n",
    "        number += 1\n",
    "print(f'評価データにおける正解率：{number/len(X_test)}')"
   ]
  },
  {
   "cell_type": "code",
   "execution_count": 25,
   "metadata": {},
   "outputs": [],
   "source": [
    "#めんどくさいので関数定義\n",
    "def accuracy(x, y):\n",
    "    number = 0\n",
    "    for i in range(len(x)):\n",
    "        if torch.argmax(activation(model(x[i]))) == y[i]:\n",
    "            number += 1\n",
    "    return number/len(x)"
   ]
  },
  {
   "cell_type": "markdown",
   "metadata": {
    "id": "OKnCbpspuexA"
   },
   "source": [
    "## 75. 損失と正解率のプロット\n",
    "問題73のコードを改変し，各エポックのパラメータ更新が完了するたびに，訓練データでの損失，正解率，検証データでの損失，正解率をグラフにプロットし，学習の進捗状況を確認できるようにせよ．"
   ]
  },
  {
   "cell_type": "code",
   "execution_count": 26,
   "metadata": {},
   "outputs": [],
   "source": [
    "import matplotlib.pyplot as plt"
   ]
  },
  {
   "cell_type": "code",
   "execution_count": 27,
   "metadata": {},
   "outputs": [
    {
     "data": {
      "image/png": "[encoded data removed]",
      "text/plain": [
       "<Figure size 432x288 with 2 Axes>"
      ]
     },
     "metadata": {
      "needs_background": "light"
     },
     "output_type": "display_data"
    }
   ],
   "source": [
    "#グラフの設定\n",
    "fig = plt.figure()\n",
    "ax1 = fig.add_subplot(1, 2, 1)\n",
    "ax2 = fig.add_subplot(1, 2, 2)"
   ]
  },
  {
   "cell_type": "markdown",
   "metadata": {},
   "source": [
    "*** \n",
    "### add_subplot\n",
    "1つの描画キャンパスに複数のグラフを表示させることが可能\n",
    "\n",
    "\n",
    ">１つ目の引数：何行に分割するか<br>\n",
    ">２つ目の引数：何列に分割するか<br>\n",
    ">３つ目の引数：グラフを書く際の領域を指定\n",
    "\n",
    "***"
   ]
  },
  {
   "cell_type": "code",
   "execution_count": 28,
   "metadata": {},
   "outputs": [
    {
     "data": {
      "image/png": "[encoded data removed]",
      "text/plain": [
       "<Figure size 432x288 with 2 Axes>"
      ]
     },
     "execution_count": 28,
     "metadata": {},
     "output_type": "execute_result"
    },
    {
     "data": {
      "image/png": "[encoded data removed]",
      "text/plain": [
       "<Figure size 432x288 with 2 Axes>"
      ]
     },
     "metadata": {
      "needs_background": "light"
     },
     "output_type": "display_data"
    }
   ],
   "source": [
    "EPOCHS = 100  # 100回繰り返す\n",
    "epoch_train_list, loss_train_list, accuracy_train_list = [], [], []\n",
    "epoch_valid_list, loss_valid_list, accuracy_valid_list = [], [], []\n",
    "\n",
    "for epoch in range(EPOCHS):\n",
    "    optimizer.zero_grad()  # 重みとバイアスの更新で内部的に使用するデータをリセット\n",
    "    outputs = model(X_train)  # 手順1：ニューラルネットワークにデータを入力\n",
    "    loss = loss_entropy(outputs, Y_train)  # 手順2：正解ラベルとの比較\n",
    "    loss.backward()  # 手順3-1：誤差逆伝播\n",
    "    optimizer.step()  # 手順3-2：重みとバイアスの更新\n",
    "\n",
    "    #訓練データでの正解率と損失の計算\n",
    "    number = 0\n",
    "    for i in range(len(X_train)):\n",
    "        if torch.argmax(activation(model(X_train[i]))) == Y_train[i]:\n",
    "            number += 1\n",
    "        \n",
    "    #エポック、損失、正解率をリストに格納\n",
    "    epoch_train_list.append(epoch+1)\n",
    "    loss_train_list.append(loss.detach().numpy())\n",
    "    accuracy_train_list.append(number/len(X_train))\n",
    "\n",
    "    #評価データでの正解率と損失の計算\n",
    "    number = 0\n",
    "    for i in range(len(X_valid)):\n",
    "        if torch.argmax(activation(model(X_valid[i]))) == Y_valid[i]:\n",
    "            number += 1 \n",
    "\n",
    "    outputs = model(X_valid)  # 手順1：ニューラルネットワークにデータを入力\n",
    "    loss = loss_entropy(outputs, Y_valid) \n",
    "    \n",
    "    #エポック、損失、正解率をリストに格納\n",
    "    epoch_valid_list.append(epoch+1)\n",
    "    loss_valid_list.append(loss.detach().numpy())\n",
    "    accuracy_valid_list.append(number/len(X_valid))\n",
    "    \n",
    "#グラフの設定\n",
    "fig = plt.figure()\n",
    "ax1 = fig.add_subplot(1, 2, 1)\n",
    "ax2 = fig.add_subplot(1, 2, 2)\n",
    "\n",
    "#プロット\n",
    "ax1.plot(epoch_train_list, accuracy_train_list, label='train_accuracy')\n",
    "ax2.plot(epoch_train_list, loss_train_list, label='train_loss')\n",
    "ax1.plot(epoch_valid_list, accuracy_valid_list, label='valid_accuracy')\n",
    "ax2.plot(epoch_valid_list, loss_valid_list, label='valid_loss')\n",
    "\n",
    "#表示\n",
    "ax1.legend()\n",
    "ax2.legend()\n",
    "fig"
   ]
  },
  {
   "cell_type": "markdown",
   "metadata": {
    "id": "PnR6u561QW8I"
   },
   "source": [
    "## 76. チェックポイント\n",
    "\n",
    "問題75のコードを改変し，各エポックのパラメータ更新が完了するたびに，チェックポイント（学習途中のパラメータ（重み行列など）の値や最適化アルゴリズムの内部状態）をファイルに書き出せ．\n",
    "\n"
   ]
  },
  {
   "cell_type": "code",
   "execution_count": 29,
   "metadata": {},
   "outputs": [
    {
     "data": {
      "image/png": "[encoded data removed]",
      "text/plain": [
       "<Figure size 432x288 with 2 Axes>"
      ]
     },
     "execution_count": 29,
     "metadata": {},
     "output_type": "execute_result"
    },
    {
     "data": {
      "image/png": "[encoded data removed]",
      "text/plain": [
       "<Figure size 432x288 with 2 Axes>"
      ]
     },
     "metadata": {
      "needs_background": "light"
     },
     "output_type": "display_data"
    }
   ],
   "source": [
    "EPOCHS = 100  # 100回繰り返す\n",
    "epoch_train_list, loss_train_list, accuracy_train_list = [], [], []\n",
    "epoch_valid_list, loss_valid_list, accuracy_valid_list = [], [], []\n",
    "\n",
    "for epoch in range(EPOCHS):\n",
    "    optimizer.zero_grad()  # 重みとバイアスの更新で内部的に使用するデータをリセット\n",
    "    outputs = model(X_train)  # 手順1：ニューラルネットワークにデータを入力\n",
    "    loss = loss_entropy(outputs, Y_train)  # 手順2：正解ラベルとの比較\n",
    "    loss.backward()  # 手順3-1：誤差逆伝播\n",
    "    optimizer.step()  # 手順3-2：重みとバイアスの更新\n",
    "        \n",
    "    #エポック、損失、正解率をリストに格納\n",
    "    epoch_train_list.append(epoch+1)\n",
    "    loss_train_list.append(loss.detach().numpy())\n",
    "    accuracy_train_list.append(accuracy(X_train, Y_train))\n",
    "\n",
    "    outputs = model(X_valid)  # 手順1：ニューラルネットワークにデータを入力\n",
    "    loss = loss_entropy(outputs, Y_valid) \n",
    "    \n",
    "    #エポック、損失、正解率をリストに格納\n",
    "    epoch_valid_list.append(epoch+1)\n",
    "    loss_valid_list.append(loss.detach().numpy())\n",
    "    accuracy_valid_list.append(accuracy(X_valid, Y_valid))\n",
    "\n",
    "    #パラメータと最適化アルゴリズムの内部状態をファイルに書き出す\n",
    "    #もしエポックが１であればファイルを新しく生成\n",
    "    if epoch == 1:\n",
    "        with open('parameters.txt', mode='a') as p, open('SGD_state.txt', mode='a') as s:\n",
    "            p.write(f'epoch : {epoch}\\n' + str(list(model.parameters())) + '\\n')\n",
    "            s.write(f'epoch : {epoch}\\n' + str(optimizer.state_dict()) + '\\n')\n",
    "    #エポックが１でなければファイルを上書きしていく\n",
    "    else:  \n",
    "        with open('parameters.txt', mode='w') as p, open('SGD_state.txt', mode='w') as s:\n",
    "            p.write(f'epoch : {epoch}\\n' + str(list(model.parameters())) + '\\n')\n",
    "            s.write(f'epoch : {epoch}\\n' + str(optimizer.state_dict()) + '\\n')\n",
    "            \n",
    "#グラフの設定\n",
    "fig = plt.figure()\n",
    "ax1 = fig.add_subplot(1, 2, 1)\n",
    "ax2 = fig.add_subplot(1, 2, 2)\n",
    "\n",
    "#プロット\n",
    "ax1.plot(epoch_train_list, accuracy_train_list, label='train_accuracy')\n",
    "ax2.plot(epoch_train_list, loss_train_list, label='train_loss')\n",
    "ax1.plot(epoch_valid_list, accuracy_valid_list, label='valid_accuracy')\n",
    "ax2.plot(epoch_valid_list, loss_valid_list, label='valid_loss')\n",
    "\n",
    "#表示\n",
    "ax1.legend()\n",
    "ax2.legend()\n",
    "fig"
   ]
  },
  {
   "cell_type": "markdown",
   "metadata": {
    "id": "rpR29zZErLhv"
   },
   "source": [
    "## 77. ミニバッチ化\n",
    "\n",
    "問題76のコードを改変し，B\n",
    "事例ごとに損失・勾配を計算し，行列W\n",
    "の値を更新せよ（ミニバッチ化）．B\n",
    "の値を1,2,4,8,…\n",
    "と変化させながら，1エポックの学習に要する時間を比較せよ．\n",
    "\n"
   ]
  },
  {
   "cell_type": "code",
   "execution_count": 30,
   "metadata": {},
   "outputs": [
    {
     "name": "stdout",
     "output_type": "stream",
     "text": [
      "Requirement already satisfied: torchvision in /Users/makino/.pyenv/versions/anaconda3-2021.05/lib/python3.8/site-packages (0.12.0)\n",
      "Requirement already satisfied: typing_extensions in /Users/makino/.pyenv/versions/anaconda3-2021.05/lib/python3.8/site-packages (from torchvision) (3.7.4.3)\n",
      "Requirement already satisfied: numpy in /Users/makino/.pyenv/versions/anaconda3-2021.05/lib/python3.8/site-packages (from torchvision) (1.20.1)\n",
      "Requirement already satisfied: requests in /Users/makino/.pyenv/versions/anaconda3-2021.05/lib/python3.8/site-packages (from torchvision) (2.25.1)\n",
      "Requirement already satisfied: torch in /Users/makino/.pyenv/versions/anaconda3-2021.05/lib/python3.8/site-packages (from torchvision) (1.11.0)\n",
      "Requirement already satisfied: pillow!=8.3.*,>=5.3.0 in /Users/makino/.pyenv/versions/anaconda3-2021.05/lib/python3.8/site-packages (from torchvision) (8.2.0)\n",
      "Requirement already satisfied: urllib3<1.27,>=1.21.1 in /Users/makino/.pyenv/versions/anaconda3-2021.05/lib/python3.8/site-packages (from requests->torchvision) (1.26.4)\n",
      "Requirement already satisfied: certifi>=2017.4.17 in /Users/makino/.pyenv/versions/anaconda3-2021.05/lib/python3.8/site-packages (from requests->torchvision) (2022.5.18.1)\n",
      "Requirement already satisfied: chardet<5,>=3.0.2 in /Users/makino/.pyenv/versions/anaconda3-2021.05/lib/python3.8/site-packages (from requests->torchvision) (4.0.0)\n",
      "Requirement already satisfied: idna<3,>=2.5 in /Users/makino/.pyenv/versions/anaconda3-2021.05/lib/python3.8/site-packages (from requests->torchvision) (2.10)\n"
     ]
    }
   ],
   "source": [
    "!pip install torchvision"
   ]
  },
  {
   "cell_type": "code",
   "execution_count": 31,
   "metadata": {},
   "outputs": [],
   "source": [
    "import torch, torchvision\n",
    "import torchvision.transforms as transforms\n",
    "import numpy as np\n",
    "import matplotlib.pyplot as plt\n",
    "from tqdm import tqdm\n",
    "import math, time\n",
    "%matplotlib inline"
   ]
  },
  {
   "cell_type": "code",
   "execution_count": 32,
   "metadata": {},
   "outputs": [],
   "source": [
    "class DataSet:\n",
    "    def __init__(self, X, Y,transform=None, target_transform=None):\n",
    "        self.X = X # 入力\n",
    "        self.Y = Y # 出力\n",
    "\n",
    "    def __len__(self):\n",
    "        return len(self.X) # データ数を返す\n",
    "\n",
    "    def __getitem__(self, index):\n",
    "        # index番目の入出力ペアを返す\n",
    "        return self.X[index], self.Y[index]"
   ]
  },
  {
   "cell_type": "markdown",
   "metadata": {},
   "source": [
    "***\n",
    "***transforms***\n",
    ">データの前処理を担当するモジュール<br>\n",
    "\n",
    "***Dataset***\n",
    ">データとそれに対応するラベルを１組返すモジュール<br>\n",
    ">データを返すときにtransformsを使って前処理したものを返す\n",
    "\n",
    "***DataLoader***\n",
    ">データを返すときにtransformsを使って前処理したものを返す\n",
    "***"
   ]
  },
  {
   "cell_type": "markdown",
   "metadata": {},
   "source": [
    "***\n",
    "***DataSetクラス内の関数の役割***\n",
    "- __len__()\n",
    "  - len(dataset)でデータセットの長さを返す\n",
    "- __getitem__()\n",
    "  - dataset[index]でindex番目の特徴量とラベルを返す\n",
    "***"
   ]
  },
  {
   "cell_type": "code",
   "execution_count": 33,
   "metadata": {},
   "outputs": [],
   "source": [
    "dataset = DataSet(X_train, Y_train)\n",
    "dataloader = torch.utils.data.DataLoader(dataset, batch_size=3, shuffle=False)"
   ]
  },
  {
   "cell_type": "code",
   "execution_count": 34,
   "metadata": {},
   "outputs": [],
   "source": [
    "#損失関数の定義\n",
    "loss_entropy = nn.CrossEntropyLoss()\n",
    "\n",
    "#最適化手法の決定\n",
    "optimizer = torch.optim.SGD(model.parameters(), lr=0.1)"
   ]
  },
  {
   "cell_type": "code",
   "execution_count": 37,
   "metadata": {},
   "outputs": [],
   "source": [
    "time_list, epoch_list = [], []\n",
    "i = 0\n",
    "while(pow(2, i) <= len(X_train)):\n",
    "    dataloader = torch.utils.data.DataLoader(dataset, batch_size=pow(2, i), shuffle=False)\n",
    "    start_time = time.perf_counter()\n",
    "    for data in dataloader:\n",
    "        optimizer.zero_grad()  # 重みとバイアスの更新で内部的に使用するデータをリセット\n",
    "        outputs = model(data[0])  # 手順1：ニューラルネットワークにデータを入力\n",
    "        loss = loss_entropy(outputs, data[1])  # 手順2：正解ラベルとの比較\n",
    "        loss.backward()  # 手順3-1：誤差逆伝播\n",
    "        optimizer.step()  # 手順3-2：重みとバイアスの更新\n",
    "    end_time = time.perf_counter()    \n",
    "    epoch_list.append(pow(2, i))\n",
    "    time_list.append(end_time - start_time)\n",
    "    i += 1"
   ]
  },
  {
   "cell_type": "code",
   "execution_count": 38,
   "metadata": {},
   "outputs": [
    {
     "data": {
      "image/png": "[encoded data removed]",
      "text/plain": [
       "<Figure size 432x288 with 1 Axes>"
      ]
     },
     "metadata": {
      "needs_background": "light"
     },
     "output_type": "display_data"
    }
   ],
   "source": [
    "plt.plot(epoch_list, time_list, marker='.')\n",
    "plt.xlim(1, epoch_list[-1])\n",
    "plt.ylim(0.0, 0.15)\n",
    "plt.xlabel('Batch Size', fontsize='12')\n",
    "plt.ylabel('Time', fontsize='12')\n",
    "plt.show()"
   ]
  },
  {
   "cell_type": "markdown",
   "metadata": {},
   "source": [
    "***\n",
    "**グラフの考察**\n",
    "- 前提　\n",
    "  - BatchSize=xでの重み更新の回数\n",
    "    - 重み更新回数＝データ量/x\n",
    "  - 重み更新が少ないほど学習時間が減る→BatchSizeが大きいほど学習時間が減る？\n",
    "- 仮説\n",
    "  - BatchSizeが500と1000で学習時間があまり変わらないのはなぜか\n",
    "    - 重み更新回数が22回（10672/500）と11回（10672/1000）では大した学習時間の差が出ない\n",
    "  - BatchSizeが1と2で学習時間に大きな差が出るのはなぜか\n",
    "    - 重み更新が回数が10672回（10672/1）と5336回（10672/2）では学習時間に大きな差が出る\n",
    "  - なぜBatchSizeが2000~3000あたりにおいて学習時間が極大値をとっているのか\n",
    "    - BatchSize=1000とBatchSize=2000を比較\n",
    "      - 重み更新回数での比較\n",
    "        - BatchSize=1000では11回、BatchSize=2000では6回\n",
    "        - 重みの更新回数の差による時間削減＜１度に重み×特徴量を行うデータ数による時間増加\n",
    "***"
   ]
  },
  {
   "cell_type": "markdown",
   "metadata": {
    "id": "hv4gAVHc9Zkj"
   },
   "source": [
    "## 78. GPU上での学習\n",
    "\n",
    "問題77のコードを改変し，GPU上で学習を実行せよ．"
   ]
  },
  {
   "cell_type": "code",
   "execution_count": 39,
   "metadata": {},
   "outputs": [
    {
     "name": "stdout",
     "output_type": "stream",
     "text": [
      "cpu\n"
     ]
    }
   ],
   "source": [
    "#deviceの割り当て\n",
    "device = torch.device(\"cuda:0\" if torch.cuda.is_available() else \"cpu\")\n",
    "print(device)"
   ]
  },
  {
   "cell_type": "code",
   "execution_count": 40,
   "metadata": {},
   "outputs": [],
   "source": [
    "#特徴量とラベルをgpuに送る\n",
    "X_train_gpu = X_train.to(device)\n",
    "Y_train_gpu = Y_train.to(device)\n",
    "\n",
    "dataset = DataSet(X_train_gpu, Y_train_gpu)\n",
    "dataloader = torch.utils.data.DataLoader(dataset, batch_size=3, shuffle=False)"
   ]
  },
  {
   "cell_type": "code",
   "execution_count": 41,
   "metadata": {},
   "outputs": [],
   "source": [
    "time_list, epoch_list = [], []\n",
    "i = 0\n",
    "while(pow(2, i) <= len(X_train_gpu)):\n",
    "    dataloader = torch.utils.data.DataLoader(dataset, batch_size=pow(2, i), shuffle=False)\n",
    "    start_time = time.perf_counter()\n",
    "    for data in dataloader:\n",
    "        optimizer.zero_grad()  # 重みとバイアスの更新で内部的に使用するデータをリセット\n",
    "        outputs = model(data[0])  # 手順1：ニューラルネットワークにデータを入力\n",
    "        loss = loss_entropy(outputs, data[1])  # 手順2：正解ラベルとの比較\n",
    "        loss.backward()  # 手順3-1：誤差逆伝播\n",
    "        optimizer.step()  # 手順3-2：重みとバイアスの更新\n",
    "    end_time = time.perf_counter()    \n",
    "    epoch_list.append(pow(2, i))\n",
    "    time_list.append(end_time - start_time)\n",
    "    i += 1"
   ]
  },
  {
   "cell_type": "code",
   "execution_count": 42,
   "metadata": {},
   "outputs": [
    {
     "data": {
      "image/png": "[encoded data removed]",
      "text/plain": [
       "<Figure size 432x288 with 1 Axes>"
      ]
     },
     "metadata": {
      "needs_background": "light"
     },
     "output_type": "display_data"
    }
   ],
   "source": [
    "plt.plot(epoch_list, time_list, marker='.')\n",
    "plt.xlim(1, epoch_list[-1])\n",
    "plt.ylim(0.0, 0.15)\n",
    "plt.xlabel('Batch Size', fontsize='12')\n",
    "plt.ylabel('Time', fontsize='12')\n",
    "plt.show()"
   ]
  },
  {
   "cell_type": "markdown",
   "metadata": {
    "id": "4pf9znncKUyM"
   },
   "source": [
    "## 79. 多層ニューラルネットワーク\n",
    "\n",
    "問題78のコードを改変し，バイアス項の導入や多層化など，ニューラルネットワークの形状を変更しながら，高性能なカテゴリ分類器を構築せよ"
   ]
  },
  {
   "cell_type": "code",
   "execution_count": 43,
   "metadata": {},
   "outputs": [],
   "source": [
    "activation = nn.Softmax(dim=0)\n",
    "relu = nn.ReLU()"
   ]
  },
  {
   "cell_type": "code",
   "execution_count": 44,
   "metadata": {},
   "outputs": [],
   "source": [
    "#ニューラルネットワーク構築\n",
    "class NeuralNetwork(torch.nn.Module):\n",
    "    def __init__(self):\n",
    "        super().__init__()\n",
    "        self.layer1 = nn.Linear(300, 100)\n",
    "        self.layer2 = nn.Linear(100, 50)\n",
    "        self.layer3 = nn.Linear(50, 4)\n",
    "        \n",
    "    def forward(self, x):\n",
    "        x = relu(self.layer1(x))\n",
    "        x = relu(self.layer2(x))\n",
    "        x = self.layer3(x)\n",
    "        return x\n",
    "    \n",
    "model = NeuralNetwork()"
   ]
  },
  {
   "cell_type": "code",
   "execution_count": 46,
   "metadata": {},
   "outputs": [],
   "source": [
    "#損失関数の定義\n",
    "loss_entropy = nn.CrossEntropyLoss()\n",
    "#最適化手法の決定\n",
    "optimizer = torch.optim.SGD(model.parameters(), lr=0.1)"
   ]
  },
  {
   "cell_type": "code",
   "execution_count": null,
   "metadata": {},
   "outputs": [],
   "source": [
    "EPOCHS = 2000  # 上と同じことを2000回繰り返す\n",
    "for epoch in range(EPOCHS):\n",
    "    optimizer.zero_grad()  # 重みとバイアスの更新で内部的に使用するデータをリセット\n",
    "    outputs = model(X_train)  # 手順1：ニューラルネットワークにデータを入力\n",
    "    loss = loss_entropy(outputs, Y_train)  # 手順2：正解ラベルとの比較\n",
    "    loss.backward()  # 手順3-1：誤差逆伝播\n",
    "    optimizer.step()  # 手順3-2：重みとバイアスの更新\n",
    "\n",
    "#活性化関数の定義\n",
    "activation = nn.Softmax(dim=0)"
   ]
  },
  {
   "cell_type": "code",
   "execution_count": 49,
   "metadata": {},
   "outputs": [
    {
     "data": {
      "text/plain": [
       "0.9020802098950524"
      ]
     },
     "execution_count": 49,
     "metadata": {},
     "output_type": "execute_result"
    }
   ],
   "source": [
    "#訓練データでの正解率計算\n",
    "accuracy(X_train, Y_train)"
   ]
  },
  {
   "cell_type": "code",
   "execution_count": 51,
   "metadata": {},
   "outputs": [],
   "source": [
    "dataset = DataSet(X_train, Y_train)\n",
    "dataloader = torch.utils.data.DataLoader(dataset, batch_size=3, shuffle=False)"
   ]
  },
  {
   "cell_type": "code",
   "execution_count": 52,
   "metadata": {},
   "outputs": [],
   "source": [
    "time_list, epoch_list = [], []\n",
    "i = 0\n",
    "while(pow(2, i) <= len(X_train)):\n",
    "    dataloader = torch.utils.data.DataLoader(dataset, batch_size=pow(2, i), shuffle=False)\n",
    "    start_time = time.perf_counter()\n",
    "    for data in dataloader:\n",
    "        optimizer.zero_grad()  # 重みとバイアスの更新で内部的に使用するデータをリセット\n",
    "        outputs = model(data[0])  # 手順1：ニューラルネットワークにデータを入力\n",
    "        loss = loss_entropy(outputs, data[1])  # 手順2：正解ラベルとの比較\n",
    "        loss.backward()  # 手順3-1：誤差逆伝播\n",
    "        optimizer.step()  # 手順3-2：重みとバイアスの更新\n",
    "    end_time = time.perf_counter()    \n",
    "    epoch_list.append(pow(2, i))\n",
    "    time_list.append(end_time - start_time)\n",
    "    i += 1"
   ]
  },
  {
   "cell_type": "code",
   "execution_count": 54,
   "metadata": {},
   "outputs": [
    {
     "data": {
      "image/png": "[encoded data removed]",
      "text/plain": [
       "<Figure size 432x288 with 1 Axes>"
      ]
     },
     "metadata": {
      "needs_background": "light"
     },
     "output_type": "display_data"
    }
   ],
   "source": [
    "plt.plot(epoch_list, time_list, marker='.')\n",
    "plt.xlim(1, epoch_list[-1])\n",
    "plt.ylim(0.0, 0.30)\n",
    "plt.xlabel('Batch Size', fontsize='12')\n",
    "plt.ylabel('Time', fontsize='12')\n",
    "plt.show()"
   ]
  },
  {
   "cell_type": "code",
   "execution_count": 63,
   "metadata": {},
   "outputs": [],
   "source": [
    "EPOCHS = 200"
   ]
  },
  {
   "cell_type": "code",
   "execution_count": 64,
   "metadata": {},
   "outputs": [],
   "source": [
    "dataloader = torch.utils.data.DataLoader(dataset, batch_size=1000, shuffle=False)\n",
    "for epoch in range(EPOCHS):\n",
    "    for data in dataloader:\n",
    "        optimizer.zero_grad()  # 重みとバイアスの更新で内部的に使用するデータをリセット\n",
    "        outputs = model(data[0])  # 手順1：ニューラルネットワークにデータを入力\n",
    "        loss = loss_entropy(outputs, data[1])  # 手順2：正解ラベルとの比較\n",
    "        loss.backward()  # 手順3-1：誤差逆伝播\n",
    "        optimizer.step()  # 手順3-2：重みとバイアスの更新"
   ]
  },
  {
   "cell_type": "code",
   "execution_count": 65,
   "metadata": {},
   "outputs": [
    {
     "data": {
      "text/plain": [
       "0.966079460269865"
      ]
     },
     "execution_count": 65,
     "metadata": {},
     "output_type": "execute_result"
    }
   ],
   "source": [
    "#訓練データでの正解率計算\n",
    "accuracy(X_train, Y_train)"
   ]
  },
  {
   "cell_type": "code",
   "execution_count": 66,
   "metadata": {},
   "outputs": [],
   "source": [
    "dataloader = torch.utils.data.DataLoader(dataset, batch_size=500, shuffle=False)\n",
    "for epoch in range(EPOCHS):\n",
    "    for data in dataloader:\n",
    "        optimizer.zero_grad()  # 重みとバイアスの更新で内部的に使用するデータをリセット\n",
    "        outputs = model(data[0])  # 手順1：ニューラルネットワークにデータを入力\n",
    "        loss = loss_entropy(outputs, data[1])  # 手順2：正解ラベルとの比較\n",
    "        loss.backward()  # 手順3-1：誤差逆伝播\n",
    "        optimizer.step()  # 手順3-2：重みとバイアスの更新"
   ]
  },
  {
   "cell_type": "code",
   "execution_count": 67,
   "metadata": {},
   "outputs": [
    {
     "data": {
      "text/plain": [
       "0.9812593703148426"
      ]
     },
     "execution_count": 67,
     "metadata": {},
     "output_type": "execute_result"
    }
   ],
   "source": [
    "#訓練データでの正解率計算\n",
    "accuracy(X_train, Y_train)"
   ]
  },
  {
   "cell_type": "markdown",
   "metadata": {},
   "source": [
    "本来であれば\n",
    "　訓練データで、エポック数やバッチサイズ、層の数、活性化関数、学習率などを変える→検証データの結果からパラメータを調整→テストデータで最終テスト"
   ]
  }
 ],
 "metadata": {
  "accelerator": "GPU",
  "colab": {
   "authorship_tag": "ABX9TyMweW7nY9vJqPb6nkp1XFDD",
   "collapsed_sections": [],
   "name": "Chapter8.ipynb",
   "provenance": []
  },
  "kernelspec": {
   "display_name": "Python 3",
   "language": "python",
   "name": "python3"
  },
  "language_info": {
   "codemirror_mode": {
    "name": "ipython",
    "version": 3
   },
   "file_extension": ".py",
   "mimetype": "text/x-python",
   "name": "python",
   "nbconvert_exporter": "python",
   "pygments_lexer": "ipython3",
   "version": "3.8.8"
  }
 },
 "nbformat": 4,
 "nbformat_minor": 4
}
