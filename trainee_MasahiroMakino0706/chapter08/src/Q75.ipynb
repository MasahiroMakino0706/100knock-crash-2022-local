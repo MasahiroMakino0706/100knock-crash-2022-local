{
 "cells": [
  {
   "cell_type": "code",
   "execution_count": 1,
   "id": "d4a1d414-f997-45d3-a8a7-bc7d47f0a3a5",
   "metadata": {},
   "outputs": [],
   "source": [
    "import torch\n",
    "import torch.nn as nn\n",
    "import numpy as np\n",
    "import matplotlib.pyplot as plt"
   ]
  },
  {
   "cell_type": "code",
   "execution_count": 2,
   "id": "7924e989-772d-404c-b1d5-0cbfd2cc5acb",
   "metadata": {},
   "outputs": [],
   "source": [
    "#ニューラルネットワーク構築\n",
    "activation = nn.Softmax(dim=0)\n",
    "class NeuralNetwork(nn.Module):\n",
    "    def __init__(self):\n",
    "        super().__init__()\n",
    "        self.layer1 = nn.Linear(300, 4, bias=False)\n",
    "        \n",
    "    def forward(self, input):\n",
    "        output = self.layer1(input) #loss_entropy = nn.CrossEntropyLoss()上で与える予測値はソフトマックス関数により処理されるのでこの行でソフトマックスをかける必要はない\n",
    "        return output\n",
    "    \n",
    "model = NeuralNetwork()"
   ]
  },
  {
   "cell_type": "code",
   "execution_count": 3,
   "id": "88bc7b2c-09e2-498c-a7f3-bcb06ea94850",
   "metadata": {},
   "outputs": [],
   "source": [
    "#データの取得\n",
    "def X_FromcsvTotensor(file):\n",
    "    result = np.loadtxt(file + '.csv')\n",
    "    result = torch.from_numpy(result.astype(np.float32)) \n",
    "    return result\n",
    "\n",
    "def Y_FromcsvTotensor(file):\n",
    "    result = np.loadtxt(file + '.csv')\n",
    "    result = torch.from_numpy(result.astype(np.int64)) \n",
    "    return result\n",
    "\n",
    "X_train = X_FromcsvTotensor('X_train')\n",
    "Y_train = Y_FromcsvTotensor('Y_train')\n",
    "X_valid = X_FromcsvTotensor('X_valid')\n",
    "Y_valid = Y_FromcsvTotensor('Y_valid')"
   ]
  },
  {
   "cell_type": "code",
   "execution_count": 4,
   "id": "f9a67502-9e4f-4b01-a525-57860d8ab2d6",
   "metadata": {},
   "outputs": [],
   "source": [
    "#損失関数の定義\n",
    "loss_entropy = nn.CrossEntropyLoss()\n",
    "\n",
    "#最適化手法の決定\n",
    "optimizer = torch.optim.SGD(model.parameters(), lr=0.1)"
   ]
  },
  {
   "cell_type": "code",
   "execution_count": 5,
   "id": "97f7c970-37d1-48cc-a00e-98551ed900f7",
   "metadata": {},
   "outputs": [
    {
     "data": {
      "image/png": "[encoded data removed]",
      "text/plain": [
       "<Figure size 432x288 with 2 Axes>"
      ]
     },
     "metadata": {
      "needs_background": "light"
     },
     "output_type": "display_data"
    }
   ],
   "source": [
    "#グラフの設定\n",
    "fig = plt.figure()\n",
    "ax1 = fig.add_subplot(1, 2, 1)\n",
    "ax2 = fig.add_subplot(1, 2, 2)"
   ]
  },
  {
   "cell_type": "code",
   "execution_count": 6,
   "id": "5147a130-b024-4f4a-9ad7-384a05a31941",
   "metadata": {},
   "outputs": [],
   "source": [
    "EPOCHS = 100  # 2000回繰り返す\n",
    "epoch_train_list, loss_train_list, accuracy_train_list = [], [], []\n",
    "epoch_valid_list, loss_valid_list, accuracy_valid_list = [], [], []\n",
    "\n",
    "for epoch in range(EPOCHS):\n",
    "    optimizer.zero_grad()  # 重みとバイアスの更新で内部的に使用するデータをリセット\n",
    "    outputs = model(X_train)  # 手順1：ニューラルネットワークにデータを入力\n",
    "    loss = loss_entropy(outputs, Y_train)  # 手順2：正解ラベルとの比較\n",
    "    loss.backward()  # 手順3-1：誤差逆伝播\n",
    "    optimizer.step()  # 手順3-2：重みとバイアスの更新\n",
    "\n",
    "    #訓練データでの正解率と損失の計算\n",
    "    number = 0\n",
    "    for i in range(len(X_train)):\n",
    "        if torch.argmax(activation(model(X_train[i]))) == Y_train[i]:\n",
    "            number += 1\n",
    "        \n",
    "    #エポック、損失、正解率をリストに格納\n",
    "    epoch_train_list.append(epoch+1)\n",
    "    loss_train_list.append(loss.detach().numpy())\n",
    "    accuracy_train_list.append(number/len(X_train))\n",
    "\n",
    "    #評価データでの正解率と損失の計算\n",
    "    number = 0\n",
    "    for i in range(len(X_valid)):\n",
    "        if torch.argmax(activation(model(X_valid[i]))) == Y_valid[i]:\n",
    "            number += 1 \n",
    "\n",
    "    outputs = model(X_valid)  # 手順1：ニューラルネットワークにデータを入力\n",
    "    loss = loss_entropy(outputs, Y_valid) \n",
    "    \n",
    "    #エポック、損失、正解率をリストに格納\n",
    "    epoch_valid_list.append(epoch+1)\n",
    "    loss_valid_list.append(loss.detach().numpy())\n",
    "    accuracy_valid_list.append(number/len(X_valid))"
   ]
  },
  {
   "cell_type": "code",
   "execution_count": 7,
   "id": "ace24f2f-8b71-4091-be1d-3d30c2d81e05",
   "metadata": {},
   "outputs": [
    {
     "data": {
      "text/plain": [
       "[<matplotlib.lines.Line2D at 0x7f3fc9bb5dc0>]"
      ]
     },
     "execution_count": 7,
     "metadata": {},
     "output_type": "execute_result"
    }
   ],
   "source": [
    "ax1.plot(epoch_train_list, accuracy_train_list, label='train_accuracy')\n",
    "ax2.plot(epoch_train_list, loss_train_list, label='train_loss')\n",
    "ax1.plot(epoch_valid_list, accuracy_valid_list, label='valid_accuracy')\n",
    "ax2.plot(epoch_valid_list, loss_valid_list, label='valid_loss')"
   ]
  },
  {
   "cell_type": "code",
   "execution_count": 8,
   "id": "c7933972-7e83-4fab-aebd-828cf3417f29",
   "metadata": {},
   "outputs": [
    {
     "data": {
      "image/png": "[encoded data removed]",
      "text/plain": [
       "<Figure size 432x288 with 2 Axes>"
      ]
     },
     "execution_count": 8,
     "metadata": {},
     "output_type": "execute_result"
    }
   ],
   "source": [
    "ax1.legend()\n",
    "ax2.legend()\n",
    "fig"
   ]
  },
  {
   "cell_type": "code",
   "execution_count": null,
   "id": "a217fbdb-fa2e-48be-8012-f0a5fd02e83f",
   "metadata": {},
   "outputs": [],
   "source": []
  }
 ],
 "metadata": {
  "kernelspec": {
   "display_name": "Python 3",
   "language": "python",
   "name": "python3"
  },
  "language_info": {
   "codemirror_mode": {
    "name": "ipython",
    "version": 3
   },
   "file_extension": ".py",
   "mimetype": "text/x-python",
   "name": "python",
   "nbconvert_exporter": "python",
   "pygments_lexer": "ipython3",
   "version": "3.8.8"
  }
 },
 "nbformat": 4,
 "nbformat_minor": 5
}
