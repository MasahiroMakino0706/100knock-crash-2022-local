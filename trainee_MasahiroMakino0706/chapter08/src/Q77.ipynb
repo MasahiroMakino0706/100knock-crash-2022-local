{
 "cells": [
  {
   "cell_type": "code",
   "execution_count": 1,
   "id": "86c9a4fd-7aef-4535-8f4a-8061f7798c22",
   "metadata": {},
   "outputs": [],
   "source": [
    "import torch\n",
    "import torch.nn as nn\n",
    "import numpy as np\n",
    "import matplotlib.pyplot as plt"
   ]
  },
  {
   "cell_type": "code",
   "execution_count": 2,
   "id": "a29d6b80-a46e-432e-b682-8c7bb322989e",
   "metadata": {},
   "outputs": [],
   "source": [
    "#ニューラルネットワーク構築\n",
    "activation = nn.Softmax(dim=0)\n",
    "class NeuralNetwork(nn.Module):\n",
    "    def __init__(self):\n",
    "        super().__init__()\n",
    "        self.layer1 = nn.Linear(300, 4, bias=False)\n",
    "        \n",
    "    def forward(self, input):\n",
    "        output = self.layer1(input) #loss_entropy = nn.CrossEntropyLoss()上で与える予測値はソフトマックス関数により処理されるのでこの行でソフトマックスをかける必要はない\n",
    "        return output\n",
    "    \n",
    "model = NeuralNetwork()"
   ]
  },
  {
   "cell_type": "code",
   "execution_count": 3,
   "id": "dc0576a4-0dff-440d-ae94-f387a8966388",
   "metadata": {},
   "outputs": [],
   "source": [
    "#データの取得\n",
    "def X_FromcsvTotensor(file):\n",
    "    result = np.loadtxt(file + '.csv')\n",
    "    result = torch.from_numpy(result.astype(np.float32)) \n",
    "    return result\n",
    "\n",
    "def Y_FromcsvTotensor(file):\n",
    "    result = np.loadtxt(file + '.csv')\n",
    "    result = torch.from_numpy(result.astype(np.int64)) \n",
    "    return result\n",
    "\n",
    "X_train = X_FromcsvTotensor('X_train')\n",
    "Y_train = Y_FromcsvTotensor('Y_train')\n",
    "X_valid = X_FromcsvTotensor('X_valid')\n",
    "Y_valid = Y_FromcsvTotensor('Y_valid')"
   ]
  }
 ],
 "metadata": {
  "kernelspec": {
   "display_name": "Python 3",
   "language": "python",
   "name": "python3"
  },
  "language_info": {
   "codemirror_mode": {
    "name": "ipython",
    "version": 3
   },
   "file_extension": ".py",
   "mimetype": "text/x-python",
   "name": "python",
   "nbconvert_exporter": "python",
   "pygments_lexer": "ipython3",
   "version": "3.8.8"
  }
 },
 "nbformat": 4,
 "nbformat_minor": 5
}
