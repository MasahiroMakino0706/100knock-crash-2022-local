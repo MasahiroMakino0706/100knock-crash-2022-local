{
 "cells": [
  {
   "cell_type": "code",
   "execution_count": 19,
   "id": "f41976e0-e87e-4184-b873-a96f0ba5fde1",
   "metadata": {},
   "outputs": [
    {
     "name": "stdout",
     "output_type": "stream",
     "text": [
      "(10672, 8) (1334, 8) (1334, 8)\n",
      "(10672, 2) (1334, 2) (1334, 2)\n"
     ]
    }
   ],
   "source": [
    "import pandas as pd\n",
    "from sklearn.model_selection import train_test_split\n",
    "\n",
    "data = pd.read_table('newsCorpora.csv', header=None, names=['ID', 'TITLE', 'URL', 'PUBLISHER', 'CATEGORY', 'STORY', 'HOSTNAME', 'TIMESTAMP'])\n",
    "data.query((\"PUBLISHER=='Reuters' | PUBLISHER=='Huffington Post' | PUBLISHER=='Businessweek' | PUBLISHER=='Contactmusic.com' | PUBLISHER=='Daily Mail'\"), inplace=True)\n",
    "data = data.sample(frac =1)\n",
    "train, subtest = train_test_split(data, train_size=0.8)\n",
    "test, valid = train_test_split(subtest, train_size=0.5)\n",
    "print(train.shape, valid.shape, test.shape)\n",
    "\n",
    "train = train[['TITLE', 'CATEGORY']]\n",
    "valid = valid[['TITLE', 'CATEGORY']]\n",
    "test = test[['TITLE', 'CATEGORY']]\n",
    "print(train.shape, valid.shape, test.shape)\n",
    "\n",
    "train.to_csv('train.txt', sep='\\t', index=False)\n",
    "valid.to_csv('valid.txt', sep='\\t', index=False)\n",
    "test.to_csv('test.txt', sep='\\t', index=False)"
   ]
  },
  {
   "cell_type": "code",
   "execution_count": 20,
   "id": "21eb325b-abbd-4b38-b2ef-d5de1443b52f",
   "metadata": {},
   "outputs": [],
   "source": [
    "import string\n",
    "import re\n",
    "\n",
    "def preprocessing(text):\n",
    "  table = str.maketrans(string.punctuation, ' '*len(string.punctuation))\n",
    "  text = text.translate(table)  # 記号をスペースに置換\n",
    "  text = text.lower()  # 小文字化\n",
    "  text = re.sub('[0-9]+', '0', text)  # 数字列を0に置換\n",
    "\n",
    "  return text"
   ]
  },
  {
   "cell_type": "code",
   "execution_count": 21,
   "id": "ccb0829f-7686-402e-a92e-5ac5d4fb01d0",
   "metadata": {},
   "outputs": [
    {
     "name": "stdout",
     "output_type": "stream",
     "text": [
      "                                               TITLE CATEGORY\n",
      "0  update 0 us wins car import duties trade case ...        b\n",
      "1  forex dollar gains against euro as draghi hint...        b\n",
      "2  will smith   willow smith causes a stir with c...        e\n",
      "3  qatar reprises distressed investor role with d...        b\n",
      "4  update 0 gm to invest  0 bln in china and plan...        b\n",
      "    0d   0m  0million  0nd   0s  0st  0th  0th birthday   aa  abbvie  ...  \\\n",
      "0  0.0  0.0       0.0  0.0  0.0  0.0  0.0           0.0  0.0     0.0  ...   \n",
      "1  0.0  0.0       0.0  0.0  0.0  0.0  0.0           0.0  0.0     0.0  ...   \n",
      "2  0.0  0.0       0.0  0.0  0.0  0.0  0.0           0.0  0.0     0.0  ...   \n",
      "3  0.0  0.0       0.0  0.0  0.0  0.0  0.0           0.0  0.0     0.0  ...   \n",
      "4  0.0  0.0       0.0  0.0  0.0  0.0  0.0           0.0  0.0     0.0  ...   \n",
      "\n",
      "   young  your  your mother   yr  yr high  yuan  zac  zac efron  zendaya  zone  \n",
      "0    0.0   0.0          0.0  0.0      0.0   0.0  0.0        0.0      0.0   0.0  \n",
      "1    0.0   0.0          0.0  0.0      0.0   0.0  0.0        0.0      0.0   0.0  \n",
      "2    0.0   0.0          0.0  0.0      0.0   0.0  0.0        0.0      0.0   0.0  \n",
      "3    0.0   0.0          0.0  0.0      0.0   0.0  0.0        0.0      0.0   0.0  \n",
      "4    0.0   0.0          0.0  0.0      0.0   0.0  0.0        0.0      0.0   0.0  \n",
      "\n",
      "[5 rows x 2830 columns]\n"
     ]
    }
   ],
   "source": [
    "from sklearn.linear_model import LogisticRegression\n",
    "from sklearn.feature_extraction.text import TfidfVectorizer\n",
    "\n",
    "#detaの再結合とインデックスの更新\n",
    "data = pd.concat([train, valid, test], axis=0)\n",
    "data.reset_index(drop=True, inplace=True) \n",
    "\n",
    "#detaの前処理\n",
    "data['TITLE'] = data['TITLE'].map(lambda x: preprocessing(x))\n",
    "print(data.head())\n",
    "\n",
    "#tfidf計算のモデルを作成\n",
    "vectorizer = TfidfVectorizer(min_df=10, ngram_range=(1, 2))\n",
    "\n",
    "#データの分割\n",
    "train_valid = data[:len(train)+len(valid)]\n",
    "train = train_valid[:len(train)]\n",
    "valid = train_valid[len(train):]\n",
    "test = data[len(train)+len(valid):]\n",
    "\n",
    "#データの保存\n",
    "train.to_csv('train.txt', sep='\\t', index=False)\n",
    "valid.to_csv('valid.txt', sep='\\t', index=False)\n",
    "test.to_csv('test.txt', sep='\\t', index=False)\n",
    "\n",
    "#tfidfの計算と行列変換\n",
    "X_train_valid = vectorizer.fit_transform(train_valid['TITLE']).toarray()\n",
    "X_test = vectorizer.transform(test['TITLE']).toarray()\n",
    "                                         \n",
    "#行列をDatafram型に変換\n",
    "X_train_valid = pd.DataFrame(X_train_valid, columns=vectorizer.get_feature_names())\n",
    "X_test = pd.DataFrame(X_test, columns=vectorizer.get_feature_names())\n",
    "\n",
    "#データの分割\n",
    "X_train = X_train_valid[:len(train)]\n",
    "X_valid = X_train_valid[len(train):len(train)+len(valid)]\n",
    "\n",
    "print(X_train.head())"
   ]
  },
  {
   "cell_type": "code",
   "execution_count": 22,
   "id": "2e941e9c-78fd-44bf-bed1-b486c0bd1c0f",
   "metadata": {},
   "outputs": [
    {
     "name": "stdout",
     "output_type": "stream",
     "text": [
      "    0d   0m  0million  0nd   0s  0st  0th  0th birthday   aa  abbvie  ...  \\\n",
      "0  0.0  0.0       0.0  0.0  0.0  0.0  0.0           0.0  0.0     0.0  ...   \n",
      "1  0.0  0.0       0.0  0.0  0.0  0.0  0.0           0.0  0.0     0.0  ...   \n",
      "2  0.0  0.0       0.0  0.0  0.0  0.0  0.0           0.0  0.0     0.0  ...   \n",
      "3  0.0  0.0       0.0  0.0  0.0  0.0  0.0           0.0  0.0     0.0  ...   \n",
      "4  0.0  0.0       0.0  0.0  0.0  0.0  0.0           0.0  0.0     0.0  ...   \n",
      "\n",
      "   young  your  your mother   yr  yr high  yuan  zac  zac efron  zendaya  zone  \n",
      "0    0.0   0.0          0.0  0.0      0.0   0.0  0.0        0.0      0.0   0.0  \n",
      "1    0.0   0.0          0.0  0.0      0.0   0.0  0.0        0.0      0.0   0.0  \n",
      "2    0.0   0.0          0.0  0.0      0.0   0.0  0.0        0.0      0.0   0.0  \n",
      "3    0.0   0.0          0.0  0.0      0.0   0.0  0.0        0.0      0.0   0.0  \n",
      "4    0.0   0.0          0.0  0.0      0.0   0.0  0.0        0.0      0.0   0.0  \n",
      "\n",
      "[5 rows x 2830 columns]\n"
     ]
    }
   ],
   "source": [
    "#データの保存\n",
    "X_train.to_csv('train_feature.txt', sep='\\t', index=False)\n",
    "X_valid.to_csv('valid_feature.txt', index=False, sep='\\t')\n",
    "X_test.to_csv('test_feature.txt', index=False, sep='\\t')\n",
    "\n",
    "#確認\n",
    "print(X_train.head())"
   ]
  },
  {
   "cell_type": "code",
   "execution_count": 24,
   "id": "335d6ba2-205c-4877-a625-abf3872584bf",
   "metadata": {},
   "outputs": [
    {
     "data": {
      "text/plain": [
       "LogisticRegression(max_iter=10000, random_state=123)"
      ]
     },
     "execution_count": 24,
     "metadata": {},
     "output_type": "execute_result"
    }
   ],
   "source": [
    "#学習\n",
    "lg = LogisticRegression(random_state=123, max_iter=10000)\n",
    "lg.fit(X_train, train['CATEGORY'])"
   ]
  },
  {
   "cell_type": "code",
   "execution_count": 25,
   "id": "68b50e09-ffc3-42b4-be2e-ab3f5cc0fa01",
   "metadata": {},
   "outputs": [
    {
     "name": "stdout",
     "output_type": "stream",
     "text": [
      "[0.85811791 0.97669774 0.84872639 ... 0.65263235 0.6924556  0.89396579] ['b' 'b' 'e' ... 't' 'e' 'b']\n",
      "[0.50522184 0.83563889 0.61204318 ... 0.59407219 0.59460872 0.95965904] ['e' 'e' 'b' ... 'b' 'e' 'e']\n"
     ]
    }
   ],
   "source": [
    "#予測\n",
    "import numpy as np\n",
    "\n",
    "print(np.max(lg.predict_proba(X_train), axis=1), lg.predict(X_train))\n",
    "print(np.max(lg.predict_proba(X_test), axis=1), lg.predict(X_test))"
   ]
  },
  {
   "cell_type": "code",
   "execution_count": 26,
   "id": "10a7a56d-4461-4423-81c8-55dda6c5d8a5",
   "metadata": {},
   "outputs": [
    {
     "name": "stdout",
     "output_type": "stream",
     "text": [
      "0.9251311844077961\n",
      "0.883808095952024\n",
      "0.8883058470764618\n"
     ]
    }
   ],
   "source": [
    "#正解率の計算\n",
    "from sklearn.metrics import accuracy_score\n",
    "\n",
    "print(accuracy_score(train['CATEGORY'], lg.predict(X_train)))\n",
    "print(accuracy_score(test['CATEGORY'], lg.predict(X_test)))\n",
    "print(accuracy_score(valid['CATEGORY'], lg.predict(X_valid)))"
   ]
  },
  {
   "cell_type": "code",
   "execution_count": 27,
   "id": "13ba75d4-e001-48db-95df-e949e289dee8",
   "metadata": {},
   "outputs": [
    {
     "data": {
      "image/png": "[encoded data removed]",
      "text/plain": [
       "<Figure size 432x288 with 2 Axes>"
      ]
     },
     "metadata": {
      "needs_background": "light"
     },
     "output_type": "display_data"
    },
    {
     "data": {
      "image/png": "[encoded data removed]",
      "text/plain": [
       "<Figure size 432x288 with 2 Axes>"
      ]
     },
     "metadata": {
      "needs_background": "light"
     },
     "output_type": "display_data"
    }
   ],
   "source": [
    "#混同行列の可視化\n",
    "from sklearn.metrics import confusion_matrix\n",
    "from sklearn.metrics import confusion_matrix\n",
    "import seaborn as sns\n",
    "import matplotlib.pyplot as plt\n",
    "\n",
    "train_cm = confusion_matrix(train['CATEGORY'], lg.predict(X_train))\n",
    "train_cm = pd.DataFrame(data=train_cm, index=[\"busi\", \"tech\", \"enter\",\"health\"], \n",
    "                           columns=[\"busi\", \"tech\", \"enter\", \"health\"])\n",
    "sns.heatmap(train_cm, square=True, cbar=True, annot=True, cmap='Blues')\n",
    "plt.xlabel(\"Pre\", fontsize=13)\n",
    "plt.ylabel(\"GT\", fontsize=13)\n",
    "plt.show()\n",
    "\n",
    "test_cm = confusion_matrix(test['CATEGORY'], lg.predict(X_test))\n",
    "test_cm = pd.DataFrame(data=test_cm, index=[\"busi\", \"tech\", \"enter\",\"health\"], \n",
    "                           columns=[\"busi\", \"tech\", \"enter\", \"health\"])\n",
    "sns.heatmap(test_cm, square=True, cbar=True, annot=True, cmap='Blues')\n",
    "plt.xlabel(\"Pre\", fontsize=13)\n",
    "plt.ylabel(\"GT\", fontsize=13)\n",
    "plt.show()"
   ]
  },
  {
   "cell_type": "code",
   "execution_count": 28,
   "id": "e86244a3-f6f1-497a-ace5-51490fd03e77",
   "metadata": {},
   "outputs": [],
   "source": [
    "#評価指標\n",
    "from sklearn.metrics import precision_score, recall_score, f1_score\n",
    "\n",
    "def score (y_true, y_pred):\n",
    "    precision = precision_score(y_true, y_pred, average=None, labels=['b', 'e', 't', 'm'])\n",
    "    precision = np.append(precision, precision_score(y_true, y_pred, average='micro'))\n",
    "    precision = np.append(precision, precision_score(y_true, y_pred, average='macro'))\n",
    "    recall = recall_score(y_true, y_pred, average=None, labels=['b', 'e', 't', 'm'])\n",
    "    recall = np.append(recall, recall_score(y_true, y_pred, average='micro'))\n",
    "    recall = np.append(recall, recall_score(y_true, y_pred, average='macro'))\n",
    "    f1 = f1_score(y_true, y_pred, average=None, labels=['b', 'e', 't', 'm'])\n",
    "    f1 = np.append(f1, f1_score(y_true, y_pred, average='micro'))\n",
    "    f1 = np.append(f1, f1_score(y_true, y_pred, average='macro'))\n",
    "    return pd.DataFrame({'適合率': precision, '再現率': recall, 'F1スコア': f1},\n",
    "                        index=['b', 'e', 't', 'm', 'マイクロ平均', 'マクロ平均'])"
   ]
  },
  {
   "cell_type": "code",
   "execution_count": 29,
   "id": "7e1f2cd1-b4d0-4258-b265-aa686b067c97",
   "metadata": {},
   "outputs": [
    {
     "name": "stdout",
     "output_type": "stream",
     "text": [
      "             適合率       再現率     F1スコア\n",
      "b       0.905085  0.927083  0.915952\n",
      "e       0.859083  0.963810  0.908438\n",
      "t       0.862745  0.651852  0.742616\n",
      "m       0.962264  0.520408  0.675497\n",
      "マイクロ平均  0.883808  0.883808  0.883808\n",
      "マクロ平均   0.897294  0.765788  0.810626\n"
     ]
    }
   ],
   "source": [
    "print(score(test[\"CATEGORY\"], lg.predict(X_test)))"
   ]
  },
  {
   "cell_type": "code",
   "execution_count": 36,
   "id": "07b8415d-db17-4b72-a54c-35517c36d3c0",
   "metadata": {},
   "outputs": [
    {
     "name": "stdout",
     "output_type": "stream",
     "text": [
      "カテゴリ：t\n"
     ]
    },
    {
     "data": {
      "text/html": [
       "<div>\n",
       "<style scoped>\n",
       "    .dataframe tbody tr th:only-of-type {\n",
       "        vertical-align: middle;\n",
       "    }\n",
       "\n",
       "    .dataframe tbody tr th {\n",
       "        vertical-align: top;\n",
       "    }\n",
       "\n",
       "    .dataframe thead th {\n",
       "        text-align: right;\n",
       "    }\n",
       "</style>\n",
       "<table border=\"1\" class=\"dataframe\">\n",
       "  <thead>\n",
       "    <tr style=\"text-align: right;\">\n",
       "      <th></th>\n",
       "      <th>1</th>\n",
       "      <th>2</th>\n",
       "      <th>3</th>\n",
       "      <th>4</th>\n",
       "      <th>5</th>\n",
       "      <th>6</th>\n",
       "      <th>7</th>\n",
       "      <th>8</th>\n",
       "      <th>9</th>\n",
       "      <th>10</th>\n",
       "    </tr>\n",
       "  </thead>\n",
       "  <tbody>\n",
       "    <tr>\n",
       "      <th>重要度高</th>\n",
       "      <td>fed</td>\n",
       "      <td>bank</td>\n",
       "      <td>china</td>\n",
       "      <td>ecb</td>\n",
       "      <td>stocks</td>\n",
       "      <td>oil</td>\n",
       "      <td>euro</td>\n",
       "      <td>dollar</td>\n",
       "      <td>obamacare</td>\n",
       "      <td>ukraine</td>\n",
       "    </tr>\n",
       "    <tr>\n",
       "      <th>重要度低</th>\n",
       "      <td>and</td>\n",
       "      <td>ebola</td>\n",
       "      <td>her</td>\n",
       "      <td>she</td>\n",
       "      <td>video</td>\n",
       "      <td>microsoft</td>\n",
       "      <td>google</td>\n",
       "      <td>facebook</td>\n",
       "      <td>star</td>\n",
       "      <td>tv</td>\n",
       "    </tr>\n",
       "  </tbody>\n",
       "</table>\n",
       "</div>"
      ],
      "text/plain": [
       "       1      2      3    4       5          6       7         8          9   \\\n",
       "重要度高  fed   bank  china  ecb  stocks        oil    euro    dollar  obamacare   \n",
       "重要度低  and  ebola    her  she   video  microsoft  google  facebook       star   \n",
       "\n",
       "           10  \n",
       "重要度高  ukraine  \n",
       "重要度低       tv  "
      ]
     },
     "metadata": {},
     "output_type": "display_data"
    },
    {
     "name": "stdout",
     "output_type": "stream",
     "text": [
      "カテゴリ：t\n"
     ]
    },
    {
     "data": {
      "text/html": [
       "<div>\n",
       "<style scoped>\n",
       "    .dataframe tbody tr th:only-of-type {\n",
       "        vertical-align: middle;\n",
       "    }\n",
       "\n",
       "    .dataframe tbody tr th {\n",
       "        vertical-align: top;\n",
       "    }\n",
       "\n",
       "    .dataframe thead th {\n",
       "        text-align: right;\n",
       "    }\n",
       "</style>\n",
       "<table border=\"1\" class=\"dataframe\">\n",
       "  <thead>\n",
       "    <tr style=\"text-align: right;\">\n",
       "      <th></th>\n",
       "      <th>1</th>\n",
       "      <th>2</th>\n",
       "      <th>3</th>\n",
       "      <th>4</th>\n",
       "      <th>5</th>\n",
       "      <th>6</th>\n",
       "      <th>7</th>\n",
       "      <th>8</th>\n",
       "      <th>9</th>\n",
       "      <th>10</th>\n",
       "    </tr>\n",
       "  </thead>\n",
       "  <tbody>\n",
       "    <tr>\n",
       "      <th>重要度高</th>\n",
       "      <td>kardashian</td>\n",
       "      <td>chris</td>\n",
       "      <td>she</td>\n",
       "      <td>movie</td>\n",
       "      <td>star</td>\n",
       "      <td>film</td>\n",
       "      <td>kim</td>\n",
       "      <td>paul</td>\n",
       "      <td>her</td>\n",
       "      <td>jay</td>\n",
       "    </tr>\n",
       "    <tr>\n",
       "      <th>重要度低</th>\n",
       "      <td>update</td>\n",
       "      <td>google</td>\n",
       "      <td>us</td>\n",
       "      <td>china</td>\n",
       "      <td>study</td>\n",
       "      <td>gm</td>\n",
       "      <td>ceo</td>\n",
       "      <td>says</td>\n",
       "      <td>could</td>\n",
       "      <td>facebook</td>\n",
       "    </tr>\n",
       "  </tbody>\n",
       "</table>\n",
       "</div>"
      ],
      "text/plain": [
       "              1       2    3      4      5     6    7     8      9         10\n",
       "重要度高  kardashian   chris  she  movie   star  film  kim  paul    her       jay\n",
       "重要度低      update  google   us  china  study    gm  ceo  says  could  facebook"
      ]
     },
     "metadata": {},
     "output_type": "display_data"
    },
    {
     "name": "stdout",
     "output_type": "stream",
     "text": [
      "カテゴリ：t\n"
     ]
    },
    {
     "data": {
      "text/html": [
       "<div>\n",
       "<style scoped>\n",
       "    .dataframe tbody tr th:only-of-type {\n",
       "        vertical-align: middle;\n",
       "    }\n",
       "\n",
       "    .dataframe tbody tr th {\n",
       "        vertical-align: top;\n",
       "    }\n",
       "\n",
       "    .dataframe thead th {\n",
       "        text-align: right;\n",
       "    }\n",
       "</style>\n",
       "<table border=\"1\" class=\"dataframe\">\n",
       "  <thead>\n",
       "    <tr style=\"text-align: right;\">\n",
       "      <th></th>\n",
       "      <th>1</th>\n",
       "      <th>2</th>\n",
       "      <th>3</th>\n",
       "      <th>4</th>\n",
       "      <th>5</th>\n",
       "      <th>6</th>\n",
       "      <th>7</th>\n",
       "      <th>8</th>\n",
       "      <th>9</th>\n",
       "      <th>10</th>\n",
       "    </tr>\n",
       "  </thead>\n",
       "  <tbody>\n",
       "    <tr>\n",
       "      <th>重要度高</th>\n",
       "      <td>ebola</td>\n",
       "      <td>study</td>\n",
       "      <td>fda</td>\n",
       "      <td>cancer</td>\n",
       "      <td>drug</td>\n",
       "      <td>mers</td>\n",
       "      <td>health</td>\n",
       "      <td>doctors</td>\n",
       "      <td>could</td>\n",
       "      <td>cases</td>\n",
       "    </tr>\n",
       "    <tr>\n",
       "      <th>重要度低</th>\n",
       "      <td>gm</td>\n",
       "      <td>facebook</td>\n",
       "      <td>apple</td>\n",
       "      <td>climate</td>\n",
       "      <td>bank</td>\n",
       "      <td>ceo</td>\n",
       "      <td>google</td>\n",
       "      <td>fed</td>\n",
       "      <td>deal</td>\n",
       "      <td>billion</td>\n",
       "    </tr>\n",
       "  </tbody>\n",
       "</table>\n",
       "</div>"
      ],
      "text/plain": [
       "         1         2      3        4     5     6       7        8      9   \\\n",
       "重要度高  ebola     study    fda   cancer  drug  mers  health  doctors  could   \n",
       "重要度低     gm  facebook  apple  climate  bank   ceo  google      fed   deal   \n",
       "\n",
       "           10  \n",
       "重要度高    cases  \n",
       "重要度低  billion  "
      ]
     },
     "metadata": {},
     "output_type": "display_data"
    },
    {
     "name": "stdout",
     "output_type": "stream",
     "text": [
      "カテゴリ：t\n"
     ]
    },
    {
     "data": {
      "text/html": [
       "<div>\n",
       "<style scoped>\n",
       "    .dataframe tbody tr th:only-of-type {\n",
       "        vertical-align: middle;\n",
       "    }\n",
       "\n",
       "    .dataframe tbody tr th {\n",
       "        vertical-align: top;\n",
       "    }\n",
       "\n",
       "    .dataframe thead th {\n",
       "        text-align: right;\n",
       "    }\n",
       "</style>\n",
       "<table border=\"1\" class=\"dataframe\">\n",
       "  <thead>\n",
       "    <tr style=\"text-align: right;\">\n",
       "      <th></th>\n",
       "      <th>1</th>\n",
       "      <th>2</th>\n",
       "      <th>3</th>\n",
       "      <th>4</th>\n",
       "      <th>5</th>\n",
       "      <th>6</th>\n",
       "      <th>7</th>\n",
       "      <th>8</th>\n",
       "      <th>9</th>\n",
       "      <th>10</th>\n",
       "    </tr>\n",
       "  </thead>\n",
       "  <tbody>\n",
       "    <tr>\n",
       "      <th>重要度高</th>\n",
       "      <td>google</td>\n",
       "      <td>facebook</td>\n",
       "      <td>apple</td>\n",
       "      <td>microsoft</td>\n",
       "      <td>climate</td>\n",
       "      <td>gm</td>\n",
       "      <td>tesla</td>\n",
       "      <td>comcast</td>\n",
       "      <td>mobile</td>\n",
       "      <td>fcc</td>\n",
       "    </tr>\n",
       "    <tr>\n",
       "      <th>重要度低</th>\n",
       "      <td>stocks</td>\n",
       "      <td>fed</td>\n",
       "      <td>do</td>\n",
       "      <td>drug</td>\n",
       "      <td>percent</td>\n",
       "      <td>oil</td>\n",
       "      <td>ukraine</td>\n",
       "      <td>cancer</td>\n",
       "      <td>her</td>\n",
       "      <td>ecb</td>\n",
       "    </tr>\n",
       "  </tbody>\n",
       "</table>\n",
       "</div>"
      ],
      "text/plain": [
       "          1         2      3          4        5    6        7        8   \\\n",
       "重要度高  google  facebook  apple  microsoft  climate   gm    tesla  comcast   \n",
       "重要度低  stocks       fed     do       drug  percent  oil  ukraine   cancer   \n",
       "\n",
       "          9    10  \n",
       "重要度高  mobile  fcc  \n",
       "重要度低     her  ecb  "
      ]
     },
     "metadata": {},
     "output_type": "display_data"
    }
   ],
   "source": [
    "features = X_train.columns.to_numpy()\n",
    "columns = [i for i in range(1, 11)]\n",
    "for c, coef in zip(lg.classes_, lg.coef_):\n",
    "    print(f'カテゴリ：{c}')\n",
    "    lis = np.array([features[np.argsort(coef)[::-1][:10]], features[np.argsort(coef)[:10]]])\n",
    "    frame = pd.DataFrame(lis, columns=columns, index=['重要度高', '重要度低'])\n",
    "    display(frame)"
   ]
  },
  {
   "cell_type": "code",
   "execution_count": 12,
   "id": "7e88bb3e-77a0-4f41-999a-b8a8c36fc7f1",
   "metadata": {},
   "outputs": [
    {
     "name": "stderr",
     "output_type": "stream",
     "text": [
      " 40%|████      | 4/10 [00:02<00:04,  1.42it/s]\n"
     ]
    },
    {
     "ename": "KeyboardInterrupt",
     "evalue": "",
     "output_type": "error",
     "traceback": [
      "\u001b[0;31m---------------------------------------------------------------------------\u001b[0m",
      "\u001b[0;31mKeyboardInterrupt\u001b[0m                         Traceback (most recent call last)",
      "\u001b[0;32m<ipython-input-12-54a8aa99191e>\u001b[0m in \u001b[0;36m<module>\u001b[0;34m\u001b[0m\n\u001b[1;32m      6\u001b[0m \u001b[0;32mfor\u001b[0m \u001b[0mC\u001b[0m \u001b[0;32min\u001b[0m \u001b[0mtqdm\u001b[0m\u001b[0;34m(\u001b[0m\u001b[0mnp\u001b[0m\u001b[0;34m.\u001b[0m\u001b[0mlogspace\u001b[0m\u001b[0;34m(\u001b[0m\u001b[0;34m-\u001b[0m\u001b[0;36m5\u001b[0m\u001b[0;34m,\u001b[0m \u001b[0;36m4\u001b[0m\u001b[0;34m,\u001b[0m \u001b[0;36m10\u001b[0m\u001b[0;34m)\u001b[0m\u001b[0;34m)\u001b[0m\u001b[0;34m:\u001b[0m\u001b[0;34m\u001b[0m\u001b[0;34m\u001b[0m\u001b[0m\n\u001b[1;32m      7\u001b[0m     \u001b[0mlg\u001b[0m \u001b[0;34m=\u001b[0m \u001b[0mLogisticRegression\u001b[0m\u001b[0;34m(\u001b[0m\u001b[0mrandom_state\u001b[0m\u001b[0;34m=\u001b[0m\u001b[0;36m123\u001b[0m\u001b[0;34m,\u001b[0m \u001b[0mmax_iter\u001b[0m\u001b[0;34m=\u001b[0m\u001b[0;36m10000\u001b[0m\u001b[0;34m,\u001b[0m \u001b[0mC\u001b[0m\u001b[0;34m=\u001b[0m\u001b[0mC\u001b[0m\u001b[0;34m)\u001b[0m\u001b[0;34m\u001b[0m\u001b[0;34m\u001b[0m\u001b[0m\n\u001b[0;32m----> 8\u001b[0;31m     \u001b[0mlg\u001b[0m\u001b[0;34m.\u001b[0m\u001b[0mfit\u001b[0m\u001b[0;34m(\u001b[0m\u001b[0mX_train\u001b[0m\u001b[0;34m,\u001b[0m \u001b[0mtrain\u001b[0m\u001b[0;34m[\u001b[0m\u001b[0;34m'CATEGORY'\u001b[0m\u001b[0;34m]\u001b[0m\u001b[0;34m)\u001b[0m\u001b[0;34m\u001b[0m\u001b[0;34m\u001b[0m\u001b[0m\n\u001b[0m\u001b[1;32m      9\u001b[0m     \u001b[0mx\u001b[0m\u001b[0;34m.\u001b[0m\u001b[0mappend\u001b[0m\u001b[0;34m(\u001b[0m\u001b[0mC\u001b[0m\u001b[0;34m)\u001b[0m\u001b[0;34m\u001b[0m\u001b[0;34m\u001b[0m\u001b[0m\n\u001b[1;32m     10\u001b[0m     \u001b[0mtrain_accuracy\u001b[0m\u001b[0;34m.\u001b[0m\u001b[0mappend\u001b[0m\u001b[0;34m(\u001b[0m\u001b[0maccuracy_score\u001b[0m\u001b[0;34m(\u001b[0m\u001b[0mtrain\u001b[0m\u001b[0;34m[\u001b[0m\u001b[0;34m'CATEGORY'\u001b[0m\u001b[0;34m]\u001b[0m\u001b[0;34m,\u001b[0m \u001b[0mlg\u001b[0m\u001b[0;34m.\u001b[0m\u001b[0mpredict\u001b[0m\u001b[0;34m(\u001b[0m\u001b[0mX_train\u001b[0m\u001b[0;34m)\u001b[0m\u001b[0;34m)\u001b[0m\u001b[0;34m)\u001b[0m\u001b[0;34m\u001b[0m\u001b[0;34m\u001b[0m\u001b[0m\n",
      "\u001b[0;32m~/.pyenv/versions/anaconda3-2021.05/lib/python3.8/site-packages/sklearn/linear_model/_logistic.py\u001b[0m in \u001b[0;36mfit\u001b[0;34m(self, X, y, sample_weight)\u001b[0m\n\u001b[1;32m   1404\u001b[0m         \u001b[0;32melse\u001b[0m\u001b[0;34m:\u001b[0m\u001b[0;34m\u001b[0m\u001b[0;34m\u001b[0m\u001b[0m\n\u001b[1;32m   1405\u001b[0m             \u001b[0mprefer\u001b[0m \u001b[0;34m=\u001b[0m \u001b[0;34m'processes'\u001b[0m\u001b[0;34m\u001b[0m\u001b[0;34m\u001b[0m\u001b[0m\n\u001b[0;32m-> 1406\u001b[0;31m         fold_coefs_ = Parallel(n_jobs=self.n_jobs, verbose=self.verbose,\n\u001b[0m\u001b[1;32m   1407\u001b[0m                                \u001b[0;34m**\u001b[0m\u001b[0m_joblib_parallel_args\u001b[0m\u001b[0;34m(\u001b[0m\u001b[0mprefer\u001b[0m\u001b[0;34m=\u001b[0m\u001b[0mprefer\u001b[0m\u001b[0;34m)\u001b[0m\u001b[0;34m)\u001b[0m\u001b[0;34m(\u001b[0m\u001b[0;34m\u001b[0m\u001b[0;34m\u001b[0m\u001b[0m\n\u001b[1;32m   1408\u001b[0m             path_func(X, y, pos_class=class_, Cs=[C_],\n",
      "\u001b[0;32m~/.pyenv/versions/anaconda3-2021.05/lib/python3.8/site-packages/joblib/parallel.py\u001b[0m in \u001b[0;36m__call__\u001b[0;34m(self, iterable)\u001b[0m\n\u001b[1;32m   1039\u001b[0m             \u001b[0;31m# remaining jobs.\u001b[0m\u001b[0;34m\u001b[0m\u001b[0;34m\u001b[0m\u001b[0;34m\u001b[0m\u001b[0m\n\u001b[1;32m   1040\u001b[0m             \u001b[0mself\u001b[0m\u001b[0;34m.\u001b[0m\u001b[0m_iterating\u001b[0m \u001b[0;34m=\u001b[0m \u001b[0;32mFalse\u001b[0m\u001b[0;34m\u001b[0m\u001b[0;34m\u001b[0m\u001b[0m\n\u001b[0;32m-> 1041\u001b[0;31m             \u001b[0;32mif\u001b[0m \u001b[0mself\u001b[0m\u001b[0;34m.\u001b[0m\u001b[0mdispatch_one_batch\u001b[0m\u001b[0;34m(\u001b[0m\u001b[0miterator\u001b[0m\u001b[0;34m)\u001b[0m\u001b[0;34m:\u001b[0m\u001b[0;34m\u001b[0m\u001b[0;34m\u001b[0m\u001b[0m\n\u001b[0m\u001b[1;32m   1042\u001b[0m                 \u001b[0mself\u001b[0m\u001b[0;34m.\u001b[0m\u001b[0m_iterating\u001b[0m \u001b[0;34m=\u001b[0m \u001b[0mself\u001b[0m\u001b[0;34m.\u001b[0m\u001b[0m_original_iterator\u001b[0m \u001b[0;32mis\u001b[0m \u001b[0;32mnot\u001b[0m \u001b[0;32mNone\u001b[0m\u001b[0;34m\u001b[0m\u001b[0;34m\u001b[0m\u001b[0m\n\u001b[1;32m   1043\u001b[0m \u001b[0;34m\u001b[0m\u001b[0m\n",
      "\u001b[0;32m~/.pyenv/versions/anaconda3-2021.05/lib/python3.8/site-packages/joblib/parallel.py\u001b[0m in \u001b[0;36mdispatch_one_batch\u001b[0;34m(self, iterator)\u001b[0m\n\u001b[1;32m    857\u001b[0m                 \u001b[0;32mreturn\u001b[0m \u001b[0;32mFalse\u001b[0m\u001b[0;34m\u001b[0m\u001b[0;34m\u001b[0m\u001b[0m\n\u001b[1;32m    858\u001b[0m             \u001b[0;32melse\u001b[0m\u001b[0;34m:\u001b[0m\u001b[0;34m\u001b[0m\u001b[0;34m\u001b[0m\u001b[0m\n\u001b[0;32m--> 859\u001b[0;31m                 \u001b[0mself\u001b[0m\u001b[0;34m.\u001b[0m\u001b[0m_dispatch\u001b[0m\u001b[0;34m(\u001b[0m\u001b[0mtasks\u001b[0m\u001b[0;34m)\u001b[0m\u001b[0;34m\u001b[0m\u001b[0;34m\u001b[0m\u001b[0m\n\u001b[0m\u001b[1;32m    860\u001b[0m                 \u001b[0;32mreturn\u001b[0m \u001b[0;32mTrue\u001b[0m\u001b[0;34m\u001b[0m\u001b[0;34m\u001b[0m\u001b[0m\n\u001b[1;32m    861\u001b[0m \u001b[0;34m\u001b[0m\u001b[0m\n",
      "\u001b[0;32m~/.pyenv/versions/anaconda3-2021.05/lib/python3.8/site-packages/joblib/parallel.py\u001b[0m in \u001b[0;36m_dispatch\u001b[0;34m(self, batch)\u001b[0m\n\u001b[1;32m    775\u001b[0m         \u001b[0;32mwith\u001b[0m \u001b[0mself\u001b[0m\u001b[0;34m.\u001b[0m\u001b[0m_lock\u001b[0m\u001b[0;34m:\u001b[0m\u001b[0;34m\u001b[0m\u001b[0;34m\u001b[0m\u001b[0m\n\u001b[1;32m    776\u001b[0m             \u001b[0mjob_idx\u001b[0m \u001b[0;34m=\u001b[0m \u001b[0mlen\u001b[0m\u001b[0;34m(\u001b[0m\u001b[0mself\u001b[0m\u001b[0;34m.\u001b[0m\u001b[0m_jobs\u001b[0m\u001b[0;34m)\u001b[0m\u001b[0;34m\u001b[0m\u001b[0;34m\u001b[0m\u001b[0m\n\u001b[0;32m--> 777\u001b[0;31m             \u001b[0mjob\u001b[0m \u001b[0;34m=\u001b[0m \u001b[0mself\u001b[0m\u001b[0;34m.\u001b[0m\u001b[0m_backend\u001b[0m\u001b[0;34m.\u001b[0m\u001b[0mapply_async\u001b[0m\u001b[0;34m(\u001b[0m\u001b[0mbatch\u001b[0m\u001b[0;34m,\u001b[0m \u001b[0mcallback\u001b[0m\u001b[0;34m=\u001b[0m\u001b[0mcb\u001b[0m\u001b[0;34m)\u001b[0m\u001b[0;34m\u001b[0m\u001b[0;34m\u001b[0m\u001b[0m\n\u001b[0m\u001b[1;32m    778\u001b[0m             \u001b[0;31m# A job can complete so quickly than its callback is\u001b[0m\u001b[0;34m\u001b[0m\u001b[0;34m\u001b[0m\u001b[0;34m\u001b[0m\u001b[0m\n\u001b[1;32m    779\u001b[0m             \u001b[0;31m# called before we get here, causing self._jobs to\u001b[0m\u001b[0;34m\u001b[0m\u001b[0;34m\u001b[0m\u001b[0;34m\u001b[0m\u001b[0m\n",
      "\u001b[0;32m~/.pyenv/versions/anaconda3-2021.05/lib/python3.8/site-packages/joblib/_parallel_backends.py\u001b[0m in \u001b[0;36mapply_async\u001b[0;34m(self, func, callback)\u001b[0m\n\u001b[1;32m    206\u001b[0m     \u001b[0;32mdef\u001b[0m \u001b[0mapply_async\u001b[0m\u001b[0;34m(\u001b[0m\u001b[0mself\u001b[0m\u001b[0;34m,\u001b[0m \u001b[0mfunc\u001b[0m\u001b[0;34m,\u001b[0m \u001b[0mcallback\u001b[0m\u001b[0;34m=\u001b[0m\u001b[0;32mNone\u001b[0m\u001b[0;34m)\u001b[0m\u001b[0;34m:\u001b[0m\u001b[0;34m\u001b[0m\u001b[0;34m\u001b[0m\u001b[0m\n\u001b[1;32m    207\u001b[0m         \u001b[0;34m\"\"\"Schedule a func to be run\"\"\"\u001b[0m\u001b[0;34m\u001b[0m\u001b[0;34m\u001b[0m\u001b[0m\n\u001b[0;32m--> 208\u001b[0;31m         \u001b[0mresult\u001b[0m \u001b[0;34m=\u001b[0m \u001b[0mImmediateResult\u001b[0m\u001b[0;34m(\u001b[0m\u001b[0mfunc\u001b[0m\u001b[0;34m)\u001b[0m\u001b[0;34m\u001b[0m\u001b[0;34m\u001b[0m\u001b[0m\n\u001b[0m\u001b[1;32m    209\u001b[0m         \u001b[0;32mif\u001b[0m \u001b[0mcallback\u001b[0m\u001b[0;34m:\u001b[0m\u001b[0;34m\u001b[0m\u001b[0;34m\u001b[0m\u001b[0m\n\u001b[1;32m    210\u001b[0m             \u001b[0mcallback\u001b[0m\u001b[0;34m(\u001b[0m\u001b[0mresult\u001b[0m\u001b[0;34m)\u001b[0m\u001b[0;34m\u001b[0m\u001b[0;34m\u001b[0m\u001b[0m\n",
      "\u001b[0;32m~/.pyenv/versions/anaconda3-2021.05/lib/python3.8/site-packages/joblib/_parallel_backends.py\u001b[0m in \u001b[0;36m__init__\u001b[0;34m(self, batch)\u001b[0m\n\u001b[1;32m    570\u001b[0m         \u001b[0;31m# Don't delay the application, to avoid keeping the input\u001b[0m\u001b[0;34m\u001b[0m\u001b[0;34m\u001b[0m\u001b[0;34m\u001b[0m\u001b[0m\n\u001b[1;32m    571\u001b[0m         \u001b[0;31m# arguments in memory\u001b[0m\u001b[0;34m\u001b[0m\u001b[0;34m\u001b[0m\u001b[0;34m\u001b[0m\u001b[0m\n\u001b[0;32m--> 572\u001b[0;31m         \u001b[0mself\u001b[0m\u001b[0;34m.\u001b[0m\u001b[0mresults\u001b[0m \u001b[0;34m=\u001b[0m \u001b[0mbatch\u001b[0m\u001b[0;34m(\u001b[0m\u001b[0;34m)\u001b[0m\u001b[0;34m\u001b[0m\u001b[0;34m\u001b[0m\u001b[0m\n\u001b[0m\u001b[1;32m    573\u001b[0m \u001b[0;34m\u001b[0m\u001b[0m\n\u001b[1;32m    574\u001b[0m     \u001b[0;32mdef\u001b[0m \u001b[0mget\u001b[0m\u001b[0;34m(\u001b[0m\u001b[0mself\u001b[0m\u001b[0;34m)\u001b[0m\u001b[0;34m:\u001b[0m\u001b[0;34m\u001b[0m\u001b[0;34m\u001b[0m\u001b[0m\n",
      "\u001b[0;32m~/.pyenv/versions/anaconda3-2021.05/lib/python3.8/site-packages/joblib/parallel.py\u001b[0m in \u001b[0;36m__call__\u001b[0;34m(self)\u001b[0m\n\u001b[1;32m    260\u001b[0m         \u001b[0;31m# change the default number of processes to -1\u001b[0m\u001b[0;34m\u001b[0m\u001b[0;34m\u001b[0m\u001b[0;34m\u001b[0m\u001b[0m\n\u001b[1;32m    261\u001b[0m         \u001b[0;32mwith\u001b[0m \u001b[0mparallel_backend\u001b[0m\u001b[0;34m(\u001b[0m\u001b[0mself\u001b[0m\u001b[0;34m.\u001b[0m\u001b[0m_backend\u001b[0m\u001b[0;34m,\u001b[0m \u001b[0mn_jobs\u001b[0m\u001b[0;34m=\u001b[0m\u001b[0mself\u001b[0m\u001b[0;34m.\u001b[0m\u001b[0m_n_jobs\u001b[0m\u001b[0;34m)\u001b[0m\u001b[0;34m:\u001b[0m\u001b[0;34m\u001b[0m\u001b[0;34m\u001b[0m\u001b[0m\n\u001b[0;32m--> 262\u001b[0;31m             return [func(*args, **kwargs)\n\u001b[0m\u001b[1;32m    263\u001b[0m                     for func, args, kwargs in self.items]\n\u001b[1;32m    264\u001b[0m \u001b[0;34m\u001b[0m\u001b[0m\n",
      "\u001b[0;32m~/.pyenv/versions/anaconda3-2021.05/lib/python3.8/site-packages/joblib/parallel.py\u001b[0m in \u001b[0;36m<listcomp>\u001b[0;34m(.0)\u001b[0m\n\u001b[1;32m    260\u001b[0m         \u001b[0;31m# change the default number of processes to -1\u001b[0m\u001b[0;34m\u001b[0m\u001b[0;34m\u001b[0m\u001b[0;34m\u001b[0m\u001b[0m\n\u001b[1;32m    261\u001b[0m         \u001b[0;32mwith\u001b[0m \u001b[0mparallel_backend\u001b[0m\u001b[0;34m(\u001b[0m\u001b[0mself\u001b[0m\u001b[0;34m.\u001b[0m\u001b[0m_backend\u001b[0m\u001b[0;34m,\u001b[0m \u001b[0mn_jobs\u001b[0m\u001b[0;34m=\u001b[0m\u001b[0mself\u001b[0m\u001b[0;34m.\u001b[0m\u001b[0m_n_jobs\u001b[0m\u001b[0;34m)\u001b[0m\u001b[0;34m:\u001b[0m\u001b[0;34m\u001b[0m\u001b[0;34m\u001b[0m\u001b[0m\n\u001b[0;32m--> 262\u001b[0;31m             return [func(*args, **kwargs)\n\u001b[0m\u001b[1;32m    263\u001b[0m                     for func, args, kwargs in self.items]\n\u001b[1;32m    264\u001b[0m \u001b[0;34m\u001b[0m\u001b[0m\n",
      "\u001b[0;32m~/.pyenv/versions/anaconda3-2021.05/lib/python3.8/site-packages/sklearn/utils/fixes.py\u001b[0m in \u001b[0;36m__call__\u001b[0;34m(self, *args, **kwargs)\u001b[0m\n\u001b[1;32m    220\u001b[0m     \u001b[0;32mdef\u001b[0m \u001b[0m__call__\u001b[0m\u001b[0;34m(\u001b[0m\u001b[0mself\u001b[0m\u001b[0;34m,\u001b[0m \u001b[0;34m*\u001b[0m\u001b[0margs\u001b[0m\u001b[0;34m,\u001b[0m \u001b[0;34m**\u001b[0m\u001b[0mkwargs\u001b[0m\u001b[0;34m)\u001b[0m\u001b[0;34m:\u001b[0m\u001b[0;34m\u001b[0m\u001b[0;34m\u001b[0m\u001b[0m\n\u001b[1;32m    221\u001b[0m         \u001b[0;32mwith\u001b[0m \u001b[0mconfig_context\u001b[0m\u001b[0;34m(\u001b[0m\u001b[0;34m**\u001b[0m\u001b[0mself\u001b[0m\u001b[0;34m.\u001b[0m\u001b[0mconfig\u001b[0m\u001b[0;34m)\u001b[0m\u001b[0;34m:\u001b[0m\u001b[0;34m\u001b[0m\u001b[0;34m\u001b[0m\u001b[0m\n\u001b[0;32m--> 222\u001b[0;31m             \u001b[0;32mreturn\u001b[0m \u001b[0mself\u001b[0m\u001b[0;34m.\u001b[0m\u001b[0mfunction\u001b[0m\u001b[0;34m(\u001b[0m\u001b[0;34m*\u001b[0m\u001b[0margs\u001b[0m\u001b[0;34m,\u001b[0m \u001b[0;34m**\u001b[0m\u001b[0mkwargs\u001b[0m\u001b[0;34m)\u001b[0m\u001b[0;34m\u001b[0m\u001b[0;34m\u001b[0m\u001b[0m\n\u001b[0m",
      "\u001b[0;32m~/.pyenv/versions/anaconda3-2021.05/lib/python3.8/site-packages/sklearn/linear_model/_logistic.py\u001b[0m in \u001b[0;36m_logistic_regression_path\u001b[0;34m(X, y, pos_class, Cs, fit_intercept, max_iter, tol, verbose, solver, coef, class_weight, dual, penalty, intercept_scaling, multi_class, random_state, check_input, max_squared_sum, sample_weight, l1_ratio)\u001b[0m\n\u001b[1;32m    756\u001b[0m             iprint = [-1, 50, 1, 100, 101][\n\u001b[1;32m    757\u001b[0m                 np.searchsorted(np.array([0, 1, 2, 3]), verbose)]\n\u001b[0;32m--> 758\u001b[0;31m             opt_res = optimize.minimize(\n\u001b[0m\u001b[1;32m    759\u001b[0m                 \u001b[0mfunc\u001b[0m\u001b[0;34m,\u001b[0m \u001b[0mw0\u001b[0m\u001b[0;34m,\u001b[0m \u001b[0mmethod\u001b[0m\u001b[0;34m=\u001b[0m\u001b[0;34m\"L-BFGS-B\"\u001b[0m\u001b[0;34m,\u001b[0m \u001b[0mjac\u001b[0m\u001b[0;34m=\u001b[0m\u001b[0;32mTrue\u001b[0m\u001b[0;34m,\u001b[0m\u001b[0;34m\u001b[0m\u001b[0;34m\u001b[0m\u001b[0m\n\u001b[1;32m    760\u001b[0m                 \u001b[0margs\u001b[0m\u001b[0;34m=\u001b[0m\u001b[0;34m(\u001b[0m\u001b[0mX\u001b[0m\u001b[0;34m,\u001b[0m \u001b[0mtarget\u001b[0m\u001b[0;34m,\u001b[0m \u001b[0;36m1.\u001b[0m \u001b[0;34m/\u001b[0m \u001b[0mC\u001b[0m\u001b[0;34m,\u001b[0m \u001b[0msample_weight\u001b[0m\u001b[0;34m)\u001b[0m\u001b[0;34m,\u001b[0m\u001b[0;34m\u001b[0m\u001b[0;34m\u001b[0m\u001b[0m\n",
      "\u001b[0;32m~/.pyenv/versions/anaconda3-2021.05/lib/python3.8/site-packages/scipy/optimize/_minimize.py\u001b[0m in \u001b[0;36mminimize\u001b[0;34m(fun, x0, args, method, jac, hess, hessp, bounds, constraints, tol, callback, options)\u001b[0m\n\u001b[1;32m    617\u001b[0m                                   **options)\n\u001b[1;32m    618\u001b[0m     \u001b[0;32melif\u001b[0m \u001b[0mmeth\u001b[0m \u001b[0;34m==\u001b[0m \u001b[0;34m'l-bfgs-b'\u001b[0m\u001b[0;34m:\u001b[0m\u001b[0;34m\u001b[0m\u001b[0;34m\u001b[0m\u001b[0m\n\u001b[0;32m--> 619\u001b[0;31m         return _minimize_lbfgsb(fun, x0, args, jac, bounds,\n\u001b[0m\u001b[1;32m    620\u001b[0m                                 callback=callback, **options)\n\u001b[1;32m    621\u001b[0m     \u001b[0;32melif\u001b[0m \u001b[0mmeth\u001b[0m \u001b[0;34m==\u001b[0m \u001b[0;34m'tnc'\u001b[0m\u001b[0;34m:\u001b[0m\u001b[0;34m\u001b[0m\u001b[0;34m\u001b[0m\u001b[0m\n",
      "\u001b[0;32m~/.pyenv/versions/anaconda3-2021.05/lib/python3.8/site-packages/scipy/optimize/lbfgsb.py\u001b[0m in \u001b[0;36m_minimize_lbfgsb\u001b[0;34m(fun, x0, args, jac, bounds, disp, maxcor, ftol, gtol, eps, maxfun, maxiter, iprint, callback, maxls, finite_diff_rel_step, **unknown_options)\u001b[0m\n\u001b[1;32m    349\u001b[0m     \u001b[0;32mwhile\u001b[0m \u001b[0;36m1\u001b[0m\u001b[0;34m:\u001b[0m\u001b[0;34m\u001b[0m\u001b[0;34m\u001b[0m\u001b[0m\n\u001b[1;32m    350\u001b[0m         \u001b[0;31m# x, f, g, wa, iwa, task, csave, lsave, isave, dsave = \\\u001b[0m\u001b[0;34m\u001b[0m\u001b[0;34m\u001b[0m\u001b[0;34m\u001b[0m\u001b[0m\n\u001b[0;32m--> 351\u001b[0;31m         _lbfgsb.setulb(m, x, low_bnd, upper_bnd, nbd, f, g, factr,\n\u001b[0m\u001b[1;32m    352\u001b[0m                        \u001b[0mpgtol\u001b[0m\u001b[0;34m,\u001b[0m \u001b[0mwa\u001b[0m\u001b[0;34m,\u001b[0m \u001b[0miwa\u001b[0m\u001b[0;34m,\u001b[0m \u001b[0mtask\u001b[0m\u001b[0;34m,\u001b[0m \u001b[0miprint\u001b[0m\u001b[0;34m,\u001b[0m \u001b[0mcsave\u001b[0m\u001b[0;34m,\u001b[0m \u001b[0mlsave\u001b[0m\u001b[0;34m,\u001b[0m\u001b[0;34m\u001b[0m\u001b[0;34m\u001b[0m\u001b[0m\n\u001b[1;32m    353\u001b[0m                        isave, dsave, maxls)\n",
      "\u001b[0;31mKeyboardInterrupt\u001b[0m: "
     ]
    }
   ],
   "source": [
    "from tqdm import tqdm\n",
    "x = []\n",
    "train_accuracy = []\n",
    "valid_accuracy = []\n",
    "test_accuracy = []\n",
    "for C in tqdm(np.logspace(-5, 4, 10)):\n",
    "    lg = LogisticRegression(random_state=123, max_iter=10000, C=C)\n",
    "    lg.fit(X_train, train['CATEGORY'])\n",
    "    x.append(C)\n",
    "    train_accuracy.append(accuracy_score(train['CATEGORY'], lg.predict(X_train)))\n",
    "    valid_accuracy.append(accuracy_score(valid['CATEGORY'], lg.predict(X_valid)))\n",
    "    test_accuracy.append(accuracy_score(test['CATEGORY'], lg.predict(X_test)))"
   ]
  },
  {
   "cell_type": "code",
   "execution_count": null,
   "id": "9e869dc0-85d9-48d8-8256-c230cbcca7e0",
   "metadata": {},
   "outputs": [],
   "source": [
    "plt.plot(x, train_accuracy, label='train')\n",
    "plt.plot(x, valid_accuracy, label='valid')\n",
    "plt.plot(x, test_accuracy, label='test')\n",
    "plt.ylim(0, 1.1)\n",
    "plt.ylabel('Accuracy')\n",
    "plt.xscale ('log')\n",
    "plt.xlabel('C')\n",
    "plt.legend()\n",
    "plt.show()"
   ]
  },
  {
   "cell_type": "code",
   "execution_count": null,
   "id": "77759798-5346-473f-b287-c1531e6caa42",
   "metadata": {},
   "outputs": [],
   "source": [
    "!pip install optuna"
   ]
  },
  {
   "cell_type": "code",
   "execution_count": null,
   "id": "5055adac-1837-4f96-b84e-9fcc256ca864",
   "metadata": {},
   "outputs": [],
   "source": [
    "\n",
    "def objective_lg(trial):\n",
    "    l1_ratio = trial.suggest_uniform('l1_ratio', 0, 1)\n",
    "    C = trial.suggest_loguniform('C', 1e-4, 1e4)\n",
    "    \n",
    "    lg = LogisticRegression(random_state=123, max_iter=10000, penalty='elasticnet',solver='saga', l1_ratio=l1_ratio, C=C)\n",
    "    lg.fit(X_train, train['CATEGORY'])\n",
    "    valid_accuracy = accuracy_score(valid['CATEGORY'], lg.predict(X_valid))\n",
    "    return valid_accuracy"
   ]
  },
  {
   "cell_type": "code",
   "execution_count": null,
   "id": "8dfbb7d8-c56c-4cb8-a408-f3e08a3003f4",
   "metadata": {},
   "outputs": [],
   "source": [
    "import optuna\n",
    "\n",
    "study = optuna.create_study(direction='maximize')\n",
    "study.optimize(objective_lg, timeout=360)"
   ]
  },
  {
   "cell_type": "code",
   "execution_count": null,
   "id": "53195169-a8d4-4500-a4a8-9c48d6c862e9",
   "metadata": {},
   "outputs": [],
   "source": [
    "trial = study.best_trial\n",
    "print(f'bestvalue:{trial.value}')\n",
    "for key, value in trial.params.items():\n",
    "    print(f'l1_ratio:{key}')\n",
    "    print(f'C:{value}')"
   ]
  },
  {
   "cell_type": "code",
   "execution_count": null,
   "id": "edb9ea50-9488-42de-9c37-3652a5c4ff36",
   "metadata": {},
   "outputs": [],
   "source": [
    "from sklearn.multiclass import OneVsRestClassifier\n",
    "from sklearn.svm import SVC\n",
    "\n",
    "C = 100\n",
    "kernel = 'rbf'\n",
    "gamma  = 0.01\n",
    "\n",
    "estimator = SVC(C=C, kernel=kernel, gamma=gamma)\n",
    "classifier = OneVsRestClassifier(estimator)\n",
    "classifier.fit(X_train, train['CATEGORY'])\n",
    "pred_y = classifier.predict(X_test)"
   ]
  },
  {
   "cell_type": "code",
   "execution_count": null,
   "id": "327236fa-4302-4885-86ae-49ce803ca403",
   "metadata": {},
   "outputs": [],
   "source": [
    "print(accuracy_score(test['CATEGORY'], pred_y))"
   ]
  },
  {
   "cell_type": "code",
   "execution_count": null,
   "id": "60389c21-2c19-43d8-b81d-e0a6cee084ba",
   "metadata": {},
   "outputs": [],
   "source": [
    "def objective_svc(trial):\n",
    "    kernel = 'rbf'\n",
    "    C = trial.suggest_loguniform('C',1e-1, 1e+2)\n",
    "    gamma = trial.suggest_uniform('gamma',1e-4, 1e+2)\n",
    "    \n",
    "    estimator = SVC(C=C, kernel=kernel, gamma=gamma)\n",
    "    classifier = OneVsRestClassifier(estimator)\n",
    "    classifier.fit(X_train, train['CATEGORY'])\n",
    "    pred_y = classifier.predict(X_test)\n",
    "    return accuracy_score(test['CATEGORY'], pred_y)"
   ]
  },
  {
   "cell_type": "code",
   "execution_count": null,
   "id": "1d55d3e2-2ab5-4b9d-a099-4bab56e31cc6",
   "metadata": {},
   "outputs": [],
   "source": [
    "study = optuna.create_study(direction='maximize')\n",
    "study.optimize(objective_svc, timeout=360)"
   ]
  },
  {
   "cell_type": "code",
   "execution_count": null,
   "id": "09a2ab3a-bfc9-464b-9464-4113e0a92f37",
   "metadata": {},
   "outputs": [],
   "source": [
    "from sklearn.ensemble import RandomForestClassifier\n",
    "\n",
    "clf = RandomForestClassifier(random_state=1234)\n",
    "clf.fit(X_train, train['CATEGORY'])\n",
    "pred_y = clf.score(X_test, test['CATEGORY'])\n",
    "print(pred_y)"
   ]
  },
  {
   "cell_type": "code",
   "execution_count": null,
   "id": "9f60faa1-2cf9-48e4-aab8-93a26714aa3a",
   "metadata": {},
   "outputs": [],
   "source": []
  }
 ],
 "metadata": {
  "kernelspec": {
   "display_name": "Python 3",
   "language": "python",
   "name": "python3"
  },
  "language_info": {
   "codemirror_mode": {
    "name": "ipython",
    "version": 3
   },
   "file_extension": ".py",
   "mimetype": "text/x-python",
   "name": "python",
   "nbconvert_exporter": "python",
   "pygments_lexer": "ipython3",
   "version": "3.8.8"
  }
 },
 "nbformat": 4,
 "nbformat_minor": 5
}
