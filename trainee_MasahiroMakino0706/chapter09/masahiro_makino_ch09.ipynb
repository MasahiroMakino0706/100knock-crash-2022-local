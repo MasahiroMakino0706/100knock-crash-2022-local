{
 "cells": [
  {
   "cell_type": "markdown",
   "metadata": {
    "id": "4QjfFRhGldfy"
   },
   "source": [
    "# 第9章: RNN, CNN\n",
    "## 80. ID番号への変換\n",
    "\n",
    "問題51で構築した学習データ中の単語にユニークなID番号を付与したい．学習データ中で最も頻出する単語に1，2番目に頻出する単語に2，……といった方法で，学習データ中で2回以上出現する単語にID番号を付与せよ．そして，与えられた単語列に対して，ID番号の列を返す関数を実装せよ．ただし，出現頻度が2回未満の単語のID番号はすべて0とせよ．"
   ]
  },
  {
   "cell_type": "code",
   "execution_count": 1,
   "metadata": {},
   "outputs": [],
   "source": [
    "import torch\n",
    "import torch.nn as nn\n",
    "import torch.nn.utils.rnn as rnn\n",
    "from tqdm import tqdm\n",
    "from sklearn.metrics import accuracy_score\n",
    "import numpy as np\n",
    "import random\n",
    "import matplotlib.pyplot as plt"
   ]
  },
  {
   "cell_type": "code",
   "execution_count": 2,
   "metadata": {},
   "outputs": [],
   "source": [
    "seed = 123"
   ]
  },
  {
   "cell_type": "code",
   "execution_count": 3,
   "metadata": {},
   "outputs": [],
   "source": [
    "random.seed(seed)\n",
    "np.random.seed(seed)\n",
    "torch.manual_seed(seed)\n",
    "torch.cuda.manual_seed_all(seed)"
   ]
  },
  {
   "cell_type": "code",
   "execution_count": 4,
   "metadata": {},
   "outputs": [
    {
     "name": "stdout",
     "output_type": "stream",
     "text": [
      "==> data/train.txt <==\n",
      "TITLE\tCATEGORY\n",
      "update 0 us wins car import duties trade case against china\tb\n",
      "forex dollar gains against euro as draghi hints at action\tb\n",
      "will smith   willow smith causes a stir with controversial bed photo\te\n",
      "qatar reprises distressed investor role with deutsche funds  0 \tb\n",
      "update 0 gm to invest  0 bln in china and plans more plants\tb\n",
      "update 0 vietnam vows tough measures to avert anti china unrest\tb\n",
      "paying it forward  shopper  0  buys  0 worth of diapers for cash strapped     \tb\n",
      "most emerging market stocks advance before us payroll report\tb\n",
      "mcdonald s offering free coffee for two weeks in taco bell breakfast war\tb\n",
      "\n",
      "==> data/valid.txt <==\n",
      "TITLE\tCATEGORY\n",
      "european factors to watch shares seen steady at open  bnp in focus\tb\n",
      "mega upload founder kim dotcom sued by six of the biggest film studios     \te\n",
      "caribbean competition drags down carnival s profit forecast\tb\n",
      "miley cyrus   miley cyrus stays sober on tour\te\n",
      "israel readies for passover  marking egypt exodus\te\n",
      "ryanair scraps bag check in fees for business travellers\tb\n",
      "update 0 mitsubishi recalls lancer sedans with takata air bags\tt\n",
      "update 0 oracle quarterly results disappoint wall st  shares fall\tb\n",
      "global markets world stocks  copper and oil hit by weak china exports\tb\n",
      "\n",
      "==> data/test.txt <==\n",
      "TITLE\tCATEGORY\n",
      "star trek   william shatner receives prestigious nasa honour\tt\n",
      "corrected biblical epic  noah  tests director aronofsky s blockbuster chops\te\n",
      "toyota to sell fuel cell vehicle by end march 0 in japan\tt\n",
      "climate change dangers here now  will worsen many human ills  un panel     \tt\n",
      "benedict cumberbatch cuts a dapper figure in a smart suit as he films seventies     \te\n",
      "update 0 intel raises outlook on stronger pc demand  shares jump\tb\n",
      "man travels from ny to miami without spending a cent\tb\n",
      "rpt fitch affirms singtel   singtel optus at  a    a   outlook stable\tb\n",
      "oil seen rising faster than market shows on iraq violence\tb\n"
     ]
    }
   ],
   "source": [
    "#問題51で構築した学習データの確認\n",
    "!head data/train.txt data/valid.txt data/test.txt"
   ]
  },
  {
   "cell_type": "markdown",
   "metadata": {},
   "source": [
    "- 手順\n",
    "  - ID番号をつける\n",
    "    1. ファイルから文字列を取得\n",
    "    2. 特徴量とラベルでデータを分ける\n",
    "    3. 特徴量の単語を全てリストに格納する\n",
    "    4. collectionsモジュールのCounter関数を使用する\n",
    "    5. sorted()関数でバリューの降順でタプルとして並び替える\n",
    "    6. タプルの降順にID番号を付与することで新たな辞書を作成\n",
    "    7. 中間生成物としてpickleで保存\n",
    "  - 単語列を入力としてID番号の列をを出力とする関数を定義\n",
    "    1. 単語に対応する辞書のキーが存在していればバリューを返す\n",
    "    2. 全ての単語に対して1を適用して、結果をリストに格納していく\n",
    "    3. 得られたリストを返す"
   ]
  },
  {
   "cell_type": "code",
   "execution_count": 5,
   "metadata": {},
   "outputs": [],
   "source": [
    "###ファイルから文字列を取得###\n",
    "with open('data/train.txt') as tr, open('data/valid.txt') as va, open('data/test.txt') as te: \n",
    "    train, valid, test = tr.readlines()[1:], va.readlines()[1:], te.readlines()[1:]"
   ]
  },
  {
   "cell_type": "code",
   "execution_count": 6,
   "metadata": {},
   "outputs": [],
   "source": [
    "#特徴量とラベルを分ける関数を定義\n",
    "def feature_label(lis):\n",
    "    X, y = [], []\n",
    "    for i in range(len(lis)):\n",
    "        X.append(lis[i].split('\\t')[0])\n",
    "        y.append(lis[i].split('\\t')[1])\n",
    "    return X, y"
   ]
  },
  {
   "cell_type": "code",
   "execution_count": 7,
   "metadata": {},
   "outputs": [
    {
     "name": "stdout",
     "output_type": "stream",
     "text": [
      "訓練データの特徴量数：10671、訓練データのラベル数：10671\n",
      "検証データの特徴量数：1334、検証データのラベル数：1334\n",
      "テストデータの特徴量数：1334、テストデータのラベル数：1334\n"
     ]
    }
   ],
   "source": [
    "###特徴量とラベルを分ける関数を適用###\n",
    "X_train, y_train = feature_label(train)\n",
    "X_valid, y_valid = feature_label(valid)\n",
    "X_test, y_test = feature_label(test)\n",
    "\n",
    "#確認\n",
    "print(f'訓練データの特徴量数：{len(X_train)}、訓練データのラベル数：{len(y_train)}')\n",
    "print(f'検証データの特徴量数：{len(X_valid)}、検証データのラベル数：{len(y_valid)}')\n",
    "print(f'テストデータの特徴量数：{len(X_test)}、テストデータのラベル数：{len(y_test)}')"
   ]
  },
  {
   "cell_type": "code",
   "execution_count": 8,
   "metadata": {},
   "outputs": [
    {
     "name": "stdout",
     "output_type": "stream",
     "text": [
      "['update', '0', 'us', 'wins', 'car']\n"
     ]
    }
   ],
   "source": [
    "###特徴量の単語をすべてリストに格納する###\n",
    "X_feature = X_train + X_valid + X_test\n",
    "word = []\n",
    "\n",
    "#単語に分割\n",
    "for i in range(len(X_feature)):\n",
    "    word.append(X_feature[i].split())\n",
    "\n",
    "#単語のリストを生成\n",
    "word_list = sum(word, []) #なんで空のリストを最後に足し合わせる必要があるのだろうか\n",
    "\n",
    "#確認\n",
    "print(word_list[:5])"
   ]
  },
  {
   "cell_type": "markdown",
   "metadata": {},
   "source": [
    "## sum()関数\n",
    "- 第二引数は何も指定しないとint型の0\n",
    "  - リストのリスト同士を結合したい場合は第二引数に空のリストを渡す必要がある\n",
    "- 文字列型リストの要素同士を結合したい場合はjoin()を使うと速い\n",
    "\n",
    "(https://docs.python.org/ja/3/library/functions.html?highlight=sum#sum)"
   ]
  },
  {
   "cell_type": "code",
   "execution_count": 9,
   "metadata": {},
   "outputs": [],
   "source": [
    "###collectionsモジュールのCounter()関数を使用###\n",
    "import collections\n",
    "word_count = collections.Counter(word_list)"
   ]
  },
  {
   "cell_type": "code",
   "execution_count": 10,
   "metadata": {},
   "outputs": [],
   "source": [
    "###sorted()関数でバリューの降順でタプルとして並び替える###\n",
    "word_count = sorted(word_count.items(), key=lambda x:x[1], reverse=True)"
   ]
  },
  {
   "cell_type": "code",
   "execution_count": 11,
   "metadata": {},
   "outputs": [
    {
     "name": "stdout",
     "output_type": "stream",
     "text": [
      "[('0', 4733), ('to', 3581), ('s', 2514), ('in', 2400), ('the', 1976)] [('virtuous', 1), ('circle', 1), ('yang', 1), ('economics', 1), ('align', 1)]\n"
     ]
    }
   ],
   "source": [
    "#確認\n",
    "print(word_count[:5], word_count[-5:])"
   ]
  },
  {
   "cell_type": "markdown",
   "metadata": {},
   "source": [
    "## 無名関数\n",
    "- 何？\n",
    "  - 名前がない関数\n",
    "- どう使う？\n",
    "  - lambda 引数1, 引数2:式\n",
    "- 何が嬉しい？\n",
    "  - 関数を短い記述で定義できる\n",
    "  \n",
    "## Counter()\n",
    "- "
   ]
  },
  {
   "cell_type": "code",
   "execution_count": 12,
   "metadata": {},
   "outputs": [],
   "source": [
    "###タプルの昇順にID番号を付与することで新たな辞書を作成###\n",
    "ID_dic = {}\n",
    "for i in range(len(word_count)):\n",
    "    if word_count[i][1] > 2:\n",
    "        ID_dic[word_count[i][0]] = i+1"
   ]
  },
  {
   "cell_type": "code",
   "execution_count": 13,
   "metadata": {},
   "outputs": [],
   "source": [
    "#確認\n",
    "#print(ID_dic)"
   ]
  },
  {
   "cell_type": "code",
   "execution_count": 14,
   "metadata": {},
   "outputs": [],
   "source": [
    "import pickle"
   ]
  },
  {
   "cell_type": "code",
   "execution_count": 15,
   "metadata": {},
   "outputs": [],
   "source": [
    "###中間生成物としてpickleで保存###\n",
    "with open('work/ID_dict.pickle', 'wb') as f:\n",
    "    pickle.dump(ID_dic, f)"
   ]
  },
  {
   "cell_type": "code",
   "execution_count": 16,
   "metadata": {},
   "outputs": [],
   "source": [
    "###単語列を入力としてID番号の列を出力とする関数を定義###\n",
    "def ID_output(wordlis):\n",
    "    result = [ID_dic[wordlis[i]] if wordlis[i] in ID_dic else 0 for i in range(len(wordlis))] #単語に対応する辞書のキーが存在していればバリューを返す\n",
    "    return result  #得られたリストを返す"
   ]
  },
  {
   "cell_type": "code",
   "execution_count": 17,
   "metadata": {},
   "outputs": [
    {
     "data": {
      "text/plain": [
       "[1, 0, 100, 0]"
      ]
     },
     "execution_count": 17,
     "metadata": {},
     "output_type": "execute_result"
    }
   ],
   "source": [
    "#確認\n",
    "ID_output(['0', 'align', 'i', 'あ'])"
   ]
  },
  {
   "cell_type": "code",
   "execution_count": 18,
   "metadata": {},
   "outputs": [
    {
     "name": "stdout",
     "output_type": "stream",
     "text": [
      "['update', '0', 'us', 'wins', 'car', 'import', 'duties', 'trade', 'case', 'against', 'china']\n"
     ]
    }
   ],
   "source": [
    "print(X_train[0].split())"
   ]
  },
  {
   "cell_type": "code",
   "execution_count": 19,
   "metadata": {},
   "outputs": [
    {
     "name": "stdout",
     "output_type": "stream",
     "text": [
      "tensor([[[ 0.6603, -0.2196, -0.3792,  0.7671, -0.4015],\n",
      "         [ 0.6957, -1.8061,  1.8960, -0.1750,  1.3689],\n",
      "         [-1.6033, -1.3250, -1.4096, -0.4076,  0.7953],\n",
      "         [ 0.9985,  0.2212,  1.8319, -0.3378,  0.8805]],\n",
      "\n",
      "        [[ 0.6603, -0.2196, -0.3792,  0.7671, -0.4015],\n",
      "         [ 0.9985,  0.2212,  1.8319, -0.3378,  0.8805],\n",
      "         [ 0.0000,  0.0000,  0.0000,  0.0000,  0.0000],\n",
      "         [ 0.0000,  0.0000,  0.0000,  0.0000,  0.0000]]],\n",
      "       grad_fn=<EmbeddingBackward0>)\n",
      "torch.Size([2, 4]) -> torch.Size([2, 4, 5])\n"
     ]
    }
   ],
   "source": [
    "# 語彙サイズを1つ大きく\n",
    "vocab_size = 4+1\n",
    "emb_dim = 5\n",
    "# padding_idx=0を追加\n",
    "embeddings = nn.Embedding(vocab_size, emb_dim, padding_idx=0)\n",
    "sents = torch.tensor([[1, 2, 3, 4],\n",
    "                     [1, 4, 0, 0]])\n",
    "embed_sents = embeddings(sents)\n",
    "print(embed_sents)\n",
    "print(sents.shape, '->', embed_sents.shape)"
   ]
  },
  {
   "cell_type": "code",
   "execution_count": 20,
   "metadata": {},
   "outputs": [],
   "source": [
    "#特徴量の前処理\n",
    "def feature_change(X):\n",
    "    X = [string.split() for string in X]\n",
    "    X = [torch.tensor(ID_output(word_lis)) for word_lis in X]\n",
    "    return X"
   ]
  },
  {
   "cell_type": "code",
   "execution_count": 21,
   "metadata": {},
   "outputs": [],
   "source": [
    "#ラベルの前処理\n",
    "def label_change(y):\n",
    "    dict_int = {'b\\n': '0', 't\\n': '1', 'e\\n': '2','m\\n': '3'}\n",
    "    for key, value in dict_int.items():\n",
    "        y = [label.replace(key, value) for label in y]\n",
    "    y = [int(label) for label in y]\n",
    "    return y"
   ]
  },
  {
   "cell_type": "code",
   "execution_count": 22,
   "metadata": {},
   "outputs": [],
   "source": [
    "y_train = label_change(y_train)\n",
    "y_valid = label_change(y_valid)\n",
    "y_test = label_change(y_test)\n",
    "X_train = feature_change(X_train)\n",
    "X_valid = feature_change(X_valid)\n",
    "X_test = feature_change(X_test)"
   ]
  },
  {
   "cell_type": "markdown",
   "metadata": {
    "id": "3-DPvxnyXg6Y"
   },
   "source": [
    "## 81. RNNによる予測\n",
    "ID番号で表現された単語列$\\boldsymbol{x} = (x_1, x_2, \\dots, x_T)$がある．ただし，$T$は単語列の長さ，$x_t \\in \\mathbb{R}^{V}$は単語のID番号のone-hot表記である（$V$は単語の総数である）．再帰型ニューラルネットワーク（RNN: Recurrent Neural Network）を用い，単語列$\\boldsymbol{x}$からカテゴリ$y$を予測するモデルとして，次式を実装せよ．\n",
    "\n",
    "\n",
    "$$\n",
    "\\overrightarrow h_0 = 0,\\\\\n",
    "\\overrightarrow h_t = {\\rm \\overrightarrow{RNN}}(\\mathrm{emb}(x_t), \\overrightarrow h_{t-1}), \\\\\n",
    "y = {\\rm softmax}(W^{(yh)} \\overrightarrow h_T + b^{(y)})\n",
    "$$\n",
    "\n",
    "\n",
    "ただし，$\\mathrm{emb}(x) \\in \\mathbb{R}^{d_w}$は単語埋め込み（単語のone-hot表記から単語ベクトルに変換する関数），$\\overrightarrow h_t \\in \\mathbb{R}^{d_h}$は時刻$t$の隠れ状態ベクトル，${\\rm \\overrightarrow{RNN}}(x,h)$は入力$x$と前時刻の隠れ状態$h$から次状態を計算するRNNユニット，$W^{(yh)} \\in \\mathbb{R}^{L \\times d_h}$は隠れ状態ベクトルからカテゴリを予測するための行列，$b^{(y)} \\in \\mathbb{R}^{L}$はバイアス項である（$d_w, d_h, L$はそれぞれ，単語埋め込みの次元数，隠れ状態ベクトルの次元数，ラベル数である）．RNNユニット${\\rm \\overrightarrow{RNN}}(x,h)$には様々な構成が考えられるが，典型例として次式が挙げられる．\n",
    "\n",
    "$$\n",
    "{\\rm \\overrightarrow{RNN}}(x,h) = g(W^{(hx)} x + W^{(hh)}h + b^{(h)})\n",
    "$$\n",
    "\n",
    "ただし，$W^{(hx)} \\in \\mathbb{R}^{d_h \\times d_w}，W^{(hh)} \\in \\mathbb{R}^{d_h \\times d_h}, b^{(h)} \\in \\mathbb{R}^{d_h}$はRNNユニットのパラメータ，$g$は活性化関数（例えば$\\tanh$やReLUなど）である．\n",
    "\n",
    "なお，この問題ではパラメータの学習を行わず，ランダムに初期化されたパラメータで$y$を計算するだけでよい．次元数などのハイパーパラメータは，$d_w = 300, d_h=50$など，適当な値に設定せよ（以降の問題でも同様である）．"
   ]
  },
  {
   "cell_type": "code",
   "execution_count": 23,
   "metadata": {},
   "outputs": [],
   "source": [
    "###RNNを定義###\n",
    "class myRNN(nn.Module):\n",
    "    def __init__(self , dic_size, emd_size, hidden, output, layer):\n",
    "        super().__init__()\n",
    "        self.layer = layer\n",
    "        self.hidden = hidden\n",
    "        self.emb = nn.Embedding(dic_size, emd_size, padding_idx=0)\n",
    "        self.rnn = nn.RNN(emd_size, hidden, layer, batch_first=True)\n",
    "        self.fc = nn.Linear(hidden, output)\n",
    "\n",
    "    def forward(self, x):\n",
    "        x = self.emb(x) #onehot->wordvec\n",
    "        batch_size = x.size()[0]\n",
    "        x_rnn, hn = self.rnn(x, torch.zeros(self.layer, batch_size, self.hidden)) #Noneは『torch.zeros(layer, batch_size(x.size(0)), hidden)』\n",
    "        y = self.fc(x_rnn[:, -1, :])\n",
    "        return y"
   ]
  },
  {
   "cell_type": "code",
   "execution_count": 24,
   "metadata": {},
   "outputs": [],
   "source": [
    "#ハイパーパラメータを定義\n",
    "dic_size, emb_size, hidden, output, layer = len(ID_dic)+1, 300, 50, 4, 2\n",
    "activation = nn.Softmax(dim=1)"
   ]
  },
  {
   "cell_type": "code",
   "execution_count": 25,
   "metadata": {},
   "outputs": [],
   "source": [
    "#datasetの定義\n",
    "class Mydatasets(torch.utils.data.Dataset):\n",
    "    def __init__(self, X, y, transform = None):\n",
    "        self.X = X\n",
    "        self.y = y\n",
    "\n",
    "    def __len__(self):\n",
    "        return len(self.X)\n",
    "\n",
    "    def __getitem__(self, idx):\n",
    "        feature = self.X[idx]\n",
    "        label = self.y[idx]\n",
    "\n",
    "        return feature.clone().detach(), label"
   ]
  },
  {
   "cell_type": "code",
   "execution_count": 26,
   "metadata": {},
   "outputs": [
    {
     "name": "stdout",
     "output_type": "stream",
     "text": [
      "(tensor([  54,   42,  124,  135,   31,    9,  179, 2055,   15,  415]), 0)\n"
     ]
    }
   ],
   "source": [
    "#datesetの確認\n",
    "print(Mydatasets(X_train, y_train)[1])"
   ]
  },
  {
   "cell_type": "code",
   "execution_count": 27,
   "metadata": {},
   "outputs": [],
   "source": [
    "#datasetの生成\n",
    "train = Mydatasets(X_train, y_train)\n",
    "valid = Mydatasets(X_valid, y_valid)\n",
    "test = Mydatasets(X_test, y_test)"
   ]
  },
  {
   "cell_type": "code",
   "execution_count": 28,
   "metadata": {},
   "outputs": [
    {
     "name": "stdout",
     "output_type": "stream",
     "text": [
      "tensor([[  10,    1,   11,  395,  331, 2953, 3737,  538,  221,  135,   25]])\n",
      "11\n",
      "tensor([[[0., 0., 0., 0., 0.],\n",
      "         [0., 0., 0., 0., 0.],\n",
      "         [0., 0., 0., 0., 0.]]])\n"
     ]
    }
   ],
   "source": [
    "print(train[0][0].unsqueeze(0)) #次元数を増やす\n",
    "print(train[0][0].size()[0])\n",
    "print(torch.zeros(1, 3, 5))"
   ]
  },
  {
   "cell_type": "code",
   "execution_count": 29,
   "metadata": {},
   "outputs": [
    {
     "name": "stdout",
     "output_type": "stream",
     "text": [
      "tensor([[0.2269, 0.3185, 0.2059, 0.2488]], grad_fn=<SoftmaxBackward0>)\n",
      "tensor(1)\n",
      "tensor([[0.2508, 0.3496, 0.2211, 0.1785]], grad_fn=<SoftmaxBackward0>)\n",
      "tensor(1)\n",
      "tensor([[0.2120, 0.3770, 0.2024, 0.2086]], grad_fn=<SoftmaxBackward0>)\n",
      "tensor(1)\n",
      "tensor([[0.2511, 0.2899, 0.2264, 0.2325]], grad_fn=<SoftmaxBackward0>)\n",
      "tensor(1)\n",
      "tensor([[0.2882, 0.3471, 0.1965, 0.1682]], grad_fn=<SoftmaxBackward0>)\n",
      "tensor(1)\n"
     ]
    }
   ],
   "source": [
    "rnn_model = myRNN(dic_size, emb_size, hidden, output, layer)\n",
    "for i in range(5):\n",
    "    print(activation(rnn_model(train[i][0].unsqueeze(0))))\n",
    "    print(torch.argmax(activation(rnn_model(train[i][0].unsqueeze(0)))))"
   ]
  },
  {
   "cell_type": "code",
   "execution_count": 30,
   "metadata": {},
   "outputs": [
    {
     "name": "stdout",
     "output_type": "stream",
     "text": [
      "(tensor([  10,    1,   11,  395,  331, 2953, 3737,  538,  221,  135,   25]), 0)\n"
     ]
    }
   ],
   "source": [
    "print(train[0])"
   ]
  },
  {
   "cell_type": "markdown",
   "metadata": {
    "id": "-Nk8aEnGnNWw"
   },
   "source": [
    "## 82. 確率的勾配降下法による学習\n",
    "\n",
    "確率的勾配降下法（SGD: Stochastic Gradient Descent）を用いて，問題81で構築したモデルを学習せよ．訓練データ上の損失と正解率，評価データ上の損失と正解率を表示しながらモデルを学習し，適当な基準（例えば10エポックなど）で終了させよ．\n",
    "\n"
   ]
  },
  {
   "cell_type": "code",
   "execution_count": 31,
   "metadata": {},
   "outputs": [],
   "source": [
    "train_dataloader = torch.utils.data.DataLoader(train, batch_size=1, shuffle=True)\n",
    "valid_dataloader = torch.utils.data.DataLoader(valid, batch_size=1, shuffle=True)"
   ]
  },
  {
   "cell_type": "code",
   "execution_count": 32,
   "metadata": {},
   "outputs": [],
   "source": [
    "#正解率、損失を計算する関数を定義\n",
    "def calculate_acc_loss(loss, outputs, feature, label, y_acc, y_loss):\n",
    "        \n",
    "    y_loss.append(loss)\n",
    "    y_label = torch.argmax(activation(outputs), dim=1)\n",
    "    acc = torch.sum(y_label == label) * 1.0 / len(feature)\n",
    "    y_acc.append(acc)  \n",
    "        \n",
    "    return y_acc, y_loss"
   ]
  },
  {
   "cell_type": "code",
   "execution_count": 33,
   "metadata": {},
   "outputs": [],
   "source": [
    "#エポックごとの正解率と損失を表示かつリストに格納\n",
    "def print_createlist(string ,acc, los, acc_list, los_list):\n",
    "\n",
    "    print(f'{string}データの正解率：{torch.tensor(acc).mean()*100}')\n",
    "    acc_list.append(torch.tensor(acc).mean().detach().numpy().copy()*100)\n",
    "    print(f'{string}データの損失：{torch.tensor(los).mean()}\\n')\n",
    "    los_list.append(torch.tensor(los).mean().detach().numpy().copy())\n",
    "    \n",
    "    return acc_list, los_list"
   ]
  },
  {
   "cell_type": "code",
   "execution_count": 34,
   "metadata": {},
   "outputs": [
    {
     "name": "stdout",
     "output_type": "stream",
     "text": [
      "エポック数：1\n",
      "訓練データの正解率：65.34532928466797\n",
      "訓練データの損失：0.9425491690635681\n",
      "\n",
      "検証データの正解率：72.86356353759766\n",
      "検証データの損失：0.8096944689750671\n",
      "\n",
      "エポック数：2\n",
      "訓練データの正解率：74.97891235351562\n",
      "訓練データの損失：0.7085590362548828\n",
      "\n",
      "検証データの正解率：76.01199340820312\n",
      "検証データの損失：0.6696087718009949\n",
      "\n",
      "エポック数：3\n",
      "訓練データの正解率：79.09286499023438\n",
      "訓練データの損失：0.5950667858123779\n",
      "\n",
      "検証データの正解率：73.61318969726562\n",
      "検証データの損失：0.7344800233840942\n",
      "\n",
      "エポック数：4\n",
      "訓練データの正解率：81.00459289550781\n",
      "訓練データの損失：0.5415205359458923\n",
      "\n",
      "検証データの正解率：75.41229248046875\n",
      "検証データの損失：0.7054842114448547\n",
      "\n",
      "エポック数：5\n",
      "訓練データの正解率：83.64727020263672\n",
      "訓練データの損失：0.46614545583724976\n",
      "\n",
      "検証データの正解率：77.2863540649414\n",
      "検証データの損失：0.666610836982727\n",
      "\n",
      "エポック数：6\n",
      "訓練データの正解率：84.93112182617188\n",
      "訓練データの損失：0.43103790283203125\n",
      "\n",
      "検証データの正解率：79.31034851074219\n",
      "検証データの損失：0.6027783751487732\n",
      "\n",
      "エポック数：7\n",
      "訓練データの正解率：86.8990707397461\n",
      "訓練データの損失：0.3841197192668915\n",
      "\n",
      "検証データの正解率：79.01049041748047\n",
      "検証データの損失：0.6750613451004028\n",
      "\n",
      "エポック数：8\n",
      "訓練データの正解率：86.5335922241211\n",
      "訓練データの損失：0.38659414649009705\n",
      "\n",
      "検証データの正解率：79.23538208007812\n",
      "検証データの損失：0.7039141058921814\n",
      "\n",
      "エポック数：9\n",
      "訓練データの正解率：81.75428771972656\n",
      "訓練データの損失：0.5293986797332764\n",
      "\n",
      "検証データの正解率：76.31184387207031\n",
      "検証データの損失：0.6904381513595581\n",
      "\n",
      "エポック数：10\n",
      "訓練データの正解率：85.18414306640625\n",
      "訓練データの損失：0.4253014326095581\n",
      "\n",
      "検証データの正解率：79.91004943847656\n",
      "検証データの損失：0.6730034947395325\n",
      "\n"
     ]
    }
   ],
   "source": [
    "#損失関数の定義\n",
    "loss_entropy = nn.CrossEntropyLoss()\n",
    "\n",
    "#最適化手法の決定\n",
    "optimizer = torch.optim.SGD(rnn_model.parameters(), lr=0.01)\n",
    "\n",
    "EPOCHS = 10\n",
    "epoch_list, acc_tra_list, los_tra_list = [], [], []\n",
    "acc_vali_list, los_vali_list = [], []\n",
    "\n",
    "for epoch in range(EPOCHS):\n",
    "    acc_tra, acc_vali = [], [] \n",
    "    los_tra, los_vali = [], []\n",
    "    for feature, label in train_dataloader:\n",
    "        \n",
    "        rnn_model.train()\n",
    "        optimizer.zero_grad()  # 重みとバイアスの更新で内部的に使用するデータをリセット\n",
    "        outputs = rnn_model(feature.long())  # 手順1：ニューラルネットワークにデータを入力\n",
    "        loss = loss_entropy(outputs, label)  # 手順2：正解ラベルとの比較\n",
    "        loss.backward()  # 手順3-1：誤差逆伝播\n",
    "        optimizer.step()  # 手順3-2：重みとバイアスの更新\n",
    "        \n",
    "        rnn_model.eval()\n",
    "        #損失と正解率を計算\n",
    "        acc_tra, los_tra = calculate_acc_loss(loss, outputs, feature, label, acc_tra, los_tra)\n",
    "        \n",
    "    # 全体の平均を算出\n",
    "    print(f'エポック数：{epoch+1}')\n",
    "    epoch_list.append(epoch+1)\n",
    "    acc_tra_list, los_tra_list = print_createlist('訓練', acc_tra, los_tra, acc_tra_list, los_tra_list)\n",
    "    \n",
    "    for feature, label in valid_dataloader:\n",
    "        \n",
    "        outputs = rnn_model(feature.long())  # 手順1：ニューラルネットワークにデータを入力\n",
    "        loss = loss_entropy(outputs, label)  # 手順2：正解ラベルとの比較\n",
    "        \n",
    "        #損失と正解率を計算\n",
    "        acc_vali, los_vali = calculate_acc_loss(loss, outputs, feature, label, acc_vali, los_vali)\n",
    "        \n",
    "    # 全体の平均を算出\n",
    "    acc_vali_list, los_vali_list = print_createlist('検証', acc_vali, los_vali, acc_vali_list, los_vali_list)"
   ]
  },
  {
   "cell_type": "code",
   "execution_count": 35,
   "metadata": {},
   "outputs": [],
   "source": [
    "#可視化関数\n",
    "def visible(epoch_list, acc_list1, los_list1, acc_list2, los_list2):\n",
    "    plt.figure()\n",
    "    plt.title(\"Accuracy Rate\")\n",
    "    plt.plot(epoch_list, acc_list1, label='train')\n",
    "    plt.plot(epoch_list, acc_list2, label='valid')\n",
    "    plt.xlabel('epoch')\n",
    "    plt.ylabel('accuracyrate')\n",
    "    plt.legend()\n",
    "    plt.show()\n",
    "\n",
    "    plt.figure()\n",
    "    plt.title(\"Loss\")\n",
    "    plt.plot(epoch_list, los_list1, label='train')\n",
    "    plt.plot(epoch_list, los_list2, label='valid')\n",
    "    plt.xlabel('epoch')\n",
    "    plt.ylabel('loss')\n",
    "    plt.legend()\n",
    "    plt.show()"
   ]
  },
  {
   "cell_type": "code",
   "execution_count": 36,
   "metadata": {},
   "outputs": [
    {
     "data": {
      "image/png": "[encoded data removed]",
      "text/plain": [
       "<Figure size 432x288 with 1 Axes>"
      ]
     },
     "metadata": {
      "needs_background": "light"
     },
     "output_type": "display_data"
    },
    {
     "data": {
      "image/png": "[encoded data removed]",
      "text/plain": [
       "<Figure size 432x288 with 1 Axes>"
      ]
     },
     "metadata": {
      "needs_background": "light"
     },
     "output_type": "display_data"
    }
   ],
   "source": [
    "visible(epoch_list, acc_tra_list, los_tra_list, acc_vali_list, los_vali_list)"
   ]
  },
  {
   "cell_type": "markdown",
   "metadata": {
    "id": "nupeZdZ979gD"
   },
   "source": [
    "## 83. ミニバッチ化・GPU上での学習\n",
    "\n",
    "問題82のコードを改変し，B事例ごとに損失・勾配を計算して学習を行えるようにせよ（Bの値は適当に選べ）．また，GPU上で学習を実行せよ．\n",
    "\n"
   ]
  },
  {
   "cell_type": "code",
   "execution_count": 37,
   "metadata": {},
   "outputs": [
    {
     "name": "stdout",
     "output_type": "stream",
     "text": [
      "cpu\n"
     ]
    }
   ],
   "source": [
    "# デバイスの割り当て\n",
    "device = torch.device(\"cuda:0\" if torch.cuda.is_available() else \"cpu\")\n",
    "print(device)"
   ]
  },
  {
   "cell_type": "code",
   "execution_count": 38,
   "metadata": {},
   "outputs": [],
   "source": [
    "def collate_fn(batch):\n",
    "    sorted_batch = sorted(batch, key=lambda x: x[0].shape[0], reverse=True)\n",
    "    sequences = [x[0] for x in sorted_batch]\n",
    "    sequences_padded = torch.nn.utils.rnn.pad_sequence(sequences, batch_first=True)\n",
    "    labels = torch.LongTensor([x[1] for x in sorted_batch])\n",
    "\n",
    "    return sequences_padded, labels"
   ]
  },
  {
   "cell_type": "code",
   "execution_count": 39,
   "metadata": {},
   "outputs": [],
   "source": [
    "train_dataloader = torch.utils.data.DataLoader(train, batch_size=2, shuffle=True, collate_fn=collate_fn)\n",
    "valid_dataloader = torch.utils.data.DataLoader(valid, batch_size=2, shuffle=True, collate_fn=collate_fn)"
   ]
  },
  {
   "cell_type": "code",
   "execution_count": 40,
   "metadata": {},
   "outputs": [
    {
     "name": "stdout",
     "output_type": "stream",
     "text": [
      "エポック数：1\n",
      "訓練データの正解率：86.27249145507812\n",
      "訓練データの損失：0.41689079999923706\n",
      "\n",
      "検証データの正解率：82.53373718261719\n",
      "検証データの損失：0.6012054085731506\n",
      "\n",
      "エポック数：2\n",
      "訓練データの正解率：88.46514129638672\n",
      "訓練データの損失：0.3493610620498657\n",
      "\n",
      "検証データの正解率：82.9085464477539\n",
      "検証データの損失：0.6308736205101013\n",
      "\n",
      "エポック数：3\n",
      "訓練データの正解率：88.74624633789062\n",
      "訓練データの損失：0.334105521440506\n",
      "\n",
      "検証データの正解率：81.48426055908203\n",
      "検証データの損失：0.5860291123390198\n",
      "\n",
      "エポック数：4\n",
      "訓練データの正解率：90.49850463867188\n",
      "訓練データの損失：0.2930736541748047\n",
      "\n",
      "検証データの正解率：79.38530731201172\n",
      "検証データの損失：0.6902260184288025\n",
      "\n",
      "エポック数：5\n",
      "訓練データの正解率：89.91754150390625\n",
      "訓練データの損失：0.3164742887020111\n",
      "\n",
      "検証データの正解率：81.03448486328125\n",
      "検証データの損失：0.6361472606658936\n",
      "\n",
      "エポック数：6\n",
      "訓練データの正解率：89.99250793457031\n",
      "訓練データの損失：0.30922847986221313\n",
      "\n",
      "検証データの正解率：83.13343811035156\n",
      "検証データの損失：0.6194121241569519\n",
      "\n",
      "エポック数：7\n",
      "訓練データの正解率：90.34857940673828\n",
      "訓練データの損失：0.2946694791316986\n",
      "\n",
      "検証データの正解率：80.95952606201172\n",
      "検証データの損失：0.5864523649215698\n",
      "\n",
      "エポック数：8\n",
      "訓練データの正解率：91.6604232788086\n",
      "訓練データの損失：0.25741010904312134\n",
      "\n",
      "検証データの正解率：83.2083969116211\n",
      "検証データの損失：0.5815446376800537\n",
      "\n",
      "エポック数：9\n",
      "訓練データの正解率：91.75411987304688\n",
      "訓練データの損失：0.2513701915740967\n",
      "\n",
      "検証データの正解率：82.68365478515625\n",
      "検証データの損失：0.6320701837539673\n",
      "\n",
      "エポック数：10\n",
      "訓練データの正解率：92.61619567871094\n",
      "訓練データの損失：0.23621459305286407\n",
      "\n",
      "検証データの正解率：82.98350524902344\n",
      "検証データの損失：0.6160722970962524\n",
      "\n"
     ]
    }
   ],
   "source": [
    "#損失関数の定義\n",
    "loss_entropy = nn.CrossEntropyLoss()\n",
    "\n",
    "#最適化手法の決定\n",
    "optimizer = torch.optim.SGD(rnn_model.parameters(), lr=0.01)\n",
    "\n",
    "EPOCHS = 10\n",
    "epoch_list, acc_tra_list, los_tra_list = [], [], []\n",
    "acc_vali_list, los_vali_list = [], []\n",
    "\n",
    "rnn_model.to(device)\n",
    "for epoch in range(EPOCHS):\n",
    "    acc_tra, acc_vali = [], [] \n",
    "    los_tra, los_vali = [], []\n",
    "    for feature, label in train_dataloader:\n",
    "        \n",
    "        rnn_model.train()\n",
    "        optimizer.zero_grad()  # 重みとバイアスの更新で内部的に使用するデータをリセット\n",
    "        outputs = rnn_model(feature.long())  # 手順1：ニューラルネットワークにデータを入力\n",
    "        loss = loss_entropy(outputs, label)  # 手順2：正解ラベルとの比較\n",
    "        loss.backward()  # 手順3-1：誤差逆伝播\n",
    "        optimizer.step()  # 手順3-2：重みとバイアスの更新\n",
    "        \n",
    "        #損失と正解率を計算\n",
    "        acc_tra, los_tra = calculate_acc_loss(loss, outputs, feature, label, acc_tra, los_tra)\n",
    "        \n",
    "    # 全体の平均を算出\n",
    "    print(f'エポック数：{epoch+1}')\n",
    "    epoch_list.append(epoch+1)\n",
    "    acc_tra_list, los_tra_list = print_createlist('訓練', acc_tra, los_tra, acc_tra_list, los_tra_list)\n",
    "    \n",
    "    for feature, label in valid_dataloader:\n",
    "        \n",
    "        outputs = rnn_model(feature.long())  # 手順1：ニューラルネットワークにデータを入力\n",
    "        loss = loss_entropy(outputs, label)  # 手順2：正解ラベルとの比較\n",
    "        \n",
    "        #損失と正解率を計算\n",
    "        acc_vali, los_vali = calculate_acc_loss(loss, outputs, feature, label, acc_vali, los_vali)\n",
    "        \n",
    "    # 全体の平均を算出\n",
    "    acc_vali_list, los_vali_list = print_createlist('検証', acc_vali, los_vali, acc_vali_list, los_vali_list)"
   ]
  },
  {
   "cell_type": "code",
   "execution_count": 41,
   "metadata": {},
   "outputs": [
    {
     "data": {
      "image/png": "[encoded data removed]",
      "text/plain": [
       "<Figure size 432x288 with 1 Axes>"
      ]
     },
     "metadata": {
      "needs_background": "light"
     },
     "output_type": "display_data"
    },
    {
     "data": {
      "image/png": "[encoded data removed]",
      "text/plain": [
       "<Figure size 432x288 with 1 Axes>"
      ]
     },
     "metadata": {
      "needs_background": "light"
     },
     "output_type": "display_data"
    }
   ],
   "source": [
    "visible(epoch_list, acc_tra_list, los_tra_list, acc_vali_list, los_vali_list)"
   ]
  },
  {
   "cell_type": "markdown",
   "metadata": {
    "id": "VLDNPNAbVmcZ"
   },
   "source": [
    "## 84. 単語ベクトルの導入\n",
    "事前学習済みの単語ベクトル（例えば，Google Newsデータセット（約1,000億単語）での学習済み単語ベクトル）で単語埋め込み$emb(x)$を初期化し，学習せよ．\n"
   ]
  },
  {
   "cell_type": "code",
   "execution_count": 42,
   "metadata": {},
   "outputs": [],
   "source": [
    "from pymagnitude import Magnitude"
   ]
  },
  {
   "cell_type": "code",
   "execution_count": 43,
   "metadata": {},
   "outputs": [],
   "source": [
    "#!wget -nc http://magnitude.plasticity.ai/word2vec/medium/GoogleNews-vectors-negative300.magnitude -P data/"
   ]
  },
  {
   "cell_type": "code",
   "execution_count": 44,
   "metadata": {},
   "outputs": [
    {
     "name": "stdout",
     "output_type": "stream",
     "text": [
      "[-1.688670e-02 -2.259160e-02  1.099916e-01  8.169500e-02 -6.845950e-02\n",
      " -3.468620e-02 -4.746530e-02 -3.605530e-02  5.111640e-02 -2.669920e-02\n",
      " -6.937230e-02 -2.806840e-02  8.169500e-02 -3.605530e-02  1.209450e-02\n",
      " -3.582720e-02 -1.779950e-02  6.343920e-02  1.757130e-02 -1.962510e-02\n",
      " -1.665850e-02  2.498770e-02  1.720000e-04 -7.804390e-02 -5.476760e-02\n",
      "  6.617750e-02 -7.941300e-02 -3.035040e-02 -7.804390e-02  4.700890e-02\n",
      "  5.408300e-02 -1.022329e-01 -4.609610e-02 -1.198040e-02  5.750600e-02\n",
      " -1.654440e-02 -7.393630e-02 -7.484910e-02  1.374900e-02  3.810910e-02\n",
      "  3.217600e-02  8.762820e-02  3.035040e-02  5.385480e-02 -1.061120e-02\n",
      "  1.551749e-01 -1.528930e-02  8.306420e-02 -9.721250e-02  2.122250e-02\n",
      " -5.790500e-03  5.590860e-02  3.480000e-03 -4.221700e-03  5.339840e-02\n",
      "  7.941300e-02 -1.113608e-01 -1.306440e-02 -5.659320e-02  1.158110e-02\n",
      "  3.605530e-02 -1.317850e-02 -2.202110e-02  8.329200e-03 -5.750600e-02\n",
      " -2.487360e-02  1.255090e-02 -1.454760e-02 -2.612870e-02 -2.339030e-02\n",
      " -1.745720e-02  5.887520e-02  2.624280e-02  7.074150e-02  2.008150e-02\n",
      " -9.721250e-02 -2.236340e-02  1.300730e-02  8.488980e-02  1.031457e-01\n",
      " -1.688670e-02 -3.925010e-02 -1.730000e-05 -4.449870e-02 -5.841880e-02\n",
      " -9.127940e-02 -7.028510e-02 -1.939690e-02  6.161360e-02  5.499580e-02\n",
      "  8.956800e-03  2.578640e-02 -4.404230e-02 -5.088820e-02  3.422980e-02\n",
      " -5.385480e-02  4.176030e-02 -6.572110e-02  6.800310e-02  2.099430e-02\n",
      " -5.163000e-03 -7.587600e-03  1.896900e-03  1.757130e-02 -3.263240e-02\n",
      " -2.555820e-02  1.015480e-02 -4.427050e-02  1.985330e-02  8.500400e-03\n",
      " -8.101000e-03  2.167890e-02 -6.663390e-02  9.310500e-02  5.180100e-02\n",
      "  1.209450e-02 -3.308880e-02 -2.590050e-02  1.615645e-01  7.530550e-02\n",
      " -1.140992e-01 -1.214016e-01 -4.541150e-02  3.742450e-02 -4.107570e-02\n",
      " -3.377340e-02  6.663390e-02 -3.993470e-02 -1.487854e-01  3.879370e-02\n",
      "  2.966580e-02  7.667470e-02 -8.991020e-02 -5.499580e-02 -2.533000e-02\n",
      " -7.302350e-02 -5.682140e-02 -2.316210e-02  5.613680e-02 -1.791360e-02\n",
      "  2.578640e-02 -4.193100e-03  2.019560e-02  3.240420e-02  4.176030e-02\n",
      "  1.186632e-01  7.713110e-02  7.667470e-02 -6.617750e-02  2.145070e-02\n",
      "  9.219220e-02 -4.198850e-02  1.825590e-02 -7.074150e-02 -4.022000e-03\n",
      " -5.499580e-02 -9.219220e-02 -5.271380e-02  6.070080e-02  9.173580e-02\n",
      "  7.309000e-04  1.837000e-02  1.017765e-01 -6.709030e-02  2.818250e-02\n",
      " -6.343920e-02  5.431120e-02 -7.473500e-03  1.305295e-01  6.845950e-02\n",
      " -5.590860e-02  8.260780e-02  6.024440e-02 -6.982870e-02  3.240420e-02\n",
      " -8.078220e-02  4.312950e-02  6.218400e-03 -9.356140e-02 -4.563970e-02\n",
      " -7.713110e-02 -1.150120e-01 -1.101060e-02 -9.903810e-02  8.625900e-02\n",
      " -8.671500e-03  1.013201e-01  2.361850e-02  9.470200e-03  1.989890e-01\n",
      "  6.024440e-02 -1.295030e-02  6.070080e-02 -5.408300e-02 -9.584300e-03\n",
      "  6.982870e-02  3.651200e-03 -9.584330e-02 -3.765270e-02 -1.250527e-01\n",
      " -1.072530e-02 -3.833730e-02  4.039110e-02  3.559900e-02 -1.711490e-02\n",
      "  2.441720e-02 -5.704960e-02 -6.731900e-03 -1.259655e-01  3.947830e-02\n",
      " -1.180930e-02 -1.386310e-02 -7.895660e-02  9.036660e-02 -5.066000e-02\n",
      "  9.070900e-03 -8.443340e-02  9.036660e-02 -3.308880e-02  2.738380e-02\n",
      " -4.746530e-02 -6.161360e-02  3.514260e-02 -3.582720e-02  1.576000e-03\n",
      " -4.016290e-02  5.841880e-02  1.369190e-02  7.986940e-02 -4.381410e-02\n",
      " -5.111640e-02 -1.169520e-02  9.903810e-02 -2.076610e-02  2.863890e-02\n",
      "  1.226570e-02 -8.306420e-02  5.750600e-02 -3.468620e-02 -7.850030e-02\n",
      " -5.088820e-02 -4.225000e-04 -3.445800e-02  2.567230e-02  2.818250e-02\n",
      "  3.925010e-02  4.290130e-02 -6.207000e-02  5.704960e-02 -4.107600e-03\n",
      "  5.568040e-02 -9.082300e-02 -3.103500e-02 -9.675610e-02  3.445800e-02\n",
      "  4.176030e-02  8.500400e-03 -5.636500e-02 -1.220860e-02  1.249390e-02\n",
      "  3.628350e-02 -3.879370e-02  3.171960e-02 -1.654440e-02  1.451342e-01\n",
      " -1.135290e-02 -6.617750e-02 -9.721250e-02 -2.139400e-03 -3.057860e-02\n",
      " -2.316210e-02  1.040585e-01  7.165430e-02 -6.480840e-02 -2.453130e-02\n",
      "  1.985330e-02 -1.113608e-01  7.302350e-02  2.728000e-04 -5.636500e-02\n",
      " -4.312950e-02 -2.076610e-02  1.688670e-02 -8.728600e-03 -3.856550e-02\n",
      " -3.856550e-02 -1.894050e-02  5.562300e-03  7.941300e-02 -1.312140e-02\n",
      "  1.419100e-03  4.358590e-02 -3.970650e-02  7.359400e-03  3.286060e-02\n",
      "  7.587600e-03 -1.061120e-02  1.643030e-02  1.154684e-01 -1.249390e-02]\n"
     ]
    }
   ],
   "source": [
    "model_m = Magnitude('data/GoogleNews-vectors-negative300.magnitude')\n",
    "print(model_m.query('United_States'))"
   ]
  },
  {
   "cell_type": "markdown",
   "metadata": {},
   "source": [
    "## 考え方\n",
    " 1. 学習済ベクトルを埋め込み層にロードがしたい\n",
    " 2. nn.Embedding.from_pretrainedを使用する\n",
    " 3. これを使用するには『行番号が単語に割り振られたインデックス（ここでは辞書番号＝インデックス）に対応しているベクトル』を作る\n",
    " 4. このベクトルをnn.Embedding.from_pretrainedの引数に与えてあげる"
   ]
  },
  {
   "cell_type": "code",
   "execution_count": 45,
   "metadata": {},
   "outputs": [
    {
     "name": "stdout",
     "output_type": "stream",
     "text": [
      "the\n"
     ]
    }
   ],
   "source": [
    "print(word_count[4][0])"
   ]
  },
  {
   "cell_type": "code",
   "execution_count": 46,
   "metadata": {},
   "outputs": [
    {
     "name": "stderr",
     "output_type": "stream",
     "text": [
      "<ipython-input-46-0671ec3a6611>:3: UserWarning: Creating a tensor from a list of numpy.ndarrays is extremely slow. Please consider converting the list to a single numpy.ndarray with numpy.array() before converting to a tensor. (Triggered internally at  /Users/distiller/project/conda/conda-bld/pytorch_1646755922314/work/torch/csrc/utils/tensor_new.cpp:210.)\n",
      "  weights = torch.tensor([model_m.query(word_count[i][0]) for i in range(len(word_count))]).float()\n"
     ]
    }
   ],
   "source": [
    "#分散表現行列weigtの各行は単語のベクトルであり、「行番号が単語のインデックス(辞書番号)」と対応している。\n",
    "\n",
    "weights = torch.tensor([model_m.query(word_count[i][0]) for i in range(len(word_count))]).float()"
   ]
  },
  {
   "cell_type": "code",
   "execution_count": 47,
   "metadata": {},
   "outputs": [
    {
     "name": "stdout",
     "output_type": "stream",
     "text": [
      "<class 'torch.Tensor'>\n"
     ]
    }
   ],
   "source": [
    "print(type(weights[0]))"
   ]
  },
  {
   "cell_type": "code",
   "execution_count": 48,
   "metadata": {},
   "outputs": [],
   "source": [
    "def collate_fn(batch):\n",
    "    sorted_batch = sorted(batch, key=lambda x: x[0].shape[0], reverse=True)\n",
    "    sequences = [x[0] for x in sorted_batch]\n",
    "    sequences_padded = torch.nn.utils.rnn.pad_sequence(sequences, batch_first=True)\n",
    "    labels = torch.LongTensor([x[1] for x in sorted_batch])\n",
    "\n",
    "    return sequences_padded.float(), labels"
   ]
  },
  {
   "cell_type": "code",
   "execution_count": 49,
   "metadata": {},
   "outputs": [],
   "source": [
    "train_dataloader = torch.utils.data.DataLoader(train, batch_size=2, shuffle=True, collate_fn=collate_fn)\n",
    "valid_dataloader = torch.utils.data.DataLoader(valid, batch_size=2, shuffle=True, collate_fn=collate_fn)"
   ]
  },
  {
   "cell_type": "code",
   "execution_count": 50,
   "metadata": {},
   "outputs": [],
   "source": [
    "###RNNを定義###\n",
    "class myRNN(nn.Module):\n",
    "    def __init__(self , emd_size, hidden, output, layer, weights):\n",
    "        super().__init__()\n",
    "        self.layer = layer\n",
    "        self.hidden = hidden\n",
    "        self.emb = nn.Embedding.from_pretrained(weights, padding_idx=0)\n",
    "        self.rnn = nn.RNN(emd_size, hidden, layer, batch_first=True)\n",
    "        self.fc = nn.Linear(hidden, output)\n",
    "\n",
    "    def forward(self, x):\n",
    "        x = self.emb(x).float() #onehot->wordvec\n",
    "        batch_size = x.size()[0]\n",
    "        x_rnn, hn = self.rnn(x, torch.zeros(self.layer, batch_size, self.hidden)) #Noneは『torch.zeros(layer, batch_size(x.size(0)), hidden)』\n",
    "        y = self.fc(x_rnn[:, -1, :])\n",
    "        return y"
   ]
  },
  {
   "cell_type": "code",
   "execution_count": 51,
   "metadata": {},
   "outputs": [
    {
     "name": "stdout",
     "output_type": "stream",
     "text": [
      "エポック数：1\n",
      "訓練データの正解率：42.353824615478516\n",
      "訓練データの損失：1.1707844734191895\n",
      "\n",
      "検証データの正解率：41.75412368774414\n",
      "検証データの損失：1.151363730430603\n",
      "\n",
      "エポック数：2\n",
      "訓練データの正解率：49.13793182373047\n",
      "訓練データの損失：1.1367303133010864\n",
      "\n",
      "検証データの正解率：59.37031555175781\n",
      "検証データの損失：1.0275030136108398\n",
      "\n",
      "エポック数：3\n",
      "訓練データの正解率：58.39580154418945\n",
      "訓練データの損失：1.0574984550476074\n",
      "\n",
      "検証データの正解率：51.12443542480469\n",
      "検証データの損失：1.0948008298873901\n",
      "\n",
      "エポック数：4\n",
      "訓練データの正解率：62.01274490356445\n",
      "訓練データの損失：1.0096176862716675\n",
      "\n",
      "検証データの正解率：48.50074768066406\n",
      "検証データの損失：1.347551703453064\n",
      "\n",
      "エポック数：5\n",
      "訓練データの正解率：63.60569763183594\n",
      "訓練データの損失：0.9818742871284485\n",
      "\n",
      "検証データの正解率：67.76612091064453\n",
      "検証データの損失：0.8970361351966858\n",
      "\n",
      "エポック数：6\n",
      "訓練データの正解率：64.32720947265625\n",
      "訓練データの損失：0.9651214480400085\n",
      "\n",
      "検証データの正解率：67.69115447998047\n",
      "検証データの損失：0.9151308536529541\n",
      "\n",
      "エポック数：7\n",
      "訓練データの正解率：65.48912811279297\n",
      "訓練データの損失：0.9486833214759827\n",
      "\n",
      "検証データの正解率：70.08995056152344\n",
      "検証データの損失：0.8684687614440918\n",
      "\n",
      "エポック数：8\n",
      "訓練データの正解率：66.48238372802734\n",
      "訓練データの損失：0.9295139908790588\n",
      "\n",
      "検証データの正解率：70.23987579345703\n",
      "検証データの損失：0.8536089658737183\n",
      "\n",
      "エポック数：9\n",
      "訓練データの正解率：66.96964263916016\n",
      "訓練データの損失：0.9184187650680542\n",
      "\n",
      "検証データの正解率：61.76911544799805\n",
      "検証データの損失：0.9690343141555786\n",
      "\n",
      "エポック数：10\n",
      "訓練データの正解率：67.63493347167969\n",
      "訓練データの損失：0.9050904512405396\n",
      "\n",
      "検証データの正解率：70.61469268798828\n",
      "検証データの損失：0.8644693493843079\n",
      "\n"
     ]
    }
   ],
   "source": [
    "emb_size, hidden, output, layer = 300, 50, 4, 2\n",
    "rnn_model = myRNN(emb_size, hidden, output, layer, weights)\n",
    "rnn_model = rnn_model.float()\n",
    "\n",
    "#損失関数の定義\n",
    "loss_entropy = nn.CrossEntropyLoss()\n",
    "\n",
    "#最適化手法の決定\n",
    "optimizer = torch.optim.SGD(rnn_model.parameters(), lr=0.01)\n",
    "\n",
    "EPOCHS = 10\n",
    "epoch_list, acc_tra_list, los_tra_list = [], [], []\n",
    "acc_vali_list, los_vali_list = [], []\n",
    "\n",
    "rnn_model.to(device)\n",
    "for epoch in range(EPOCHS):\n",
    "    acc_tra, acc_vali = [], [] \n",
    "    los_tra, los_vali = [], []\n",
    "    for feature, label in train_dataloader:\n",
    "        \n",
    "        rnn_model.train()\n",
    "        optimizer.zero_grad()  # 重みとバイアスの更新で内部的に使用するデータをリセット\n",
    "        outputs = rnn_model(feature.long())  # 手順1：ニューラルネットワークにデータを入力\n",
    "        loss = loss_entropy(outputs, label)  # 手順2：正解ラベルとの比較\n",
    "        loss.backward()  # 手順3-1：誤差逆伝播\n",
    "        optimizer.step()  # 手順3-2：重みとバイアスの更新\n",
    "        \n",
    "        #損失と正解率を計算\n",
    "        acc_tra, los_tra = calculate_acc_loss(loss, outputs, feature, label, acc_tra, los_tra)\n",
    "        \n",
    "    # 全体の平均を算出\n",
    "    print(f'エポック数：{epoch+1}')\n",
    "    epoch_list.append(epoch+1)\n",
    "    acc_tra_list, los_tra_list = print_createlist('訓練', acc_tra, los_tra, acc_tra_list, los_tra_list)\n",
    "    \n",
    "    for feature, label in valid_dataloader:\n",
    "        \n",
    "        outputs = rnn_model(feature.long())  # 手順1：ニューラルネットワークにデータを入力\n",
    "        loss = loss_entropy(outputs, label)  # 手順2：正解ラベルとの比較\n",
    "        \n",
    "        #損失と正解率を計算\n",
    "        acc_vali, los_vali = calculate_acc_loss(loss, outputs, feature, label, acc_vali, los_vali)\n",
    "        \n",
    "    # 全体の平均を算出\n",
    "    acc_vali_list, los_vali_list = print_createlist('検証', acc_vali, los_vali, acc_vali_list, los_vali_list)"
   ]
  },
  {
   "cell_type": "code",
   "execution_count": 52,
   "metadata": {},
   "outputs": [
    {
     "data": {
      "image/png": "[encoded data removed]",
      "text/plain": [
       "<Figure size 432x288 with 1 Axes>"
      ]
     },
     "metadata": {
      "needs_background": "light"
     },
     "output_type": "display_data"
    },
    {
     "data": {
      "image/png": "[encoded data removed]",
      "text/plain": [
       "<Figure size 432x288 with 1 Axes>"
      ]
     },
     "metadata": {
      "needs_background": "light"
     },
     "output_type": "display_data"
    }
   ],
   "source": [
    "visible(epoch_list, acc_tra_list, los_tra_list, acc_vali_list, los_vali_list)"
   ]
  },
  {
   "cell_type": "markdown",
   "metadata": {
    "id": "Ucr7k-26ITRG"
   },
   "source": [
    "## 85. 双方向RNN・多層化\n",
    "順方向と逆方向のRNNの両方を用いて入力テキストをエンコードし，モデルを学習せよ．\n",
    "\n",
    "$$\n",
    "\\overleftarrow h_{T+1} = 0, \\\\\n",
    "\\overleftarrow h_t = {\\rm \\overleftarrow{RNN}}(\\mathrm{emb}(x_t), \\overleftarrow h_{t+1}), \\\\\n",
    "y = {\\rm softmax}(W^{(yh)} [\\overrightarrow h_T; \\overleftarrow h_1] + b^{(y)})\n",
    "$$\n",
    "\n",
    "ただし，$\\overrightarrow h_t \\in \\mathbb{R}^{d_h}, \\overleftarrow h_t \\in \\mathbb{R}^{d_h}$はそれぞれ，順方向および逆方向のRNNで求めた時刻$t$の隠れ状態ベクトル，${\\rm \\overleftarrow{RNN}}(x,h)$は入力$x$と次時刻の隠れ状態$h$から前状態を計算するRNNユニット，$W^{(yh)} \\in \\mathbb{R}^{L \\times 2d_h}$は隠れ状態ベクトルからカテゴリを予測するための行列，$b^{(y)} \\in \\mathbb{R}^{L}$はバイアス項である．また，$[a; b]$はベクトル$a$と$b$の連結を表す。\n",
    "\n",
    "さらに，双方向RNNを多層化して実験せよ．\n"
   ]
  },
  {
   "cell_type": "code",
   "execution_count": 53,
   "metadata": {},
   "outputs": [],
   "source": [
    "###RNNを定義###\n",
    "class myRNN(nn.Module):\n",
    "    def __init__(self , emd_size, hidden, output, layer, weights):\n",
    "        super().__init__()\n",
    "        self.layer = layer\n",
    "        self.hidden = hidden\n",
    "        self.emb = nn.Embedding.from_pretrained(weights, padding_idx=0)\n",
    "        self.rnn = nn.RNN(emd_size, hidden, layer, batch_first=True)\n",
    "        self.fc = nn.Linear(hidden, output)\n",
    "\n",
    "    def forward(self, x):\n",
    "        x = self.emb(x) #onehot->wordvec\n",
    "        batch_size = x.size()[0]\n",
    "        x_rnn, hn = self.rnn(x, torch.zeros(self.layer, batch_size, self.hidden)) #Noneは『torch.zeros(layer, batch_size(x.size(0)), hidden)』\n",
    "        y = self.fc(x_rnn[:, -1, :])\n",
    "        return y"
   ]
  },
  {
   "cell_type": "code",
   "execution_count": 54,
   "metadata": {},
   "outputs": [
    {
     "name": "stdout",
     "output_type": "stream",
     "text": [
      "エポック数：1\n",
      "訓練データの正解率：42.30697250366211\n",
      "訓練データの損失：1.1708083152770996\n",
      "\n",
      "検証データの正解率：44.977508544921875\n",
      "検証データの損失：1.1493289470672607\n",
      "\n",
      "エポック数：2\n",
      "訓練データの正解率：47.31071853637695\n",
      "訓練データの損失：1.1488102674484253\n",
      "\n",
      "検証データの正解率：54.272865295410156\n",
      "検証データの損失：1.1014946699142456\n",
      "\n",
      "エポック数：3\n",
      "訓練データの正解率：57.796104431152344\n",
      "訓練データの損失：1.0654067993164062\n",
      "\n",
      "検証データの正解率：63.19340515136719\n",
      "検証データの損失：0.9753279685974121\n",
      "\n",
      "エポック数：4\n",
      "訓練データの正解率：61.647300720214844\n",
      "訓練データの損失：1.0129163265228271\n",
      "\n",
      "検証データの正解率：65.89205169677734\n",
      "検証データの損失：0.934833824634552\n",
      "\n",
      "エポック数：5\n",
      "訓練データの正解率：62.9685173034668\n",
      "訓練データの損失：0.9918192625045776\n",
      "\n",
      "検証データの正解率：67.69115447998047\n",
      "検証データの損失：0.9620694518089294\n",
      "\n",
      "エポック数：6\n",
      "訓練データの正解率：64.58020782470703\n",
      "訓練データの損失：0.9601008296012878\n",
      "\n",
      "検証データの正解率：68.21589660644531\n",
      "検証データの損失：0.9040620923042297\n",
      "\n",
      "エポック数：7\n",
      "訓練データの正解率：65.50787353515625\n",
      "訓練データの損失：0.9495037198066711\n",
      "\n",
      "検証データの正解率：63.94302749633789\n",
      "検証データの損失：0.9911661148071289\n",
      "\n",
      "エポック数：8\n",
      "訓練データの正解率：66.0044937133789\n",
      "訓練データの損失：0.9365935325622559\n",
      "\n",
      "検証データの正解率：57.19640350341797\n",
      "検証データの損失：1.082343578338623\n",
      "\n",
      "エポック数：9\n",
      "訓練データの正解率：66.85719299316406\n",
      "訓練データの損失：0.9197142720222473\n",
      "\n",
      "検証データの正解率：69.4902572631836\n",
      "検証データの損失：0.8809870481491089\n",
      "\n",
      "エポック数：10\n",
      "訓練データの正解率：67.6817855834961\n",
      "訓練データの損失：0.9115879535675049\n",
      "\n",
      "検証データの正解率：70.76461791992188\n",
      "検証データの損失：0.8566333651542664\n",
      "\n"
     ]
    }
   ],
   "source": [
    "emb_size, hidden, output, layer = 300, 50, 4, 2\n",
    "rnn_model = myRNN(emb_size, hidden, output, layer, weights)\n",
    "rnn_model = rnn_model.float()\n",
    "\n",
    "#損失関数の定義\n",
    "loss_entropy = nn.CrossEntropyLoss()\n",
    "\n",
    "#最適化手法の決定\n",
    "optimizer = torch.optim.SGD(rnn_model.parameters(), lr=0.01)\n",
    "\n",
    "EPOCHS = 10\n",
    "epoch_list, acc_tra_list, los_tra_list = [], [], []\n",
    "acc_vali_list, los_vali_list = [], []\n",
    "\n",
    "rnn_model.to(device)\n",
    "for epoch in range(EPOCHS):\n",
    "    acc_tra, acc_vali = [], [] \n",
    "    los_tra, los_vali = [], []\n",
    "    for feature, label in train_dataloader:\n",
    "        \n",
    "        rnn_model.train()\n",
    "        optimizer.zero_grad()  # 重みとバイアスの更新で内部的に使用するデータをリセット\n",
    "        outputs = rnn_model(feature.long())  # 手順1：ニューラルネットワークにデータを入力\n",
    "        loss = loss_entropy(outputs, label)  # 手順2：正解ラベルとの比較\n",
    "        loss.backward()  # 手順3-1：誤差逆伝播\n",
    "        optimizer.step()  # 手順3-2：重みとバイアスの更新\n",
    "        \n",
    "        #損失と正解率を計算\n",
    "        acc_tra, los_tra = calculate_acc_loss(loss, outputs, feature, label, acc_tra, los_tra)\n",
    "        \n",
    "    # 全体の平均を算出\n",
    "    print(f'エポック数：{epoch+1}')\n",
    "    epoch_list.append(epoch+1)\n",
    "    acc_tra_list, los_tra_list = print_createlist('訓練', acc_tra, los_tra, acc_tra_list, los_tra_list)\n",
    "    \n",
    "    for feature, label in valid_dataloader:\n",
    "        \n",
    "        outputs = rnn_model(feature.long())  # 手順1：ニューラルネットワークにデータを入力\n",
    "        loss = loss_entropy(outputs, label)  # 手順2：正解ラベルとの比較\n",
    "        \n",
    "        #損失と正解率を計算\n",
    "        acc_vali, los_vali = calculate_acc_loss(loss, outputs, feature, label, acc_vali, los_vali)\n",
    "        \n",
    "    # 全体の平均を算出\n",
    "    acc_vali_list, los_vali_list = print_createlist('検証', acc_vali, los_vali, acc_vali_list, los_vali_list)"
   ]
  },
  {
   "cell_type": "code",
   "execution_count": 55,
   "metadata": {},
   "outputs": [
    {
     "data": {
      "image/png": "[encoded data removed]",
      "text/plain": [
       "<Figure size 432x288 with 1 Axes>"
      ]
     },
     "metadata": {
      "needs_background": "light"
     },
     "output_type": "display_data"
    },
    {
     "data": {
      "image/png": "[encoded data removed]",
      "text/plain": [
       "<Figure size 432x288 with 1 Axes>"
      ]
     },
     "metadata": {
      "needs_background": "light"
     },
     "output_type": "display_data"
    }
   ],
   "source": [
    "visible(epoch_list, acc_tra_list, los_tra_list, acc_vali_list, los_vali_list)"
   ]
  },
  {
   "cell_type": "markdown",
   "metadata": {
    "id": "TIcy8hdzP8S3"
   },
   "source": [
    "## 86. 畳み込みニューラルネットワーク (CNN)\n",
    "ID番号で表現された単語列$\\boldsymbol x = (x_1, x_2, \\dots, x_T)$がある．ただし，$T$は単語列の長さ，$x_t \\in \\mathbb{R}^{V}$は単語のID番号のone-hot表記である（$V$は単語の総数である）．畳み込みニューラルネットワーク（CNN: Convolutional Neural Network）を用い，単語列$\\boldsymbol x$からカテゴリ$y$を予測するモデルを実装せよ．\n",
    "\n",
    "ただし，畳み込みニューラルネットワークの構成は以下の通りとする．\n",
    "\n",
    "+ 単語埋め込みの次元数: $d_w$\n",
    "+ 畳み込みのフィルターのサイズ: 3 トークン\n",
    "+ 畳み込みのストライド: 1 トークン\n",
    "+ 畳み込みのパディング: あり\n",
    "+ 畳み込み演算後の各時刻のベクトルの次元数: $d_h$\n",
    "+ 畳み込み演算後に最大値プーリング（max pooling）を適用し，入力文を$d_h$次元の隠れベクトルで表現\n",
    " すなわち，時刻$t$の特徴ベクトル$p_t \\in \\mathbb{R}^{d_h}$は次式で表される．\n",
    "\n",
    "$$\n",
    "p_t = g(W^{(px)} [\\mathrm{emb}(x_{t-1}); \\mathrm{emb}(x_t); \\mathrm{emb}(x_{t+1})] + b^{(p)})\n",
    "]\n",
    "$$\n",
    "\n",
    "ただし，$W^{(px)} \\in \\mathbb{R}^{d_h \\times 3d_w}, b^{(p)} \\in \\mathbb{R}^{d_h}$はCNNのパラメータ，$g$は活性化関数（例えば$\\tanh$やReLUなど），$[a; b; c]$はベクトル$a, b, c$の連結である．なお，行列$W^{(px)}$の列数が$3d_w$になるのは，3個のトークンの単語埋め込みを連結したものに対して，線形変換を行うためである．\n",
    "最大値プーリングでは，特徴ベクトルの次元毎に全時刻における最大値を取り，入力文書の特徴ベクトル$c \\in \\mathbb{R}^{d_h}$を求める．$c[i]$でベクトル$c$の$i$番目の次元の値を表すことにすると，最大値プーリングは次式で表される．\n",
    "\n",
    "$$\n",
    "c[i] = \\max_{1 \\leq t \\leq T} p_t[i]\n",
    "$$\n",
    "\n",
    "最後に，入力文書の特徴ベクトル$c$に行列$W^{(yc)} \\in \\mathbb{R}^{L \\times d_h}$とバイアス項$b^{(y)} \\in \\mathbb{R}^{L}$による線形変換とソフトマックス関数を適用し，カテゴリ$y$を予測する．\n",
    "\n",
    "$$\n",
    "y = {\\rm softmax}(W^{(yc)} c + b^{(y)})\n",
    "$$\n",
    "\n",
    "なお，この問題ではモデルの学習を行わず，ランダムに初期化された重み行列で$y$を計算するだけでよい．"
   ]
  },
  {
   "cell_type": "code",
   "execution_count": 56,
   "metadata": {},
   "outputs": [
    {
     "name": "stdout",
     "output_type": "stream",
     "text": [
      "10671 10663\n"
     ]
    }
   ],
   "source": [
    "subtrain = [train[i] for i in range(len(train)) if len(train[i][0]) > 2]\n",
    "print(len(train), len(subtrain))"
   ]
  },
  {
   "cell_type": "code",
   "execution_count": 57,
   "metadata": {},
   "outputs": [],
   "source": [
    "def collate_fn(batch):\n",
    "    sequences = [x[0] for x in batch]\n",
    "    sequences_padded = torch.nn.utils.rnn.pad_sequence(sequences, batch_first=True)\n",
    "    labels = torch.LongTensor([x[1] for x in batch])\n",
    "\n",
    "    return sequences_padded.long(), labels"
   ]
  },
  {
   "cell_type": "code",
   "execution_count": 58,
   "metadata": {},
   "outputs": [],
   "source": [
    "train_dataloader = torch.utils.data.DataLoader(subtrain, batch_size=1, shuffle=True, collate_fn=collate_fn)\n",
    "valid_dataloader = torch.utils.data.DataLoader(valid, batch_size=1, shuffle=True, collate_fn=collate_fn)"
   ]
  },
  {
   "cell_type": "code",
   "execution_count": 59,
   "metadata": {},
   "outputs": [],
   "source": [
    "class CNNnet(nn.Module):\n",
    "    def __init__(self):\n",
    "        super().__init__()\n",
    "        self.relu = nn.ReLU()\n",
    "        self.emb = nn.Embedding.from_pretrained(weights, padding_idx=0)\n",
    "        self.pool = nn.MaxPool2d(1, 50)\n",
    "        self.conv = nn.Conv2d(1, 50, (3, 300), stride=1, padding=0, bias=True)\n",
    "        self.fc = nn.Linear(50, 4, bias=True)\n",
    "\n",
    "    def forward(self, x):\n",
    "        x = self.emb(x)\n",
    "        #print(x.size())\n",
    "        x = self.conv(x)\n",
    "        #print(x.size())\n",
    "        x = self.relu(x)\n",
    "        #print(x.size())\n",
    "        x = self.pool(x)\n",
    "        x = torch.unsqueeze(x, dim=0)\n",
    "        x = torch.squeeze(x)\n",
    "        #print(x.size())\n",
    "        x = self.fc(x)\n",
    "        return torch.unsqueeze(x, 0)"
   ]
  },
  {
   "cell_type": "code",
   "execution_count": 60,
   "metadata": {},
   "outputs": [],
   "source": [
    "activation = nn.Softmax(dim=-1)"
   ]
  },
  {
   "cell_type": "code",
   "execution_count": 61,
   "metadata": {},
   "outputs": [
    {
     "name": "stdout",
     "output_type": "stream",
     "text": [
      "tensor([[0.2473, 0.2389, 0.2678, 0.2460]], grad_fn=<SoftmaxBackward0>)\n"
     ]
    }
   ],
   "source": [
    "cnn_model = CNNnet()\n",
    "for feature, label in train_dataloader:\n",
    "    y = activation(cnn_model(feature))\n",
    "    print(y)\n",
    "    break"
   ]
  },
  {
   "cell_type": "markdown",
   "metadata": {
    "id": "4lHrJE0yQs3u"
   },
   "source": [
    "## 87. 確率的勾配降下法によるCNNの学習\n",
    "確率的勾配降下法（SGD: Stochastic Gradient Descent）を用いて，問題86で構築したモデルを学習せよ．訓練データ上の損失と正解率，評価データ上の損失と正解率を表示しながらモデルを学習し，適当な基準（例えば10エポックなど）で終了させよ"
   ]
  },
  {
   "cell_type": "code",
   "execution_count": 62,
   "metadata": {},
   "outputs": [
    {
     "name": "stdout",
     "output_type": "stream",
     "text": [
      "エポック数：1\n",
      "訓練データの正解率：57.26343536376953\n",
      "訓練データの損失：1.051978588104248\n",
      "\n",
      "検証データの正解率：64.09294891357422\n",
      "検証データの損失：0.9379636645317078\n",
      "\n",
      "エポック数：2\n",
      "訓練データの正解率：65.59130096435547\n",
      "訓練データの損失：0.9055342674255371\n",
      "\n",
      "検証データの正解率：66.71664428710938\n",
      "検証データの損失：0.880232572555542\n",
      "\n",
      "エポック数：3\n",
      "訓練データの正解率：68.58295440673828\n",
      "訓練データの損失：0.8394582867622375\n",
      "\n",
      "検証データの正解率：67.31634521484375\n",
      "検証データの損失：0.8514860272407532\n",
      "\n",
      "エポック数：4\n",
      "訓練データの正解率：70.41170501708984\n",
      "訓練データの損失：0.7918699383735657\n",
      "\n",
      "検証データの正解率：69.64017486572266\n",
      "検証データの損失：0.8234251141548157\n",
      "\n",
      "エポック数：5\n",
      "訓練データの正解率：71.0963134765625\n",
      "訓練データの損失：0.7539796829223633\n",
      "\n",
      "検証データの正解率：69.04047393798828\n",
      "検証データの損失：0.8242834210395813\n",
      "\n",
      "エポック数：6\n",
      "訓練データの正解率：72.6624755859375\n",
      "訓練データの損失：0.7152491211891174\n",
      "\n",
      "検証データの正解率：69.86506652832031\n",
      "検証データの損失：0.8111003041267395\n",
      "\n",
      "エポック数：7\n",
      "訓練データの正解率：74.59439086914062\n",
      "訓練データの損失：0.6792858839035034\n",
      "\n",
      "検証データの正解率：70.08995056152344\n",
      "検証データの損失：0.8071768283843994\n",
      "\n",
      "エポック数：8\n",
      "訓練データの正解率：76.24495697021484\n",
      "訓練データの損失：0.6432497501373291\n",
      "\n",
      "検証データの正解率：70.61469268798828\n",
      "検証データの損失：0.7994498014450073\n",
      "\n",
      "エポック数：9\n",
      "訓練データの正解率：77.67044830322266\n",
      "訓練データの損失：0.6058382391929626\n",
      "\n",
      "検証データの正解率：70.3148422241211\n",
      "検証データの損失：0.8039299845695496\n",
      "\n",
      "エポック数：10\n",
      "訓練データの正解率：79.15220642089844\n",
      "訓練データの損失：0.5705620050430298\n",
      "\n",
      "検証データの正解率：69.1904067993164\n",
      "検証データの損失：0.8216270804405212\n",
      "\n"
     ]
    }
   ],
   "source": [
    "#損失関数の定義\n",
    "loss_entropy = nn.CrossEntropyLoss()\n",
    "\n",
    "#最適化手法の決定\n",
    "optimizer = torch.optim.SGD(cnn_model.parameters(), lr=0.01)\n",
    "\n",
    "EPOCHS = 10\n",
    "epoch_list, acc_tra_list, los_tra_list = [], [], []\n",
    "acc_vali_list, los_vali_list = [], []\n",
    "\n",
    "cnn_model.to(device)\n",
    "for epoch in range(EPOCHS):\n",
    "    acc_tra, acc_vali = [], [] \n",
    "    los_tra, los_vali = [], []\n",
    "    for feature, label in train_dataloader:\n",
    "        \n",
    "        cnn_model.train()\n",
    "        optimizer.zero_grad()  # 重みとバイアスの更新で内部的に使用するデータをリセット\n",
    "        outputs = cnn_model(feature)  # 手順1：ニューラルネットワークにデータを入力\n",
    "        loss = loss_entropy(outputs, label)  # 手順2：正解ラベルとの比較\n",
    "        loss.backward()  # 手順3-1：誤差逆伝播\n",
    "        optimizer.step()  # 手順3-2：重みとバイアスの更新\n",
    "        \n",
    "        #損失と正解率を計算\n",
    "        acc_tra, los_tra = calculate_acc_loss(loss, outputs, feature, label, acc_tra, los_tra)\n",
    "        \n",
    "    # 全体の平均を算出\n",
    "    print(f'エポック数：{epoch+1}')\n",
    "    epoch_list.append(epoch+1)\n",
    "    acc_tra_list, los_tra_list = print_createlist('訓練', acc_tra, los_tra, acc_tra_list, los_tra_list)\n",
    "    \n",
    "    for feature, label in valid_dataloader:\n",
    "        \n",
    "        outputs = cnn_model(feature)  # 手順1：ニューラルネットワークにデータを入力\n",
    "        loss = loss_entropy(outputs, label)  # 手順2：正解ラベルとの比較\n",
    "        \n",
    "        #損失と正解率を計算\n",
    "        acc_vali, los_vali = calculate_acc_loss(loss, outputs, feature, label, acc_vali, los_vali)\n",
    "        \n",
    "    # 全体の平均を算出\n",
    "    acc_vali_list, los_vali_list = print_createlist('検証', acc_vali, los_vali, acc_vali_list, los_vali_list)"
   ]
  },
  {
   "cell_type": "code",
   "execution_count": 63,
   "metadata": {},
   "outputs": [
    {
     "data": {
      "image/png": "[encoded data removed]",
      "text/plain": [
       "<Figure size 432x288 with 1 Axes>"
      ]
     },
     "metadata": {
      "needs_background": "light"
     },
     "output_type": "display_data"
    },
    {
     "data": {
      "image/png": "[encoded data removed]",
      "text/plain": [
       "<Figure size 432x288 with 1 Axes>"
      ]
     },
     "metadata": {
      "needs_background": "light"
     },
     "output_type": "display_data"
    }
   ],
   "source": [
    "visible(epoch_list, acc_tra_list, los_tra_list, acc_vali_list, los_vali_list)"
   ]
  },
  {
   "cell_type": "markdown",
   "metadata": {
    "id": "wFpytluk_yrP"
   },
   "source": [
    "## 88. パラメータチューニング\n",
    "\n",
    "問題85や問題87のコードを改変し，ニューラルネットワークの形状やハイパーパラメータを調整しながら，高性能なカテゴリ分類器を構築せよ．"
   ]
  },
  {
   "cell_type": "code",
   "execution_count": 64,
   "metadata": {},
   "outputs": [],
   "source": [
    "train_dataloader = torch.utils.data.DataLoader(subtrain, batch_size=1, shuffle=True, collate_fn=collate_fn)\n",
    "valid_dataloader = torch.utils.data.DataLoader(valid, batch_size=1, shuffle=True, collate_fn=collate_fn)"
   ]
  },
  {
   "cell_type": "code",
   "execution_count": 65,
   "metadata": {},
   "outputs": [],
   "source": [
    "class CNNnet(nn.Module):\n",
    "    def __init__(self):\n",
    "        super().__init__()\n",
    "        self.relu = nn.ReLU()\n",
    "        self.emb = nn.Embedding.from_pretrained(weights, padding_idx=0)\n",
    "        self.pool1 = nn.MaxPool2d(1, 50)\n",
    "        self.pool2 = nn.MaxPool2d(1, 25)\n",
    "        self.conv1 = nn.Conv2d(1, 50, (3, 300), stride=1, padding=0, bias=True)\n",
    "        self.conv2 = nn.Conv2d(50, 3, (1, 1), stride=1, padding=0, bias=True)\n",
    "        self.fc1 = nn.Linear(3, 10, bias=True)\n",
    "        self.fc2 = nn.Linear(10, 4, bias=True)\n",
    "        self.dropout = nn.Dropout(p=0.5)\n",
    "\n",
    "    def forward(self, x):\n",
    "        x = self.emb(x)\n",
    "        #print(x.size())\n",
    "        x = self.conv1(x)\n",
    "        #print(x.size())\n",
    "        x = self.relu(x)\n",
    "        #print(x.size())\n",
    "        x = self.pool1(x)\n",
    "        \n",
    "        x = self.conv2(x)\n",
    "        #print(x.size())\n",
    "        x = self.relu(x)\n",
    "        #print(x.size())\n",
    "        x = self.pool2(x)\n",
    "        x = torch.unsqueeze(x, dim=0)\n",
    "        x = torch.squeeze(x)\n",
    "        #print(x.size())\n",
    "        x = self.fc1(x)\n",
    "        x = self.relu(x)\n",
    "        x = self.fc2(x)\n",
    "        return torch.unsqueeze(x, 0)"
   ]
  },
  {
   "cell_type": "code",
   "execution_count": 66,
   "metadata": {},
   "outputs": [
    {
     "name": "stdout",
     "output_type": "stream",
     "text": [
      "tensor([[0.2234, 0.1958, 0.2004, 0.3805]], grad_fn=<SoftmaxBackward0>)\n"
     ]
    }
   ],
   "source": [
    "cnn_model = CNNnet()\n",
    "for feature, label in train_dataloader:\n",
    "    y = activation(cnn_model(feature))\n",
    "    print(y)\n",
    "    break"
   ]
  },
  {
   "cell_type": "code",
   "execution_count": 67,
   "metadata": {},
   "outputs": [
    {
     "name": "stdout",
     "output_type": "stream",
     "text": [
      "エポック数：1\n",
      "訓練データの正解率：41.076622009277344\n",
      "訓練データの損失：1.171904444694519\n",
      "\n",
      "検証データの正解率：43.77811050415039\n",
      "検証データの損失：1.1447962522506714\n",
      "\n",
      "エポック数：2\n",
      "訓練データの正解率：55.256492614746094\n",
      "訓練データの損失：1.07037353515625\n",
      "\n",
      "検証データの正解率：64.91754150390625\n",
      "検証データの損失：0.9623293876647949\n",
      "\n",
      "エポック数：3\n",
      "訓練データの正解率：65.60067749023438\n",
      "訓練データの損失：0.9316269159317017\n",
      "\n",
      "検証データの正解率：66.41679382324219\n",
      "検証データの損失：0.8845635652542114\n",
      "\n",
      "エポック数：4\n",
      "訓練データの正解率：68.4047622680664\n",
      "訓練データの損失：0.8652235865592957\n",
      "\n",
      "検証データの正解率：68.44078063964844\n",
      "検証データの損失：0.862423300743103\n",
      "\n",
      "エポック数：5\n",
      "訓練データの正解率：70.98377227783203\n",
      "訓練データの損失：0.7993330955505371\n",
      "\n",
      "検証データの正解率：67.54122924804688\n",
      "検証データの損失：0.8438098430633545\n",
      "\n",
      "エポック数：6\n",
      "訓練データの正解率：72.69998931884766\n",
      "訓練データの損失：0.7330060601234436\n",
      "\n",
      "検証データの正解率：66.04197692871094\n",
      "検証データの損失：0.9978116750717163\n",
      "\n",
      "エポック数：7\n",
      "訓練データの正解率：74.556884765625\n",
      "訓練データの損失：0.6760262250900269\n",
      "\n",
      "検証データの正解率：69.1904067993164\n",
      "検証データの損失：0.8578848242759705\n",
      "\n",
      "エポック数：8\n",
      "訓練データの正解率：76.47941589355469\n",
      "訓練データの損失：0.6186725497245789\n",
      "\n",
      "検証データの正解率：67.54122924804688\n",
      "検証データの損失：0.8622835278511047\n",
      "\n",
      "エポック数：9\n",
      "訓練データの正解率：77.86739349365234\n",
      "訓練データの損失：0.5786125659942627\n",
      "\n",
      "検証データの正解率：69.34033203125\n",
      "検証データの損失：0.9102766513824463\n",
      "\n",
      "エポック数：10\n",
      "訓練データの正解率：78.79583740234375\n",
      "訓練データの損失：0.5412876605987549\n",
      "\n",
      "検証データの正解率：67.99100494384766\n",
      "検証データの損失：0.9237908124923706\n",
      "\n"
     ]
    }
   ],
   "source": [
    "#損失関数の定義\n",
    "loss_entropy = nn.CrossEntropyLoss()\n",
    "\n",
    "#最適化手法の決定\n",
    "optimizer = torch.optim.SGD(cnn_model.parameters(), lr=0.01)\n",
    "\n",
    "EPOCHS = 10\n",
    "epoch_list, acc_tra_list, los_tra_list = [], [], []\n",
    "acc_vali_list, los_vali_list = [], []\n",
    "\n",
    "cnn_model.to(device)\n",
    "for epoch in range(EPOCHS):\n",
    "    acc_tra, acc_vali = [], [] \n",
    "    los_tra, los_vali = [], []\n",
    "    for feature, label in train_dataloader:\n",
    "        \n",
    "        cnn_model.train()\n",
    "        optimizer.zero_grad()  # 重みとバイアスの更新で内部的に使用するデータをリセット\n",
    "        outputs = cnn_model(feature)  # 手順1：ニューラルネットワークにデータを入力\n",
    "        loss = loss_entropy(outputs, label)  # 手順2：正解ラベルとの比較\n",
    "        loss.backward()  # 手順3-1：誤差逆伝播\n",
    "        optimizer.step()  # 手順3-2：重みとバイアスの更新\n",
    "        \n",
    "        #損失と正解率を計算\n",
    "        acc_tra, los_tra = calculate_acc_loss(loss, outputs, feature, label, acc_tra, los_tra)\n",
    "        \n",
    "    # 全体の平均を算出\n",
    "    print(f'エポック数：{epoch+1}')\n",
    "    epoch_list.append(epoch+1)\n",
    "    acc_tra_list, los_tra_list = print_createlist('訓練', acc_tra, los_tra, acc_tra_list, los_tra_list)\n",
    "    \n",
    "    for feature, label in valid_dataloader:\n",
    "        \n",
    "        outputs = cnn_model(feature)  # 手順1：ニューラルネットワークにデータを入力\n",
    "        loss = loss_entropy(outputs, label)  # 手順2：正解ラベルとの比較\n",
    "        \n",
    "        #損失と正解率を計算\n",
    "        acc_vali, los_vali = calculate_acc_loss(loss, outputs, feature, label, acc_vali, los_vali)\n",
    "        \n",
    "    # 全体の平均を算出\n",
    "    acc_vali_list, los_vali_list = print_createlist('検証', acc_vali, los_vali, acc_vali_list, los_vali_list)"
   ]
  },
  {
   "cell_type": "code",
   "execution_count": 68,
   "metadata": {},
   "outputs": [
    {
     "data": {
      "image/png": "[encoded data removed]",
      "text/plain": [
       "<Figure size 432x288 with 1 Axes>"
      ]
     },
     "metadata": {
      "needs_background": "light"
     },
     "output_type": "display_data"
    },
    {
     "data": {
      "image/png": "[encoded data removed]",
      "text/plain": [
       "<Figure size 432x288 with 1 Axes>"
      ]
     },
     "metadata": {
      "needs_background": "light"
     },
     "output_type": "display_data"
    }
   ],
   "source": [
    "visible(epoch_list, acc_tra_list, los_tra_list, acc_vali_list, los_vali_list)"
   ]
  },
  {
   "attachments": {
    "6838595a-e53b-4d0d-afdd-578d56524426.png": {
     "image/png": "[encoded data removed]"
    },
    "80c03095-ffdc-452a-a4f4-938ad6b4f2e4.png": {
     "image/png": "[encoded data removed]"
    }
   },
   "cell_type": "markdown",
   "metadata": {},
   "source": [
    "## ドロップアウトの効果\n",
    "＜ドロップアウトあり＞\n",
    "<img src=\"attachment:6838595a-e53b-4d0d-afdd-578d56524426.png\" width=◯%>\n",
    "\n",
    "＜ドロップアウトなし＞\n",
    "<img src=\"attachment:80c03095-ffdc-452a-a4f4-938ad6b4f2e4.png\" width=◯%>"
   ]
  },
  {
   "cell_type": "code",
   "execution_count": 69,
   "metadata": {},
   "outputs": [],
   "source": [
    "train_dataloader = torch.utils.data.DataLoader(subtrain, batch_size=1, shuffle=True, collate_fn=collate_fn)\n",
    "valid_dataloader = torch.utils.data.DataLoader(valid, batch_size=1, shuffle=True, collate_fn=collate_fn)"
   ]
  },
  {
   "cell_type": "code",
   "execution_count": 70,
   "metadata": {},
   "outputs": [],
   "source": [
    "class CNNnet(nn.Module):\n",
    "    def __init__(self):\n",
    "        super().__init__()\n",
    "        self.relu = nn.ReLU()\n",
    "        self.emb = nn.Embedding.from_pretrained(weights, padding_idx=0)\n",
    "        self.pool1 = nn.MaxPool2d(1, 50)\n",
    "        self.pool2 = nn.MaxPool2d(1, 25)\n",
    "        self.conv1 = nn.Conv2d(1, 50, (3, 300), stride=1, padding=0, bias=True)\n",
    "        self.conv2 = nn.Conv2d(50, 3, (1, 1), stride=1, padding=0, bias=True)\n",
    "        self.fc1 = nn.Linear(3, 10, bias=True)\n",
    "        self.fc2 = nn.Linear(10, 4, bias=True)\n",
    "\n",
    "    def forward(self, x):\n",
    "        x = self.emb(x)\n",
    "        #print(x.size())\n",
    "        x = self.conv1(x)\n",
    "        #print(x.size())\n",
    "        x = self.relu(x)\n",
    "        #print(x.size())\n",
    "        x = self.pool1(x)\n",
    "        \n",
    "        x = self.conv2(x)\n",
    "        #print(x.size())\n",
    "        x = self.relu(x)\n",
    "        #print(x.size())\n",
    "        x = self.pool2(x)\n",
    "        x = torch.unsqueeze(x, dim=0)\n",
    "        x = torch.squeeze(x)\n",
    "        #print(x.size())\n",
    "        x = self.fc1(x)\n",
    "        x = self.relu(x)\n",
    "        x = self.fc2(x)\n",
    "        return torch.unsqueeze(x, 0)"
   ]
  },
  {
   "cell_type": "code",
   "execution_count": 71,
   "metadata": {},
   "outputs": [
    {
     "name": "stdout",
     "output_type": "stream",
     "text": [
      "エポック数：1\n",
      "訓練データの正解率：80.87779998779297\n",
      "訓練データの損失：0.498970627784729\n",
      "\n",
      "検証データの正解率：65.59220886230469\n",
      "検証データの損失：0.9964852333068848\n",
      "\n",
      "エポック数：2\n",
      "訓練データの正解率：81.64682006835938\n",
      "訓練データの損失：0.47750672698020935\n",
      "\n",
      "検証データの正解率：67.24137878417969\n",
      "検証データの損失：0.9659866094589233\n",
      "\n",
      "エポック数：3\n",
      "訓練データの正解率：82.72531127929688\n",
      "訓練データの損失：0.45601585507392883\n",
      "\n",
      "検証データの正解率：65.36731719970703\n",
      "検証データの損失：1.0155426263809204\n",
      "\n",
      "エポック数：4\n",
      "訓練データの正解率：83.65375518798828\n",
      "訓練データの損失：0.4335750639438629\n",
      "\n",
      "検証データの正解率：67.0914535522461\n",
      "検証データの損失：1.0505512952804565\n",
      "\n",
      "エポック数：5\n",
      "訓練データの正解率：84.225830078125\n",
      "訓練データの損失：0.4160127341747284\n",
      "\n",
      "検証データの正解率：67.9160385131836\n",
      "検証データの損失：1.1744062900543213\n",
      "\n",
      "エポック数：6\n",
      "訓練データの正解率：84.90106201171875\n",
      "訓練データの損失：0.39421120285987854\n",
      "\n",
      "検証データの正解率：67.16641998291016\n",
      "検証データの損失：1.1036690473556519\n",
      "\n",
      "エポック数：7\n",
      "訓練データの正解率：85.5669174194336\n",
      "訓練データの損失：0.37827685475349426\n",
      "\n",
      "検証データの正解率：65.21739196777344\n",
      "検証データの損失：1.1054372787475586\n",
      "\n",
      "エポック数：8\n",
      "訓練データの正解率：86.39219665527344\n",
      "訓練データの損失：0.3588027358055115\n",
      "\n",
      "検証データの正解率：66.86656188964844\n",
      "検証データの損失：1.173830509185791\n",
      "\n",
      "エポック数：9\n",
      "訓練データの正解率：86.14836120605469\n",
      "訓練データの損失：0.36131608486175537\n",
      "\n",
      "検証データの正解率：67.16641998291016\n",
      "検証データの損失：1.2512626647949219\n",
      "\n",
      "エポック数：10\n",
      "訓練データの正解率：87.1518325805664\n",
      "訓練データの損失：0.3457047641277313\n",
      "\n",
      "検証データの正解率：66.04197692871094\n",
      "検証データの損失：1.1774152517318726\n",
      "\n"
     ]
    }
   ],
   "source": [
    "#損失関数の定義\n",
    "loss_entropy = nn.CrossEntropyLoss()\n",
    "\n",
    "#最適化手法の決定\n",
    "optimizer = torch.optim.SGD(cnn_model.parameters(), lr=0.01)\n",
    "\n",
    "EPOCHS = 10\n",
    "epoch_list, acc_tra_list, los_tra_list = [], [], []\n",
    "acc_vali_list, los_vali_list = [], []\n",
    "\n",
    "cnn_model.to(device)\n",
    "for epoch in range(EPOCHS):\n",
    "    acc_tra, acc_vali = [], [] \n",
    "    los_tra, los_vali = [], []\n",
    "    for feature, label in train_dataloader:\n",
    "        \n",
    "        cnn_model.train()\n",
    "        optimizer.zero_grad()  # 重みとバイアスの更新で内部的に使用するデータをリセット\n",
    "        outputs = cnn_model(feature)  # 手順1：ニューラルネットワークにデータを入力\n",
    "        loss = loss_entropy(outputs, label)  # 手順2：正解ラベルとの比較\n",
    "        loss.backward()  # 手順3-1：誤差逆伝播\n",
    "        optimizer.step()  # 手順3-2：重みとバイアスの更新\n",
    "        \n",
    "        #損失と正解率を計算\n",
    "        acc_tra, los_tra = calculate_acc_loss(loss, outputs, feature, label, acc_tra, los_tra)\n",
    "        \n",
    "    # 全体の平均を算出\n",
    "    print(f'エポック数：{epoch+1}')\n",
    "    epoch_list.append(epoch+1)\n",
    "    acc_tra_list, los_tra_list = print_createlist('訓練', acc_tra, los_tra, acc_tra_list, los_tra_list)\n",
    "    \n",
    "    for feature, label in valid_dataloader:\n",
    "        \n",
    "        outputs = cnn_model(feature)  # 手順1：ニューラルネットワークにデータを入力\n",
    "        loss = loss_entropy(outputs, label)  # 手順2：正解ラベルとの比較\n",
    "        \n",
    "        #損失と正解率を計算\n",
    "        acc_vali, los_vali = calculate_acc_loss(loss, outputs, feature, label, acc_vali, los_vali)\n",
    "        \n",
    "    # 全体の平均を算出\n",
    "    acc_vali_list, los_vali_list = print_createlist('検証', acc_vali, los_vali, acc_vali_list, los_vali_list)"
   ]
  },
  {
   "cell_type": "code",
   "execution_count": 72,
   "metadata": {},
   "outputs": [
    {
     "data": {
      "image/png": "[encoded data removed]",
      "text/plain": [
       "<Figure size 432x288 with 1 Axes>"
      ]
     },
     "metadata": {
      "needs_background": "light"
     },
     "output_type": "display_data"
    },
    {
     "data": {
      "image/png": "[encoded data removed]",
      "text/plain": [
       "<Figure size 432x288 with 1 Axes>"
      ]
     },
     "metadata": {
      "needs_background": "light"
     },
     "output_type": "display_data"
    }
   ],
   "source": [
    "visible(epoch_list, acc_tra_list, los_tra_list, acc_vali_list, los_vali_list)"
   ]
  },
  {
   "cell_type": "markdown",
   "metadata": {},
   "source": [
    "## 89. 事前学習済み言語モデルからの転移学習\n",
    "\n",
    "事前学習済み言語モデル（例えばBERTなど）を出発点として，ニュース記事見出しをカテゴリに分類するモデルを構築せよ．"
   ]
  },
  {
   "cell_type": "code",
   "execution_count": 73,
   "metadata": {},
   "outputs": [],
   "source": [
    "import transformers\n",
    "from transformers import BertModel \n",
    "from transformers import BertTokenizer\n",
    "from transformers import BertForSequenceClassification"
   ]
  },
  {
   "cell_type": "code",
   "execution_count": 74,
   "metadata": {},
   "outputs": [
    {
     "name": "stdout",
     "output_type": "stream",
     "text": [
      "{'input_ids': [[101, 1045, 2572, 1037, 3076, 1012, 102, 1045, 2572, 1996, 3076, 1012, 102]], 'token_type_ids': [[0, 0, 0, 0, 0, 0, 0, 1, 1, 1, 1, 1, 1]], 'attention_mask': [[1, 1, 1, 1, 1, 1, 1, 1, 1, 1, 1, 1, 1]]}\n"
     ]
    }
   ],
   "source": [
    "tokenizer = BertTokenizer.from_pretrained(\"bert-base-uncased\")\n",
    "print(tokenizer(['I am a student.'], ['I am the student.']))"
   ]
  },
  {
   "cell_type": "markdown",
   "metadata": {},
   "source": [
    "## 考え方\n",
    "1. タイトルの単語列を要素とするリストを用意\n",
    "2. 特徴量のインデックスと対応したラベルのtensorデータを作る\n",
    "3. データセットを作る\n",
    "4. bertモデルを作る\n",
    "5. 学習させる"
   ]
  },
  {
   "cell_type": "code",
   "execution_count": 75,
   "metadata": {},
   "outputs": [],
   "source": [
    "#特徴量とラベルを分ける関数を定義\n",
    "def feature_label(lis):\n",
    "    X, y = [], []\n",
    "    for i in range(len(lis)):\n",
    "        X.append(lis[i].split('\\t')[0])\n",
    "        y.append(lis[i].split('\\t')[1])\n",
    "    return X, y"
   ]
  },
  {
   "cell_type": "code",
   "execution_count": 76,
   "metadata": {},
   "outputs": [],
   "source": [
    "###ファイルから文字列を取得###\n",
    "with open('data/train.txt') as tr, open('data/valid.txt') as va, open('data/test.txt') as te: \n",
    "    train, valid, test = tr.readlines()[1:], va.readlines()[1:], te.readlines()[1:]\n",
    "    \n",
    "X_train, y_train = feature_label(train)\n",
    "X_valid, y_valid = feature_label(valid)\n",
    "X_test, y_test = feature_label(test)"
   ]
  },
  {
   "cell_type": "code",
   "execution_count": 77,
   "metadata": {},
   "outputs": [],
   "source": [
    "#ラベルの前処理\n",
    "def label_change(y):\n",
    "    dict_int = {'b\\n': '0', 't\\n': '1', 'e\\n': '2','m\\n': '3'}\n",
    "    for key, value in dict_int.items():\n",
    "        y = [label.replace(key, value) for label in y]\n",
    "    y = [int(label) for label in y]\n",
    "    return y\n",
    "\n",
    "y_train = torch.tensor(label_change(y_train))\n",
    "y_valid = torch.tensor(label_change(y_valid))\n",
    "y_test = torch.tensor(label_change(y_test))"
   ]
  },
  {
   "cell_type": "code",
   "execution_count": 78,
   "metadata": {},
   "outputs": [],
   "source": [
    "#datasetの定義\n",
    "class Mydatasets(torch.utils.data.Dataset):\n",
    "    def __init__(self, X, y, transform = None):\n",
    "        self.X = X\n",
    "        self.y = y\n",
    "\n",
    "    def __len__(self):\n",
    "        return len(self.X)\n",
    "\n",
    "    def __getitem__(self, idx):\n",
    "        feature = self.X[idx]\n",
    "        label = self.y[idx]\n",
    "\n",
    "        return feature, label"
   ]
  },
  {
   "cell_type": "code",
   "execution_count": 79,
   "metadata": {},
   "outputs": [],
   "source": [
    "train = Mydatasets(X_train, y_train)\n",
    "valid = Mydatasets(X_valid, y_valid)"
   ]
  },
  {
   "cell_type": "code",
   "execution_count": 80,
   "metadata": {},
   "outputs": [
    {
     "name": "stdout",
     "output_type": "stream",
     "text": [
      "('update 0 us wins car import duties trade case against china', tensor(0))\n"
     ]
    }
   ],
   "source": [
    "print(train[0])"
   ]
  },
  {
   "cell_type": "code",
   "execution_count": 81,
   "metadata": {},
   "outputs": [],
   "source": [
    "train_dataloader = torch.utils.data.DataLoader(train, batch_size=1024, shuffle=True)\n",
    "valid_dataloader = torch.utils.data.DataLoader(valid, batch_size=1024, shuffle=True)"
   ]
  },
  {
   "cell_type": "code",
   "execution_count": 82,
   "metadata": {},
   "outputs": [
    {
     "name": "stderr",
     "output_type": "stream",
     "text": [
      "Some weights of the model checkpoint at bert-base-uncased were not used when initializing BertForSequenceClassification: ['cls.predictions.transform.dense.bias', 'cls.seq_relationship.bias', 'cls.predictions.bias', 'cls.predictions.transform.dense.weight', 'cls.predictions.transform.LayerNorm.bias', 'cls.seq_relationship.weight', 'cls.predictions.transform.LayerNorm.weight', 'cls.predictions.decoder.weight']\n",
      "- This IS expected if you are initializing BertForSequenceClassification from the checkpoint of a model trained on another task or with another architecture (e.g. initializing a BertForSequenceClassification model from a BertForPreTraining model).\n",
      "- This IS NOT expected if you are initializing BertForSequenceClassification from the checkpoint of a model that you expect to be exactly identical (initializing a BertForSequenceClassification model from a BertForSequenceClassification model).\n",
      "Some weights of BertForSequenceClassification were not initialized from the model checkpoint at bert-base-uncased and are newly initialized: ['classifier.weight', 'classifier.bias']\n",
      "You should probably TRAIN this model on a down-stream task to be able to use it for predictions and inference.\n"
     ]
    }
   ],
   "source": [
    "#ニューラルネットワーク構築\n",
    "class NeuralNetwork(torch.nn.Module):\n",
    "    def __init__(self):\n",
    "        super().__init__()\n",
    "        self.bert = BertForSequenceClassification.from_pretrained('bert-base-uncased', num_labels=4)\n",
    "        \n",
    "    def forward(self, x, y):\n",
    "        y = self.bert(torch.tensor(x['input_ids']), attention_mask=torch.tensor(x['attention_mask']), token_type_ids=torch.tensor(x['token_type_ids']), labels=y)\n",
    "        return y['loss'], y['logits']\n",
    "    \n",
    "model = NeuralNetwork()"
   ]
  },
  {
   "cell_type": "code",
   "execution_count": 83,
   "metadata": {},
   "outputs": [],
   "source": [
    "#正解率、損失を計算する関数を定義\n",
    "def calculate_acc_loss(loss, outputs, feature, label, y_acc, y_loss):\n",
    "        \n",
    "    y_loss.append(loss)\n",
    "    y_label = torch.argmax(activation(outputs), dim=1)\n",
    "    acc = torch.sum(y_label == label) * 1.0 / len(feature)\n",
    "    y_acc.append(acc)  \n",
    "        \n",
    "    return y_acc, y_loss"
   ]
  },
  {
   "cell_type": "code",
   "execution_count": null,
   "metadata": {},
   "outputs": [
    {
     "name": "stdout",
     "output_type": "stream",
     "text": [
      "エポック数：1\n",
      "訓練データの正解率：61.28975296020508\n",
      "訓練データの損失：0.951121985912323\n",
      "\n",
      "検証データの正解率：82.67023468017578\n",
      "検証データの損失：0.47536346316337585\n",
      "\n",
      "エポック数：2\n",
      "訓練データの正解率：85.71619415283203\n",
      "訓練データの損失：0.43679699301719666\n",
      "\n",
      "検証データの正解率：89.3928451538086\n",
      "検証データの損失：0.324261337518692\n",
      "\n"
     ]
    }
   ],
   "source": [
    "#損失関数の定義\n",
    "loss_entropy = nn.CrossEntropyLoss()\n",
    "\n",
    "#最適化手法の決定\n",
    "optimizer = torch.optim.SGD(model.parameters(), lr=0.01)\n",
    "\n",
    "EPOCHS = 10\n",
    "epoch_list, acc_tra_list, los_tra_list = [], [], []\n",
    "acc_vali_list, los_vali_list = [], []\n",
    "\n",
    "tokenizer = BertTokenizer.from_pretrained(\"bert-base-uncased\", return_tensors=\"pt\")\n",
    "\n",
    "cnn_model.to(device)\n",
    "for epoch in range(EPOCHS):\n",
    "    acc_tra, acc_vali = [], [] \n",
    "    los_tra, los_vali = [], []\n",
    "    for feature, label in train_dataloader:\n",
    "        \n",
    "        model.train()\n",
    "        optimizer.zero_grad()  # 重みとバイアスの更新で内部的に使用するデータをリセット\n",
    "        x = tokenizer(feature, padding=True)\n",
    "        loss, outputs = model(x, label)  # 手順1：ニューラルネットワークにデータを入力\n",
    "        loss.backward()  # 手順3-1：誤差逆伝播\n",
    "        optimizer.step()  # 手順3-2：重みとバイアスの更新\n",
    "        \n",
    "        #損失と正解率を計算\n",
    "        acc_tra, los_tra = calculate_acc_loss(loss, outputs, x['input_ids'], label, acc_tra, los_tra)\n",
    "        \n",
    "    # 全体の平均を算出\n",
    "    print(f'エポック数：{epoch+1}')\n",
    "    epoch_list.append(epoch+1)\n",
    "    acc_tra_list, los_tra_list = print_createlist('訓練', acc_tra, los_tra, acc_tra_list, los_tra_list)\n",
    "    \n",
    "    for feature, label in valid_dataloader:\n",
    "        x = tokenizer(feature, padding=True)\n",
    "        loss, outputs = model(x, label)  # 手順1：ニューラルネットワークにデータを入力\n",
    "        \n",
    "        #損失と正解率を計算\n",
    "        acc_vali, los_vali = calculate_acc_loss(loss, outputs, x['input_ids'], label, acc_vali, los_vali)\n",
    "        \n",
    "    # 全体の平均を算出\n",
    "    acc_vali_list, los_vali_list = print_createlist('検証', acc_vali, los_vali, acc_vali_list, los_vali_list)"
   ]
  },
  {
   "cell_type": "code",
   "execution_count": null,
   "metadata": {},
   "outputs": [],
   "source": [
    "visible(epoch_list, acc_tra_list, los_tra_list, acc_vali_list, los_vali_list)"
   ]
  },
  {
   "cell_type": "code",
   "execution_count": null,
   "metadata": {},
   "outputs": [],
   "source": []
  }
 ],
 "metadata": {
  "accelerator": "GPU",
  "colab": {
   "authorship_tag": "ABX9TyM6mJ/prpVDASVZzGAKuVLM",
   "collapsed_sections": [],
   "name": "Chapter9.ipynb",
   "provenance": []
  },
  "kernelspec": {
   "display_name": "Python 3",
   "language": "python",
   "name": "python3"
  },
  "language_info": {
   "codemirror_mode": {
    "name": "ipython",
    "version": 3
   },
   "file_extension": ".py",
   "mimetype": "text/x-python",
   "name": "python",
   "nbconvert_exporter": "python",
   "pygments_lexer": "ipython3",
   "version": "3.8.8"
  }
 },
 "nbformat": 4,
 "nbformat_minor": 4
}
